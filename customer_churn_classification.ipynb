{
 "cells": [
  {
   "attachments": {},
   "cell_type": "markdown",
   "metadata": {},
   "source": [
    "# Отток клиентов"
   ]
  },
  {
   "attachments": {},
   "cell_type": "markdown",
   "metadata": {},
   "source": [
    "Начал наблюдаться уход клиентов из банка. Банковские маркетологи посчитали: сохранять текущих клиентов дешевле, чем привлекать новых.\n",
    "\n",
    "Необходимо спрогнозировать, уйдёт клиент из банка в ближайшее время или нет. У нас есть исторические данные о поведении клиентов и расторжении договоров с банком. \n",
    "\n",
    "Задача - построить модель с предельно большим значением *F1*-меры. Целевое значение метрики - не ниже 0.59.\n",
    "\n",
    "Также необходимо дополнительно измерять *AUC-ROC* и сравнивать её значение с *F1*-мерой.\n",
    "\n",
    "Источник данных: [https://www.kaggle.com/barelydedicated/bank-customer-churn-modeling](https://www.kaggle.com/barelydedicated/bank-customer-churn-modeling)"
   ]
  },
  {
   "attachments": {},
   "cell_type": "markdown",
   "metadata": {},
   "source": [
    "## Подготовка данных"
   ]
  },
  {
   "attachments": {},
   "cell_type": "markdown",
   "metadata": {},
   "source": [
    "### Подготовим неоходимые для работы библиотеки"
   ]
  },
  {
   "cell_type": "code",
   "execution_count": 273,
   "metadata": {},
   "outputs": [],
   "source": [
    "import pandas as pd\n",
    "\n",
    "from sklearn.tree import DecisionTreeClassifier\n",
    "from sklearn.ensemble import RandomForestClassifier\n",
    "from sklearn.linear_model import LogisticRegression\n",
    "from sklearn.dummy import DummyClassifier\n",
    "\n",
    "from sklearn.model_selection import train_test_split\n",
    "from sklearn.utils import shuffle\n",
    "from sklearn.preprocessing import StandardScaler \n",
    "\n",
    "from sklearn.metrics import accuracy_score\n",
    "from sklearn.metrics import f1_score\n",
    "from sklearn.metrics import roc_auc_score"
   ]
  },
  {
   "attachments": {},
   "cell_type": "markdown",
   "metadata": {},
   "source": [
    "### Изучим данные внутри датафрейма и сделаем необходимую предобработку"
   ]
  },
  {
   "cell_type": "code",
   "execution_count": 274,
   "metadata": {},
   "outputs": [
    {
     "data": {
      "text/plain": [
       "(10000, 14)"
      ]
     },
     "metadata": {},
     "output_type": "display_data"
    },
    {
     "data": {
      "text/html": [
       "<div>\n",
       "<style scoped>\n",
       "    .dataframe tbody tr th:only-of-type {\n",
       "        vertical-align: middle;\n",
       "    }\n",
       "\n",
       "    .dataframe tbody tr th {\n",
       "        vertical-align: top;\n",
       "    }\n",
       "\n",
       "    .dataframe thead th {\n",
       "        text-align: right;\n",
       "    }\n",
       "</style>\n",
       "<table border=\"1\" class=\"dataframe\">\n",
       "  <thead>\n",
       "    <tr style=\"text-align: right;\">\n",
       "      <th></th>\n",
       "      <th>RowNumber</th>\n",
       "      <th>CustomerId</th>\n",
       "      <th>Surname</th>\n",
       "      <th>CreditScore</th>\n",
       "      <th>Geography</th>\n",
       "      <th>Gender</th>\n",
       "      <th>Age</th>\n",
       "      <th>Tenure</th>\n",
       "      <th>Balance</th>\n",
       "      <th>NumOfProducts</th>\n",
       "      <th>HasCrCard</th>\n",
       "      <th>IsActiveMember</th>\n",
       "      <th>EstimatedSalary</th>\n",
       "      <th>Exited</th>\n",
       "    </tr>\n",
       "  </thead>\n",
       "  <tbody>\n",
       "    <tr>\n",
       "      <th>0</th>\n",
       "      <td>1</td>\n",
       "      <td>15634602</td>\n",
       "      <td>Hargrave</td>\n",
       "      <td>619</td>\n",
       "      <td>France</td>\n",
       "      <td>Female</td>\n",
       "      <td>42</td>\n",
       "      <td>2.0</td>\n",
       "      <td>0.00</td>\n",
       "      <td>1</td>\n",
       "      <td>1</td>\n",
       "      <td>1</td>\n",
       "      <td>101348.88</td>\n",
       "      <td>1</td>\n",
       "    </tr>\n",
       "    <tr>\n",
       "      <th>1</th>\n",
       "      <td>2</td>\n",
       "      <td>15647311</td>\n",
       "      <td>Hill</td>\n",
       "      <td>608</td>\n",
       "      <td>Spain</td>\n",
       "      <td>Female</td>\n",
       "      <td>41</td>\n",
       "      <td>1.0</td>\n",
       "      <td>83807.86</td>\n",
       "      <td>1</td>\n",
       "      <td>0</td>\n",
       "      <td>1</td>\n",
       "      <td>112542.58</td>\n",
       "      <td>0</td>\n",
       "    </tr>\n",
       "    <tr>\n",
       "      <th>2</th>\n",
       "      <td>3</td>\n",
       "      <td>15619304</td>\n",
       "      <td>Onio</td>\n",
       "      <td>502</td>\n",
       "      <td>France</td>\n",
       "      <td>Female</td>\n",
       "      <td>42</td>\n",
       "      <td>8.0</td>\n",
       "      <td>159660.80</td>\n",
       "      <td>3</td>\n",
       "      <td>1</td>\n",
       "      <td>0</td>\n",
       "      <td>113931.57</td>\n",
       "      <td>1</td>\n",
       "    </tr>\n",
       "    <tr>\n",
       "      <th>3</th>\n",
       "      <td>4</td>\n",
       "      <td>15701354</td>\n",
       "      <td>Boni</td>\n",
       "      <td>699</td>\n",
       "      <td>France</td>\n",
       "      <td>Female</td>\n",
       "      <td>39</td>\n",
       "      <td>1.0</td>\n",
       "      <td>0.00</td>\n",
       "      <td>2</td>\n",
       "      <td>0</td>\n",
       "      <td>0</td>\n",
       "      <td>93826.63</td>\n",
       "      <td>0</td>\n",
       "    </tr>\n",
       "    <tr>\n",
       "      <th>4</th>\n",
       "      <td>5</td>\n",
       "      <td>15737888</td>\n",
       "      <td>Mitchell</td>\n",
       "      <td>850</td>\n",
       "      <td>Spain</td>\n",
       "      <td>Female</td>\n",
       "      <td>43</td>\n",
       "      <td>2.0</td>\n",
       "      <td>125510.82</td>\n",
       "      <td>1</td>\n",
       "      <td>1</td>\n",
       "      <td>1</td>\n",
       "      <td>79084.10</td>\n",
       "      <td>0</td>\n",
       "    </tr>\n",
       "  </tbody>\n",
       "</table>\n",
       "</div>"
      ],
      "text/plain": [
       "   RowNumber  CustomerId   Surname  CreditScore Geography  Gender  Age  \\\n",
       "0          1    15634602  Hargrave          619    France  Female   42   \n",
       "1          2    15647311      Hill          608     Spain  Female   41   \n",
       "2          3    15619304      Onio          502    France  Female   42   \n",
       "3          4    15701354      Boni          699    France  Female   39   \n",
       "4          5    15737888  Mitchell          850     Spain  Female   43   \n",
       "\n",
       "   Tenure    Balance  NumOfProducts  HasCrCard  IsActiveMember  \\\n",
       "0     2.0       0.00              1          1               1   \n",
       "1     1.0   83807.86              1          0               1   \n",
       "2     8.0  159660.80              3          1               0   \n",
       "3     1.0       0.00              2          0               0   \n",
       "4     2.0  125510.82              1          1               1   \n",
       "\n",
       "   EstimatedSalary  Exited  \n",
       "0        101348.88       1  \n",
       "1        112542.58       0  \n",
       "2        113931.57       1  \n",
       "3         93826.63       0  \n",
       "4         79084.10       0  "
      ]
     },
     "metadata": {},
     "output_type": "display_data"
    },
    {
     "name": "stdout",
     "output_type": "stream",
     "text": [
      "<class 'pandas.core.frame.DataFrame'>\n",
      "RangeIndex: 10000 entries, 0 to 9999\n",
      "Data columns (total 14 columns):\n",
      " #   Column           Non-Null Count  Dtype  \n",
      "---  ------           --------------  -----  \n",
      " 0   RowNumber        10000 non-null  int64  \n",
      " 1   CustomerId       10000 non-null  int64  \n",
      " 2   Surname          10000 non-null  object \n",
      " 3   CreditScore      10000 non-null  int64  \n",
      " 4   Geography        10000 non-null  object \n",
      " 5   Gender           10000 non-null  object \n",
      " 6   Age              10000 non-null  int64  \n",
      " 7   Tenure           9091 non-null   float64\n",
      " 8   Balance          10000 non-null  float64\n",
      " 9   NumOfProducts    10000 non-null  int64  \n",
      " 10  HasCrCard        10000 non-null  int64  \n",
      " 11  IsActiveMember   10000 non-null  int64  \n",
      " 12  EstimatedSalary  10000 non-null  float64\n",
      " 13  Exited           10000 non-null  int64  \n",
      "dtypes: float64(3), int64(8), object(3)\n",
      "memory usage: 1.1+ MB\n"
     ]
    },
    {
     "data": {
      "text/plain": [
       "None"
      ]
     },
     "metadata": {},
     "output_type": "display_data"
    }
   ],
   "source": [
    "pd.set_option('display.max_columns', None) #будем отображать все столбцы\n",
    "data = pd.read_csv('/datasets/Churn.csv') #читаем файл в переменную data\n",
    "display(data.shape); #выведем размер датасета\n",
    "display(data.head()); #выведем первые 5 строк датасета\n",
    "display(data.info()); #выведем информацию о типах данных и пропусках в датасете"
   ]
  },
  {
   "attachments": {},
   "cell_type": "markdown",
   "metadata": {},
   "source": [
    "**Признаки:**\n",
    "- RowNumber — индекс строки в данных\n",
    "- CustomerId — уникальный идентификатор клиента\n",
    "- Surname — фамилия\n",
    "- CreditScore — кредитный рейтинг\n",
    "- Geography — страна проживания\n",
    "- Gender — пол\n",
    "- Age — возраст\n",
    "- Tenure — сколько лет человек является клиентом банка\n",
    "- Balance — баланс на счёте\n",
    "- NumOfProducts — количество продуктов банка, используемых клиентом\n",
    "- HasCrCard — наличие кредитной карты\n",
    "- IsActiveMember — активность клиента\n",
    "- EstimatedSalary — предполагаемая зарплата\n",
    "\n",
    "**Целевой признак:**\n",
    "- Exited — факт ухода клиента"
   ]
  },
  {
   "cell_type": "code",
   "execution_count": 275,
   "metadata": {},
   "outputs": [
    {
     "data": {
      "text/html": [
       "<div>\n",
       "<style scoped>\n",
       "    .dataframe tbody tr th:only-of-type {\n",
       "        vertical-align: middle;\n",
       "    }\n",
       "\n",
       "    .dataframe tbody tr th {\n",
       "        vertical-align: top;\n",
       "    }\n",
       "\n",
       "    .dataframe thead th {\n",
       "        text-align: right;\n",
       "    }\n",
       "</style>\n",
       "<table border=\"1\" class=\"dataframe\">\n",
       "  <thead>\n",
       "    <tr style=\"text-align: right;\">\n",
       "      <th></th>\n",
       "      <th>RowNumber</th>\n",
       "      <th>CustomerId</th>\n",
       "      <th>CreditScore</th>\n",
       "      <th>Age</th>\n",
       "      <th>Tenure</th>\n",
       "      <th>Balance</th>\n",
       "      <th>NumOfProducts</th>\n",
       "      <th>HasCrCard</th>\n",
       "      <th>IsActiveMember</th>\n",
       "      <th>EstimatedSalary</th>\n",
       "      <th>Exited</th>\n",
       "    </tr>\n",
       "  </thead>\n",
       "  <tbody>\n",
       "    <tr>\n",
       "      <th>count</th>\n",
       "      <td>10000.00000</td>\n",
       "      <td>1.000000e+04</td>\n",
       "      <td>10000.000000</td>\n",
       "      <td>10000.000000</td>\n",
       "      <td>9091.000000</td>\n",
       "      <td>10000.000000</td>\n",
       "      <td>10000.000000</td>\n",
       "      <td>10000.00000</td>\n",
       "      <td>10000.000000</td>\n",
       "      <td>10000.000000</td>\n",
       "      <td>10000.000000</td>\n",
       "    </tr>\n",
       "    <tr>\n",
       "      <th>mean</th>\n",
       "      <td>5000.50000</td>\n",
       "      <td>1.569094e+07</td>\n",
       "      <td>650.528800</td>\n",
       "      <td>38.921800</td>\n",
       "      <td>4.997690</td>\n",
       "      <td>76485.889288</td>\n",
       "      <td>1.530200</td>\n",
       "      <td>0.70550</td>\n",
       "      <td>0.515100</td>\n",
       "      <td>100090.239881</td>\n",
       "      <td>0.203700</td>\n",
       "    </tr>\n",
       "    <tr>\n",
       "      <th>std</th>\n",
       "      <td>2886.89568</td>\n",
       "      <td>7.193619e+04</td>\n",
       "      <td>96.653299</td>\n",
       "      <td>10.487806</td>\n",
       "      <td>2.894723</td>\n",
       "      <td>62397.405202</td>\n",
       "      <td>0.581654</td>\n",
       "      <td>0.45584</td>\n",
       "      <td>0.499797</td>\n",
       "      <td>57510.492818</td>\n",
       "      <td>0.402769</td>\n",
       "    </tr>\n",
       "    <tr>\n",
       "      <th>min</th>\n",
       "      <td>1.00000</td>\n",
       "      <td>1.556570e+07</td>\n",
       "      <td>350.000000</td>\n",
       "      <td>18.000000</td>\n",
       "      <td>0.000000</td>\n",
       "      <td>0.000000</td>\n",
       "      <td>1.000000</td>\n",
       "      <td>0.00000</td>\n",
       "      <td>0.000000</td>\n",
       "      <td>11.580000</td>\n",
       "      <td>0.000000</td>\n",
       "    </tr>\n",
       "    <tr>\n",
       "      <th>25%</th>\n",
       "      <td>2500.75000</td>\n",
       "      <td>1.562853e+07</td>\n",
       "      <td>584.000000</td>\n",
       "      <td>32.000000</td>\n",
       "      <td>2.000000</td>\n",
       "      <td>0.000000</td>\n",
       "      <td>1.000000</td>\n",
       "      <td>0.00000</td>\n",
       "      <td>0.000000</td>\n",
       "      <td>51002.110000</td>\n",
       "      <td>0.000000</td>\n",
       "    </tr>\n",
       "    <tr>\n",
       "      <th>50%</th>\n",
       "      <td>5000.50000</td>\n",
       "      <td>1.569074e+07</td>\n",
       "      <td>652.000000</td>\n",
       "      <td>37.000000</td>\n",
       "      <td>5.000000</td>\n",
       "      <td>97198.540000</td>\n",
       "      <td>1.000000</td>\n",
       "      <td>1.00000</td>\n",
       "      <td>1.000000</td>\n",
       "      <td>100193.915000</td>\n",
       "      <td>0.000000</td>\n",
       "    </tr>\n",
       "    <tr>\n",
       "      <th>75%</th>\n",
       "      <td>7500.25000</td>\n",
       "      <td>1.575323e+07</td>\n",
       "      <td>718.000000</td>\n",
       "      <td>44.000000</td>\n",
       "      <td>7.000000</td>\n",
       "      <td>127644.240000</td>\n",
       "      <td>2.000000</td>\n",
       "      <td>1.00000</td>\n",
       "      <td>1.000000</td>\n",
       "      <td>149388.247500</td>\n",
       "      <td>0.000000</td>\n",
       "    </tr>\n",
       "    <tr>\n",
       "      <th>max</th>\n",
       "      <td>10000.00000</td>\n",
       "      <td>1.581569e+07</td>\n",
       "      <td>850.000000</td>\n",
       "      <td>92.000000</td>\n",
       "      <td>10.000000</td>\n",
       "      <td>250898.090000</td>\n",
       "      <td>4.000000</td>\n",
       "      <td>1.00000</td>\n",
       "      <td>1.000000</td>\n",
       "      <td>199992.480000</td>\n",
       "      <td>1.000000</td>\n",
       "    </tr>\n",
       "  </tbody>\n",
       "</table>\n",
       "</div>"
      ],
      "text/plain": [
       "         RowNumber    CustomerId   CreditScore           Age       Tenure  \\\n",
       "count  10000.00000  1.000000e+04  10000.000000  10000.000000  9091.000000   \n",
       "mean    5000.50000  1.569094e+07    650.528800     38.921800     4.997690   \n",
       "std     2886.89568  7.193619e+04     96.653299     10.487806     2.894723   \n",
       "min        1.00000  1.556570e+07    350.000000     18.000000     0.000000   \n",
       "25%     2500.75000  1.562853e+07    584.000000     32.000000     2.000000   \n",
       "50%     5000.50000  1.569074e+07    652.000000     37.000000     5.000000   \n",
       "75%     7500.25000  1.575323e+07    718.000000     44.000000     7.000000   \n",
       "max    10000.00000  1.581569e+07    850.000000     92.000000    10.000000   \n",
       "\n",
       "             Balance  NumOfProducts    HasCrCard  IsActiveMember  \\\n",
       "count   10000.000000   10000.000000  10000.00000    10000.000000   \n",
       "mean    76485.889288       1.530200      0.70550        0.515100   \n",
       "std     62397.405202       0.581654      0.45584        0.499797   \n",
       "min         0.000000       1.000000      0.00000        0.000000   \n",
       "25%         0.000000       1.000000      0.00000        0.000000   \n",
       "50%     97198.540000       1.000000      1.00000        1.000000   \n",
       "75%    127644.240000       2.000000      1.00000        1.000000   \n",
       "max    250898.090000       4.000000      1.00000        1.000000   \n",
       "\n",
       "       EstimatedSalary        Exited  \n",
       "count     10000.000000  10000.000000  \n",
       "mean     100090.239881      0.203700  \n",
       "std       57510.492818      0.402769  \n",
       "min          11.580000      0.000000  \n",
       "25%       51002.110000      0.000000  \n",
       "50%      100193.915000      0.000000  \n",
       "75%      149388.247500      0.000000  \n",
       "max      199992.480000      1.000000  "
      ]
     },
     "execution_count": 275,
     "metadata": {},
     "output_type": "execute_result"
    }
   ],
   "source": [
    "data.describe() #выведем информацию о распределении значений в данных датасета"
   ]
  },
  {
   "attachments": {},
   "cell_type": "markdown",
   "metadata": {},
   "source": [
    "**Видим, что значения различных признаков очень сильно отличаются друг от друга в абсолютном выражении, соответственно, нам понадобится далее их масштабирование.**"
   ]
  },
  {
   "attachments": {},
   "cell_type": "markdown",
   "metadata": {},
   "source": [
    "**Проверим ниже значения различных признаков на адекватность и соответствие заложенной в них логики.**"
   ]
  },
  {
   "cell_type": "code",
   "execution_count": 276,
   "metadata": {},
   "outputs": [
    {
     "data": {
      "text/plain": [
       "array([1, 0])"
      ]
     },
     "execution_count": 276,
     "metadata": {},
     "output_type": "execute_result"
    }
   ],
   "source": [
    "data['HasCrCard'].unique() #посмотрим, какие значения встречаются среди признака HasCrCard"
   ]
  },
  {
   "cell_type": "code",
   "execution_count": 277,
   "metadata": {},
   "outputs": [
    {
     "data": {
      "text/plain": [
       "array([1, 0])"
      ]
     },
     "execution_count": 277,
     "metadata": {},
     "output_type": "execute_result"
    }
   ],
   "source": [
    "data['IsActiveMember'].unique() #посмотрим, какие значения встречаются среди признака IsActiveMember"
   ]
  },
  {
   "cell_type": "code",
   "execution_count": 278,
   "metadata": {},
   "outputs": [
    {
     "data": {
      "text/plain": [
       "array([1, 0])"
      ]
     },
     "execution_count": 278,
     "metadata": {},
     "output_type": "execute_result"
    }
   ],
   "source": [
    "data['Exited'].unique() #посмотрим, какие значения встречаются среди целевого признака Exited"
   ]
  },
  {
   "attachments": {},
   "cell_type": "markdown",
   "metadata": {},
   "source": [
    "**Видим, что значения признаков `'HasCrCard'`, `'IsActiveMember'`, `'Exited'` совпадают с заложенной в них логикой.**\n",
    "\n",
    "**Посмотрим, как распределены значения признака `'EstimatedSalary'`.**"
   ]
  },
  {
   "cell_type": "code",
   "execution_count": 279,
   "metadata": {},
   "outputs": [
    {
     "data": {
      "image/png": "[encoded data removed]",
      "text/plain": [
       "<Figure size 432x288 with 1 Axes>"
      ]
     },
     "metadata": {
      "needs_background": "light"
     },
     "output_type": "display_data"
    }
   ],
   "source": [
    "data['EstimatedSalary'].hist(bins=100);"
   ]
  },
  {
   "attachments": {},
   "cell_type": "markdown",
   "metadata": {},
   "source": [
    "**Можно сделать вывод, что срез данных из общей БД сделан был таким образом, чтобы в равной степени были представлены клиенты с различными уровнями предполагаемой заработной платы.**"
   ]
  },
  {
   "attachments": {},
   "cell_type": "markdown",
   "metadata": {},
   "source": [
    "**Можно заметить, что у нас всего 3 признака (`'Surname'`, `'Geography'`, `'Gender'`) с нечисленным типом данных, которые придется впоследствии преобразовать методикой OHE (One-Hot Encoding) для обучения моделей машинного обучения.**\n",
    "\n",
    "**Также можно видеть пропуски в признаке `'Tenure'`. Неизвестно, насколько сильно данный признак связан с целевым. Проверим это.**"
   ]
  },
  {
   "cell_type": "code",
   "execution_count": 280,
   "metadata": {},
   "outputs": [
    {
     "data": {
      "text/plain": [
       "0"
      ]
     },
     "metadata": {},
     "output_type": "display_data"
    },
    {
     "data": {
      "text/plain": [
       "RowNumber         -0.007322\n",
       "CustomerId        -0.021418\n",
       "CreditScore       -0.000062\n",
       "Age               -0.013134\n",
       "Tenure             1.000000\n",
       "Balance           -0.007911\n",
       "NumOfProducts      0.011979\n",
       "HasCrCard          0.027232\n",
       "IsActiveMember    -0.032178\n",
       "EstimatedSalary    0.010520\n",
       "Exited            -0.016761\n",
       "dtype: float64"
      ]
     },
     "execution_count": 280,
     "metadata": {},
     "output_type": "execute_result"
    }
   ],
   "source": [
    "data_no_na = data.dropna()\n",
    "display(data_no_na['Tenure'].isna().sum())\n",
    "data_no_na.corrwith(data_no_na['Tenure'])"
   ]
  },
  {
   "attachments": {},
   "cell_type": "markdown",
   "metadata": {},
   "source": [
    "**Сильной корреляции между признаком `'Tenure'` и остальными числовыми признаками не наблюдается.**"
   ]
  },
  {
   "attachments": {},
   "cell_type": "markdown",
   "metadata": {},
   "source": [
    "**Проверим, какой процент от общего количества данных пропущен в признаке `'Tenure'`.**"
   ]
  },
  {
   "cell_type": "code",
   "execution_count": 281,
   "metadata": {},
   "outputs": [
    {
     "data": {
      "text/plain": [
       "0.0909"
      ]
     },
     "execution_count": 281,
     "metadata": {},
     "output_type": "execute_result"
    }
   ],
   "source": [
    "data['Tenure'].isna().sum()/data.shape[0]"
   ]
  },
  {
   "attachments": {},
   "cell_type": "markdown",
   "metadata": {},
   "source": [
    "**9 процентов меньше граничного значения в 10%, но попробуем сохранить и эти данные, заполнив пропуски в признаке `'Tenure'`. Можно, конечно, пропуски заполнить, обучив модель на других признаках, и сделав `'Tenure'` целевым признаком, но поступим более просто - заполним пропуски в признаке `'Tenure'` медианным значением.**"
   ]
  },
  {
   "cell_type": "code",
   "execution_count": 282,
   "metadata": {},
   "outputs": [
    {
     "name": "stdout",
     "output_type": "stream",
     "text": [
      "<class 'pandas.core.frame.DataFrame'>\n",
      "RangeIndex: 10000 entries, 0 to 9999\n",
      "Data columns (total 14 columns):\n",
      " #   Column           Non-Null Count  Dtype  \n",
      "---  ------           --------------  -----  \n",
      " 0   RowNumber        10000 non-null  int64  \n",
      " 1   CustomerId       10000 non-null  int64  \n",
      " 2   Surname          10000 non-null  object \n",
      " 3   CreditScore      10000 non-null  int64  \n",
      " 4   Geography        10000 non-null  object \n",
      " 5   Gender           10000 non-null  object \n",
      " 6   Age              10000 non-null  int64  \n",
      " 7   Tenure           10000 non-null  float64\n",
      " 8   Balance          10000 non-null  float64\n",
      " 9   NumOfProducts    10000 non-null  int64  \n",
      " 10  HasCrCard        10000 non-null  int64  \n",
      " 11  IsActiveMember   10000 non-null  int64  \n",
      " 12  EstimatedSalary  10000 non-null  float64\n",
      " 13  Exited           10000 non-null  int64  \n",
      "dtypes: float64(3), int64(8), object(3)\n",
      "memory usage: 1.1+ MB\n"
     ]
    }
   ],
   "source": [
    "df = data.fillna(data['Tenure'].median())\n",
    "df.info()"
   ]
  },
  {
   "attachments": {},
   "cell_type": "markdown",
   "metadata": {},
   "source": [
    "**Оценим уникальные значения признака `'Tenure'`.**"
   ]
  },
  {
   "cell_type": "code",
   "execution_count": 283,
   "metadata": {},
   "outputs": [
    {
     "data": {
      "text/plain": [
       "array([ 2.,  1.,  8.,  7.,  4.,  6.,  3., 10.,  5.,  9.,  0.])"
      ]
     },
     "execution_count": 283,
     "metadata": {},
     "output_type": "execute_result"
    }
   ],
   "source": [
    "df['Tenure'].unique()"
   ]
  },
  {
   "attachments": {},
   "cell_type": "markdown",
   "metadata": {},
   "source": [
    "**Видим, что все значения целочисленные, изменим тип на целочисленный.**"
   ]
  },
  {
   "cell_type": "code",
   "execution_count": 284,
   "metadata": {},
   "outputs": [
    {
     "name": "stdout",
     "output_type": "stream",
     "text": [
      "<class 'pandas.core.frame.DataFrame'>\n",
      "RangeIndex: 10000 entries, 0 to 9999\n",
      "Data columns (total 14 columns):\n",
      " #   Column           Non-Null Count  Dtype  \n",
      "---  ------           --------------  -----  \n",
      " 0   RowNumber        10000 non-null  int64  \n",
      " 1   CustomerId       10000 non-null  int64  \n",
      " 2   Surname          10000 non-null  object \n",
      " 3   CreditScore      10000 non-null  int64  \n",
      " 4   Geography        10000 non-null  object \n",
      " 5   Gender           10000 non-null  object \n",
      " 6   Age              10000 non-null  int64  \n",
      " 7   Tenure           10000 non-null  int64  \n",
      " 8   Balance          10000 non-null  float64\n",
      " 9   NumOfProducts    10000 non-null  int64  \n",
      " 10  HasCrCard        10000 non-null  int64  \n",
      " 11  IsActiveMember   10000 non-null  int64  \n",
      " 12  EstimatedSalary  10000 non-null  float64\n",
      " 13  Exited           10000 non-null  int64  \n",
      "dtypes: float64(2), int64(9), object(3)\n",
      "memory usage: 1.1+ MB\n"
     ]
    }
   ],
   "source": [
    "df['Tenure'] = df['Tenure'].astype('int64')\n",
    "df.info()"
   ]
  },
  {
   "attachments": {},
   "cell_type": "markdown",
   "metadata": {},
   "source": [
    "**Посмотрим на данные в признаке `'Surname'`. Узнаем, как часто встречаются определенные фамилии в датафрейме, нет ли там какой-то специфики.**"
   ]
  },
  {
   "cell_type": "code",
   "execution_count": 285,
   "metadata": {},
   "outputs": [
    {
     "data": {
      "image/png": "[encoded data removed]",
      "text/plain": [
       "<Figure size 432x288 with 1 Axes>"
      ]
     },
     "metadata": {
      "needs_background": "light"
     },
     "output_type": "display_data"
    }
   ],
   "source": [
    "df['Surname'].value_counts().plot();"
   ]
  },
  {
   "attachments": {},
   "cell_type": "markdown",
   "metadata": {},
   "source": [
    "**Видим, что какого-то нестандартного распределения и \"перекоса\" данных не наблюдается в фамилиях, всё достаточно стандартно. Фамилия относится к ID человека и в общем случае не должна влиять на его поведение и, соответственно, на вероятность ухода из банка.**"
   ]
  },
  {
   "attachments": {},
   "cell_type": "markdown",
   "metadata": {},
   "source": [
    "**Посмотрим, какое количество уникальных фамилий содержат данные.**"
   ]
  },
  {
   "cell_type": "code",
   "execution_count": 286,
   "metadata": {},
   "outputs": [
    {
     "data": {
      "text/plain": [
       "2932"
      ]
     },
     "execution_count": 286,
     "metadata": {},
     "output_type": "execute_result"
    }
   ],
   "source": [
    "df['Surname'].nunique()"
   ]
  },
  {
   "attachments": {},
   "cell_type": "markdown",
   "metadata": {},
   "source": [
    "**Т.к. мы решили, что фамилия в общем случае не должна влиять на вероятность ухода из банка и количество уникальных фамилий равно 2932, то для более качественного и более быстрого обучения наших моделей будет логично удалить данный признак, иначе при использовании методики OHE мы получим еще дополнительно 2931 столбец, что еще дополнительно перегрузит наш датасет и увеличит время работы алгоритмов.** \n",
    "\n",
    "**При этом признаки `'RowNumber'` — индекс строки в данных и `'CustomerId'` — уникальный идентификатор клиента также никак не могут влиять на вероятность ухода клиента, удалим и данные признаки.**"
   ]
  },
  {
   "cell_type": "code",
   "execution_count": 287,
   "metadata": {},
   "outputs": [
    {
     "name": "stdout",
     "output_type": "stream",
     "text": [
      "<class 'pandas.core.frame.DataFrame'>\n",
      "RangeIndex: 10000 entries, 0 to 9999\n",
      "Data columns (total 11 columns):\n",
      " #   Column           Non-Null Count  Dtype  \n",
      "---  ------           --------------  -----  \n",
      " 0   CreditScore      10000 non-null  int64  \n",
      " 1   Geography        10000 non-null  object \n",
      " 2   Gender           10000 non-null  object \n",
      " 3   Age              10000 non-null  int64  \n",
      " 4   Tenure           10000 non-null  int64  \n",
      " 5   Balance          10000 non-null  float64\n",
      " 6   NumOfProducts    10000 non-null  int64  \n",
      " 7   HasCrCard        10000 non-null  int64  \n",
      " 8   IsActiveMember   10000 non-null  int64  \n",
      " 9   EstimatedSalary  10000 non-null  float64\n",
      " 10  Exited           10000 non-null  int64  \n",
      "dtypes: float64(2), int64(7), object(2)\n",
      "memory usage: 859.5+ KB\n"
     ]
    }
   ],
   "source": [
    "df = df.drop(['Surname', 'RowNumber', 'CustomerId'], axis=1)\n",
    "df.info()"
   ]
  },
  {
   "attachments": {},
   "cell_type": "markdown",
   "metadata": {},
   "source": [
    "**Проверим на дубликаты и неявные дубликаты остальные нечисловые признаки.**"
   ]
  },
  {
   "cell_type": "code",
   "execution_count": 288,
   "metadata": {},
   "outputs": [
    {
     "data": {
      "text/plain": [
       "Male      5457\n",
       "Female    4543\n",
       "Name: Gender, dtype: int64"
      ]
     },
     "metadata": {},
     "output_type": "display_data"
    },
    {
     "data": {
      "text/plain": [
       "France     5014\n",
       "Germany    2509\n",
       "Spain      2477\n",
       "Name: Geography, dtype: int64"
      ]
     },
     "execution_count": 288,
     "metadata": {},
     "output_type": "execute_result"
    }
   ],
   "source": [
    "display(df['Gender'].value_counts())\n",
    "df['Geography'].value_counts()"
   ]
  },
  {
   "attachments": {},
   "cell_type": "markdown",
   "metadata": {},
   "source": [
    "**Видим, что дубликатов нет и уникальные значения адекватны.**\n",
    "\n",
    "**Теперь используя методику OHE подготовим данные.**"
   ]
  },
  {
   "cell_type": "code",
   "execution_count": 289,
   "metadata": {},
   "outputs": [
    {
     "name": "stdout",
     "output_type": "stream",
     "text": [
      "<class 'pandas.core.frame.DataFrame'>\n",
      "RangeIndex: 10000 entries, 0 to 9999\n",
      "Data columns (total 12 columns):\n",
      " #   Column             Non-Null Count  Dtype  \n",
      "---  ------             --------------  -----  \n",
      " 0   CreditScore        10000 non-null  int64  \n",
      " 1   Age                10000 non-null  int64  \n",
      " 2   Tenure             10000 non-null  int64  \n",
      " 3   Balance            10000 non-null  float64\n",
      " 4   NumOfProducts      10000 non-null  int64  \n",
      " 5   HasCrCard          10000 non-null  int64  \n",
      " 6   IsActiveMember     10000 non-null  int64  \n",
      " 7   EstimatedSalary    10000 non-null  float64\n",
      " 8   Exited             10000 non-null  int64  \n",
      " 9   Geography_Germany  10000 non-null  uint8  \n",
      " 10  Geography_Spain    10000 non-null  uint8  \n",
      " 11  Gender_Male        10000 non-null  uint8  \n",
      "dtypes: float64(2), int64(7), uint8(3)\n",
      "memory usage: 732.5 KB\n"
     ]
    }
   ],
   "source": [
    "data_ohe = pd.get_dummies(df, drop_first=True)\n",
    "data_ohe.info()"
   ]
  },
  {
   "attachments": {},
   "cell_type": "markdown",
   "metadata": {},
   "source": [
    "**Проверим, насколько в наших данных сбалансированы классы целевого признака.**"
   ]
  },
  {
   "cell_type": "code",
   "execution_count": 290,
   "metadata": {},
   "outputs": [
    {
     "data": {
      "text/plain": [
       "0    0.7963\n",
       "1    0.2037\n",
       "Name: Exited, dtype: float64"
      ]
     },
     "execution_count": 290,
     "metadata": {},
     "output_type": "execute_result"
    }
   ],
   "source": [
    "data_ohe['Exited'].value_counts(normalize=True)"
   ]
  },
  {
   "attachments": {},
   "cell_type": "markdown",
   "metadata": {},
   "source": [
    "**Видим, что соотношение классов почти 1 к 4, имеет дисбаланс классов. Сначала посмотрим качество моделей без устранения дисбаланса классов, а далее уже посмотрим на качество моделей после устранения дисбаланса классов.**"
   ]
  },
  {
   "attachments": {},
   "cell_type": "markdown",
   "metadata": {},
   "source": [
    "**В случае нашей задачи целевой признак (который нужно предсказать) - `'Exited'`, он означает уйдет ли заказчик. Значения этого признака могут быть либо 0, либо 1, соответственно, в данном случае перед нами стоит задача бинарной классификации.**\n",
    "\n",
    "**Т.к. у нас нет \"спрятанной\" тестовой выборки, то данные необходимо разбить на три части: обучающую, валидационную и тестовую выборки. Выберем равные размеры тестового и валидационного наборов.** \n",
    "\n",
    "**Соответственно, исходные данные разобьем в соотношении 3 : 1 : 1, т.е. 0.6 : 0.2 : 0.2**\n",
    "\n",
    "**Функция `'train_test_split'` делит только на две части датасет, поэтому чтобы получить 3 случайно сформированные выборки нужного относительного размера, применим данную функцию два раза.**\n",
    "\n",
    "**Далее разделим каждую из трех частей на две части - признаки и целевой признак.**"
   ]
  },
  {
   "cell_type": "code",
   "execution_count": 291,
   "metadata": {},
   "outputs": [
    {
     "data": {
      "text/plain": [
       "(6000, 12)"
      ]
     },
     "metadata": {},
     "output_type": "display_data"
    },
    {
     "data": {
      "text/plain": [
       "(2000, 12)"
      ]
     },
     "metadata": {},
     "output_type": "display_data"
    },
    {
     "data": {
      "text/plain": [
       "(2000, 12)"
      ]
     },
     "execution_count": 291,
     "metadata": {},
     "output_type": "execute_result"
    }
   ],
   "source": [
    "data_part, data_valid = train_test_split(data_ohe, test_size=0.2, random_state=1)\n",
    "data_train, data_test = train_test_split(data_part, test_size=0.25, random_state=1)\n",
    "\n",
    "display(data_train.shape)\n",
    "display(data_valid.shape)\n",
    "data_test.shape"
   ]
  },
  {
   "cell_type": "code",
   "execution_count": 292,
   "metadata": {},
   "outputs": [
    {
     "data": {
      "text/plain": [
       "(6000, 11)"
      ]
     },
     "metadata": {},
     "output_type": "display_data"
    },
    {
     "data": {
      "text/plain": [
       "(6000,)"
      ]
     },
     "metadata": {},
     "output_type": "display_data"
    },
    {
     "data": {
      "text/plain": [
       "(2000, 11)"
      ]
     },
     "metadata": {},
     "output_type": "display_data"
    },
    {
     "data": {
      "text/plain": [
       "(2000,)"
      ]
     },
     "metadata": {},
     "output_type": "display_data"
    },
    {
     "data": {
      "text/plain": [
       "(2000, 11)"
      ]
     },
     "metadata": {},
     "output_type": "display_data"
    },
    {
     "data": {
      "text/plain": [
       "(2000,)"
      ]
     },
     "metadata": {},
     "output_type": "display_data"
    }
   ],
   "source": [
    "features_train = data_train.drop('Exited', axis=1)\n",
    "target_train = data_train['Exited']\n",
    "\n",
    "features_valid = data_valid.drop('Exited', axis=1)\n",
    "target_valid = data_valid['Exited']\n",
    "\n",
    "features_test = data_test.drop('Exited', axis=1)\n",
    "target_test = data_test['Exited']\n",
    "\n",
    "\n",
    "display(features_train.shape, target_train.shape)\n",
    "display(features_valid.shape, target_valid.shape)\n",
    "display(features_test.shape, target_test.shape)"
   ]
  },
  {
   "attachments": {},
   "cell_type": "markdown",
   "metadata": {},
   "source": [
    "**В данных есть признаки с большой абсолютной разницей в разбросе значений. Как известно, алгоритм автоматически решает, что признак с большими значениями важнее, но это не так: все признаки значимы. Чтобы устранить это, масштабируем признаки с помощью стандартизации данных.**\n",
    "\n",
    "**Для этого будем использовать отдельную структуру для стандартизации данных — StandardScaler из модуля sklearn.preprocessing.**"
   ]
  },
  {
   "cell_type": "code",
   "execution_count": 293,
   "metadata": {},
   "outputs": [
    {
     "data": {
      "text/html": [
       "<div>\n",
       "<style scoped>\n",
       "    .dataframe tbody tr th:only-of-type {\n",
       "        vertical-align: middle;\n",
       "    }\n",
       "\n",
       "    .dataframe tbody tr th {\n",
       "        vertical-align: top;\n",
       "    }\n",
       "\n",
       "    .dataframe thead th {\n",
       "        text-align: right;\n",
       "    }\n",
       "</style>\n",
       "<table border=\"1\" class=\"dataframe\">\n",
       "  <thead>\n",
       "    <tr style=\"text-align: right;\">\n",
       "      <th></th>\n",
       "      <th>CreditScore</th>\n",
       "      <th>Age</th>\n",
       "      <th>Tenure</th>\n",
       "      <th>Balance</th>\n",
       "      <th>NumOfProducts</th>\n",
       "      <th>HasCrCard</th>\n",
       "      <th>IsActiveMember</th>\n",
       "      <th>EstimatedSalary</th>\n",
       "      <th>Geography_Germany</th>\n",
       "      <th>Geography_Spain</th>\n",
       "      <th>Gender_Male</th>\n",
       "    </tr>\n",
       "  </thead>\n",
       "  <tbody>\n",
       "    <tr>\n",
       "      <th>4495</th>\n",
       "      <td>1.427934</td>\n",
       "      <td>-0.656100</td>\n",
       "      <td>0.722340</td>\n",
       "      <td>-0.113714</td>\n",
       "      <td>-0.905397</td>\n",
       "      <td>1</td>\n",
       "      <td>0</td>\n",
       "      <td>0.134255</td>\n",
       "      <td>0</td>\n",
       "      <td>0</td>\n",
       "      <td>0</td>\n",
       "    </tr>\n",
       "    <tr>\n",
       "      <th>6470</th>\n",
       "      <td>-0.705851</td>\n",
       "      <td>0.198238</td>\n",
       "      <td>-0.006621</td>\n",
       "      <td>0.018224</td>\n",
       "      <td>-0.905397</td>\n",
       "      <td>1</td>\n",
       "      <td>0</td>\n",
       "      <td>1.572963</td>\n",
       "      <td>1</td>\n",
       "      <td>0</td>\n",
       "      <td>0</td>\n",
       "    </tr>\n",
       "    <tr>\n",
       "      <th>2221</th>\n",
       "      <td>1.200054</td>\n",
       "      <td>-0.371320</td>\n",
       "      <td>0.357859</td>\n",
       "      <td>0.894255</td>\n",
       "      <td>-0.905397</td>\n",
       "      <td>1</td>\n",
       "      <td>0</td>\n",
       "      <td>0.274208</td>\n",
       "      <td>1</td>\n",
       "      <td>0</td>\n",
       "      <td>0</td>\n",
       "    </tr>\n",
       "    <tr>\n",
       "      <th>7686</th>\n",
       "      <td>0.692503</td>\n",
       "      <td>0.862723</td>\n",
       "      <td>1.451301</td>\n",
       "      <td>-1.227467</td>\n",
       "      <td>0.805051</td>\n",
       "      <td>1</td>\n",
       "      <td>1</td>\n",
       "      <td>-0.479772</td>\n",
       "      <td>0</td>\n",
       "      <td>0</td>\n",
       "      <td>1</td>\n",
       "    </tr>\n",
       "    <tr>\n",
       "      <th>9419</th>\n",
       "      <td>0.361041</td>\n",
       "      <td>-1.225658</td>\n",
       "      <td>-1.464544</td>\n",
       "      <td>-0.306243</td>\n",
       "      <td>-0.905397</td>\n",
       "      <td>1</td>\n",
       "      <td>1</td>\n",
       "      <td>-0.356880</td>\n",
       "      <td>1</td>\n",
       "      <td>0</td>\n",
       "      <td>1</td>\n",
       "    </tr>\n",
       "  </tbody>\n",
       "</table>\n",
       "</div>"
      ],
      "text/plain": [
       "      CreditScore       Age    Tenure   Balance  NumOfProducts  HasCrCard  \\\n",
       "4495     1.427934 -0.656100  0.722340 -0.113714      -0.905397          1   \n",
       "6470    -0.705851  0.198238 -0.006621  0.018224      -0.905397          1   \n",
       "2221     1.200054 -0.371320  0.357859  0.894255      -0.905397          1   \n",
       "7686     0.692503  0.862723  1.451301 -1.227467       0.805051          1   \n",
       "9419     0.361041 -1.225658 -1.464544 -0.306243      -0.905397          1   \n",
       "\n",
       "      IsActiveMember  EstimatedSalary  Geography_Germany  Geography_Spain  \\\n",
       "4495               0         0.134255                  0                0   \n",
       "6470               0         1.572963                  1                0   \n",
       "2221               0         0.274208                  1                0   \n",
       "7686               1        -0.479772                  0                0   \n",
       "9419               1        -0.356880                  1                0   \n",
       "\n",
       "      Gender_Male  \n",
       "4495            0  \n",
       "6470            0  \n",
       "2221            0  \n",
       "7686            1  \n",
       "9419            1  "
      ]
     },
     "metadata": {},
     "output_type": "display_data"
    },
    {
     "data": {
      "text/html": [
       "<div>\n",
       "<style scoped>\n",
       "    .dataframe tbody tr th:only-of-type {\n",
       "        vertical-align: middle;\n",
       "    }\n",
       "\n",
       "    .dataframe tbody tr th {\n",
       "        vertical-align: top;\n",
       "    }\n",
       "\n",
       "    .dataframe thead th {\n",
       "        text-align: right;\n",
       "    }\n",
       "</style>\n",
       "<table border=\"1\" class=\"dataframe\">\n",
       "  <thead>\n",
       "    <tr style=\"text-align: right;\">\n",
       "      <th></th>\n",
       "      <th>CreditScore</th>\n",
       "      <th>Age</th>\n",
       "      <th>Tenure</th>\n",
       "      <th>Balance</th>\n",
       "      <th>NumOfProducts</th>\n",
       "      <th>HasCrCard</th>\n",
       "      <th>IsActiveMember</th>\n",
       "      <th>EstimatedSalary</th>\n",
       "      <th>Geography_Germany</th>\n",
       "      <th>Geography_Spain</th>\n",
       "      <th>Gender_Male</th>\n",
       "    </tr>\n",
       "  </thead>\n",
       "  <tbody>\n",
       "    <tr>\n",
       "      <th>9953</th>\n",
       "      <td>-1.047671</td>\n",
       "      <td>0.767796</td>\n",
       "      <td>-1.100063</td>\n",
       "      <td>-1.227467</td>\n",
       "      <td>0.805051</td>\n",
       "      <td>1</td>\n",
       "      <td>1</td>\n",
       "      <td>-0.046900</td>\n",
       "      <td>0</td>\n",
       "      <td>0</td>\n",
       "      <td>1</td>\n",
       "    </tr>\n",
       "    <tr>\n",
       "      <th>3850</th>\n",
       "      <td>0.298892</td>\n",
       "      <td>-0.466247</td>\n",
       "      <td>-0.735583</td>\n",
       "      <td>1.071364</td>\n",
       "      <td>-0.905397</td>\n",
       "      <td>1</td>\n",
       "      <td>0</td>\n",
       "      <td>-0.576570</td>\n",
       "      <td>0</td>\n",
       "      <td>0</td>\n",
       "      <td>1</td>\n",
       "    </tr>\n",
       "    <tr>\n",
       "      <th>4962</th>\n",
       "      <td>-1.244477</td>\n",
       "      <td>0.293164</td>\n",
       "      <td>-1.100063</td>\n",
       "      <td>-1.227467</td>\n",
       "      <td>0.805051</td>\n",
       "      <td>0</td>\n",
       "      <td>1</td>\n",
       "      <td>-0.160008</td>\n",
       "      <td>0</td>\n",
       "      <td>0</td>\n",
       "      <td>0</td>\n",
       "    </tr>\n",
       "    <tr>\n",
       "      <th>3886</th>\n",
       "      <td>0.609638</td>\n",
       "      <td>-0.466247</td>\n",
       "      <td>1.086821</td>\n",
       "      <td>1.144204</td>\n",
       "      <td>0.805051</td>\n",
       "      <td>0</td>\n",
       "      <td>1</td>\n",
       "      <td>-1.703601</td>\n",
       "      <td>1</td>\n",
       "      <td>0</td>\n",
       "      <td>1</td>\n",
       "    </tr>\n",
       "    <tr>\n",
       "      <th>5437</th>\n",
       "      <td>-1.120179</td>\n",
       "      <td>-0.845952</td>\n",
       "      <td>0.357859</td>\n",
       "      <td>-0.048620</td>\n",
       "      <td>-0.905397</td>\n",
       "      <td>1</td>\n",
       "      <td>1</td>\n",
       "      <td>1.334650</td>\n",
       "      <td>1</td>\n",
       "      <td>0</td>\n",
       "      <td>1</td>\n",
       "    </tr>\n",
       "  </tbody>\n",
       "</table>\n",
       "</div>"
      ],
      "text/plain": [
       "      CreditScore       Age    Tenure   Balance  NumOfProducts  HasCrCard  \\\n",
       "9953    -1.047671  0.767796 -1.100063 -1.227467       0.805051          1   \n",
       "3850     0.298892 -0.466247 -0.735583  1.071364      -0.905397          1   \n",
       "4962    -1.244477  0.293164 -1.100063 -1.227467       0.805051          0   \n",
       "3886     0.609638 -0.466247  1.086821  1.144204       0.805051          0   \n",
       "5437    -1.120179 -0.845952  0.357859 -0.048620      -0.905397          1   \n",
       "\n",
       "      IsActiveMember  EstimatedSalary  Geography_Germany  Geography_Spain  \\\n",
       "9953               1        -0.046900                  0                0   \n",
       "3850               0        -0.576570                  0                0   \n",
       "4962               1        -0.160008                  0                0   \n",
       "3886               1        -1.703601                  1                0   \n",
       "5437               1         1.334650                  1                0   \n",
       "\n",
       "      Gender_Male  \n",
       "9953            1  \n",
       "3850            1  \n",
       "4962            0  \n",
       "3886            1  \n",
       "5437            1  "
      ]
     },
     "metadata": {},
     "output_type": "display_data"
    },
    {
     "data": {
      "text/html": [
       "<div>\n",
       "<style scoped>\n",
       "    .dataframe tbody tr th:only-of-type {\n",
       "        vertical-align: middle;\n",
       "    }\n",
       "\n",
       "    .dataframe tbody tr th {\n",
       "        vertical-align: top;\n",
       "    }\n",
       "\n",
       "    .dataframe thead th {\n",
       "        text-align: right;\n",
       "    }\n",
       "</style>\n",
       "<table border=\"1\" class=\"dataframe\">\n",
       "  <thead>\n",
       "    <tr style=\"text-align: right;\">\n",
       "      <th></th>\n",
       "      <th>CreditScore</th>\n",
       "      <th>Age</th>\n",
       "      <th>Tenure</th>\n",
       "      <th>Balance</th>\n",
       "      <th>NumOfProducts</th>\n",
       "      <th>HasCrCard</th>\n",
       "      <th>IsActiveMember</th>\n",
       "      <th>EstimatedSalary</th>\n",
       "      <th>Geography_Germany</th>\n",
       "      <th>Geography_Spain</th>\n",
       "      <th>Gender_Male</th>\n",
       "    </tr>\n",
       "  </thead>\n",
       "  <tbody>\n",
       "    <tr>\n",
       "      <th>7857</th>\n",
       "      <td>2.059783</td>\n",
       "      <td>-1.130732</td>\n",
       "      <td>0.357859</td>\n",
       "      <td>0.323152</td>\n",
       "      <td>0.805051</td>\n",
       "      <td>0</td>\n",
       "      <td>0</td>\n",
       "      <td>0.919111</td>\n",
       "      <td>0</td>\n",
       "      <td>0</td>\n",
       "      <td>1</td>\n",
       "    </tr>\n",
       "    <tr>\n",
       "      <th>9924</th>\n",
       "      <td>-0.198300</td>\n",
       "      <td>1.052576</td>\n",
       "      <td>-0.006621</td>\n",
       "      <td>0.504512</td>\n",
       "      <td>-0.905397</td>\n",
       "      <td>1</td>\n",
       "      <td>1</td>\n",
       "      <td>-1.609508</td>\n",
       "      <td>1</td>\n",
       "      <td>0</td>\n",
       "      <td>0</td>\n",
       "    </tr>\n",
       "    <tr>\n",
       "      <th>3087</th>\n",
       "      <td>-2.197429</td>\n",
       "      <td>-0.276394</td>\n",
       "      <td>-1.100063</td>\n",
       "      <td>1.428211</td>\n",
       "      <td>0.805051</td>\n",
       "      <td>1</td>\n",
       "      <td>1</td>\n",
       "      <td>0.419765</td>\n",
       "      <td>0</td>\n",
       "      <td>0</td>\n",
       "      <td>1</td>\n",
       "    </tr>\n",
       "    <tr>\n",
       "      <th>3513</th>\n",
       "      <td>1.438292</td>\n",
       "      <td>-0.561173</td>\n",
       "      <td>1.815782</td>\n",
       "      <td>0.940258</td>\n",
       "      <td>-0.905397</td>\n",
       "      <td>0</td>\n",
       "      <td>0</td>\n",
       "      <td>1.655810</td>\n",
       "      <td>0</td>\n",
       "      <td>0</td>\n",
       "      <td>0</td>\n",
       "    </tr>\n",
       "    <tr>\n",
       "      <th>2105</th>\n",
       "      <td>-1.648446</td>\n",
       "      <td>-0.751026</td>\n",
       "      <td>0.722340</td>\n",
       "      <td>-1.227467</td>\n",
       "      <td>0.805051</td>\n",
       "      <td>1</td>\n",
       "      <td>1</td>\n",
       "      <td>-0.872579</td>\n",
       "      <td>0</td>\n",
       "      <td>0</td>\n",
       "      <td>0</td>\n",
       "    </tr>\n",
       "  </tbody>\n",
       "</table>\n",
       "</div>"
      ],
      "text/plain": [
       "      CreditScore       Age    Tenure   Balance  NumOfProducts  HasCrCard  \\\n",
       "7857     2.059783 -1.130732  0.357859  0.323152       0.805051          0   \n",
       "9924    -0.198300  1.052576 -0.006621  0.504512      -0.905397          1   \n",
       "3087    -2.197429 -0.276394 -1.100063  1.428211       0.805051          1   \n",
       "3513     1.438292 -0.561173  1.815782  0.940258      -0.905397          0   \n",
       "2105    -1.648446 -0.751026  0.722340 -1.227467       0.805051          1   \n",
       "\n",
       "      IsActiveMember  EstimatedSalary  Geography_Germany  Geography_Spain  \\\n",
       "7857               0         0.919111                  0                0   \n",
       "9924               1        -1.609508                  1                0   \n",
       "3087               1         0.419765                  0                0   \n",
       "3513               0         1.655810                  0                0   \n",
       "2105               1        -0.872579                  0                0   \n",
       "\n",
       "      Gender_Male  \n",
       "7857            1  \n",
       "9924            0  \n",
       "3087            1  \n",
       "3513            0  \n",
       "2105            0  "
      ]
     },
     "metadata": {},
     "output_type": "display_data"
    }
   ],
   "source": [
    "features_train_scaled = features_train.copy()\n",
    "features_valid_scaled = features_valid.copy() \n",
    "features_test_scaled = features_test.copy() \n",
    "\n",
    "pd.options.mode.chained_assignment = None # чтобы устранить известное предупреждение при исп-нии StandardScaler\n",
    "numeric = ['CreditScore', 'Age', 'Tenure', 'Balance', 'NumOfProducts', 'EstimatedSalary'] # масш-мые признаки\n",
    "\n",
    "scaler = StandardScaler()\n",
    "scaler.fit(features_train[numeric]) \n",
    "\n",
    "features_train_scaled[numeric] = scaler.transform(features_train_scaled[numeric])\n",
    "features_valid_scaled[numeric] = scaler.transform(features_valid_scaled[numeric])\n",
    "features_test_scaled[numeric] = scaler.transform(features_test_scaled[numeric])\n",
    "\n",
    "display(features_train_scaled.head())\n",
    "display(features_valid_scaled.head())\n",
    "display(features_test_scaled.head())"
   ]
  },
  {
   "attachments": {},
   "cell_type": "markdown",
   "metadata": {},
   "source": [
    "**Данные подготовлены. Переходим к исследованию.**"
   ]
  },
  {
   "attachments": {},
   "cell_type": "markdown",
   "metadata": {},
   "source": [
    "## Исследование задачи"
   ]
  },
  {
   "attachments": {},
   "cell_type": "markdown",
   "metadata": {},
   "source": [
    "**Будем использовать модель \"Случайный лес\".**\n",
    "\n",
    "**Самые важные гиперпараметры алгоритма классификации случайный лес: 'max_depth' - глубина, 'n_estimators' - количество деревьев в лесу. Определим, при каких значениях 'max_depth' и 'n_estimators' мы получим наилучшее качество данной модели на валидационной выборке и определим само значение этого качества.**\n",
    "\n",
    "**Сначала выберем оптимальную глубину при небольшом кол-ве деревьев, а далее будем увеличивать кол-во деревьев.**"
   ]
  },
  {
   "cell_type": "code",
   "execution_count": 294,
   "metadata": {},
   "outputs": [
    {
     "name": "stdout",
     "output_type": "stream",
     "text": [
      "Лучший результат модели \"Случайный лес\" при:\n",
      " max_depth = 12\n",
      " f1 = 0.5929339477726575\n"
     ]
    }
   ],
   "source": [
    "best_model_random_forest = None\n",
    "best_f1_random_forest = 0\n",
    "best_depth_random_forest = 0\n",
    "\n",
    "for depth in range (1, 20):\n",
    "    model_random_forest = RandomForestClassifier(random_state=1, n_estimators=20, max_depth=depth, criterion='entropy')\n",
    "    model_random_forest.fit(features_train_scaled, target_train)       \n",
    "    predicted_valid = model_random_forest.predict(features_valid_scaled)\n",
    "\n",
    "    # посчитаем метрику f1-мера модели на валидационной выборке\n",
    "    f1_random_forest = f1_score(target_valid, predicted_valid)\n",
    "    if f1_score(target_valid, predicted_valid) > best_f1_random_forest:\n",
    "         # сохраняем наилучшую модель\n",
    "        best_model_random_forest = model_random_forest\n",
    "        \n",
    "        # сохраняем наилучшее значение метрики f1-мера на валидационных данных\n",
    "        best_f1_random_forest = f1_random_forest  \n",
    "        best_depth_random_forest = depth # сохраняем наилучшее значение глубины\n",
    "print(f'Лучший результат модели \"Случайный лес\" при:\\n max_depth = {best_depth_random_forest}\\n f1 = {best_f1_random_forest}')"
   ]
  },
  {
   "attachments": {},
   "cell_type": "markdown",
   "metadata": {},
   "source": [
    "**Теперь будем увеличивать кол-во деревьев в лесу.**"
   ]
  },
  {
   "cell_type": "code",
   "execution_count": 295,
   "metadata": {},
   "outputs": [
    {
     "name": "stdout",
     "output_type": "stream",
     "text": [
      "Лучший результат модели \"Случайный лес\" при:\n",
      " est = 17\n",
      " f1 = 0.6021505376344086\n"
     ]
    }
   ],
   "source": [
    "best_model_random_forest = None\n",
    "best_f1_random_forest = 0\n",
    "best_est_random_forest = 0\n",
    "\n",
    "for est in range (1, 50, 1):\n",
    "    model_random_forest = RandomForestClassifier(random_state=1, n_estimators=est, max_depth=12, criterion='entropy')\n",
    "    model_random_forest.fit(features_train_scaled, target_train)       \n",
    "    predicted_valid = model_random_forest.predict(features_valid_scaled)\n",
    "\n",
    "    # посчитаем метрику f1-мера модели на валидационной выборке\n",
    "    f1_random_forest = f1_score(target_valid, predicted_valid)\n",
    "    if f1_score(target_valid, predicted_valid) > best_f1_random_forest:\n",
    "         # сохраняем наилучшую модель\n",
    "        best_model_random_forest = model_random_forest\n",
    "        \n",
    "        # сохраняем наилучшее значение метрики f1-мера на валидационных данных\n",
    "        best_f1_random_forest = f1_random_forest  \n",
    "        best_est_random_forest = est # сохраняем наилучшее значение кол-ва деревьев\n",
    "print(f'Лучший результат модели \"Случайный лес\" при:\\n est = {best_est_random_forest}\\n f1 = {best_f1_random_forest}')"
   ]
  },
  {
   "attachments": {},
   "cell_type": "markdown",
   "metadata": {},
   "source": [
    "**Проверим, какое значение AUC-ROC для данной модели с указанными значениями гиперпараметров мы получим на валидационной выборке. Помним, что значение 0.5 соответствует случайной модели.**"
   ]
  },
  {
   "cell_type": "code",
   "execution_count": 296,
   "metadata": {},
   "outputs": [
    {
     "data": {
      "text/plain": [
       "0.8662582189958572"
      ]
     },
     "execution_count": 296,
     "metadata": {},
     "output_type": "execute_result"
    }
   ],
   "source": [
    "probabilities_valid = best_model_random_forest.predict_proba(features_valid_scaled)\n",
    "probabilities_one_valid = probabilities_valid[:, 1]\n",
    "roc_auc_score(target_valid, probabilities_one_valid)"
   ]
  },
  {
   "attachments": {},
   "cell_type": "markdown",
   "metadata": {},
   "source": [
    "**На валидационной выборке получили значение AUC-ROC значительно выше, чем у случайной модели.**"
   ]
  },
  {
   "attachments": {},
   "cell_type": "markdown",
   "metadata": {},
   "source": [
    "**Промежуточный вывод:**\n",
    "\n",
    "**Мы получили наилучший результат f1-меры выше 0.59 для валидационной выборки, что удовлетворяет исходному заданию. Такой результат удалось получить для \"Случайного леса\" со следующими параметрами:**\n",
    "- criterion = 'entropy'\n",
    "- n_estimators = 17\n",
    "- max_depth = 12\n",
    "\n",
    "**Для этой же обученной модели на валидационной выборке получили значение AUC-ROC значительно выше, чем у случайной модели.**"
   ]
  },
  {
   "attachments": {},
   "cell_type": "markdown",
   "metadata": {},
   "source": [
    "## Борьба с дисбалансом"
   ]
  },
  {
   "attachments": {},
   "cell_type": "markdown",
   "metadata": {},
   "source": [
    "**Устранить дисбаланс классов можно двумя способами - увеличив класс, который в просадке, либо же наоборот - уменьшив класс, который в избытке.**\n",
    "\n",
    "**Попробуем 1й сценарий - увеличив класс, который находится в просадке. Для этого напишем функцию.**"
   ]
  },
  {
   "cell_type": "code",
   "execution_count": 261,
   "metadata": {},
   "outputs": [
    {
     "data": {
      "text/plain": [
       "(9621, 11)"
      ]
     },
     "metadata": {},
     "output_type": "display_data"
    },
    {
     "data": {
      "text/plain": [
       "(9621,)"
      ]
     },
     "metadata": {},
     "output_type": "display_data"
    },
    {
     "data": {
      "text/plain": [
       "1.007302315877321"
      ]
     },
     "execution_count": 261,
     "metadata": {},
     "output_type": "execute_result"
    }
   ],
   "source": [
    "def upsample(features, target, repeat):\n",
    "    features_zeros = features[target == 0]\n",
    "    features_ones = features[target == 1]\n",
    "    target_zeros = target[target == 0]\n",
    "    target_ones = target[target == 1]\n",
    "\n",
    "    features_upsampled = pd.concat([features_zeros] + [features_ones] * repeat)\n",
    "    target_upsampled = pd.concat([target_zeros] + [target_ones] * repeat)\n",
    "    \n",
    "    features_upsampled, target_upsampled = shuffle(\n",
    "        features_upsampled, target_upsampled, random_state=1)\n",
    "    \n",
    "    return features_upsampled, target_upsampled\n",
    "\n",
    "one_count = features_train_scaled[target_train == 1].shape[0] #кол-во единиц\n",
    "zero_count = features_train_scaled[target_train == 0].shape[0] #кол-во нулей\n",
    "mult_koef = round(zero_count/one_count) # коэффициент увеличения выборки\n",
    "\n",
    "features_upsampled, target_upsampled = upsample(features_train_scaled, target_train, mult_koef)\n",
    "\n",
    "display(features_upsampled.shape)\n",
    "display(target_upsampled.shape)\n",
    "\n",
    "# проверка соотношения 0 и 1 в расширенной выборке\n",
    "features_upsampled[target_upsampled == 1].shape[0] / features_upsampled[target_upsampled == 0].shape[0] "
   ]
  },
  {
   "cell_type": "code",
   "execution_count": 262,
   "metadata": {},
   "outputs": [
    {
     "data": {
      "text/plain": [
       "(2414, 11)"
      ]
     },
     "metadata": {},
     "output_type": "display_data"
    },
    {
     "data": {
      "text/plain": [
       "(2414,)"
      ]
     },
     "metadata": {},
     "output_type": "display_data"
    },
    {
     "data": {
      "text/plain": [
       "1.0"
      ]
     },
     "execution_count": 262,
     "metadata": {},
     "output_type": "execute_result"
    }
   ],
   "source": [
    "def downsample(features, target, fraction):\n",
    "    features_zeros = features[target == 0]\n",
    "    features_ones = features[target == 1]\n",
    "    target_zeros = target[target == 0]\n",
    "    target_ones = target[target == 1]\n",
    "\n",
    "    features_downsampled = pd.concat(\n",
    "        [features_zeros.sample(frac=fraction, random_state=1)] + [features_ones])\n",
    "    target_downsampled = pd.concat(\n",
    "        [target_zeros.sample(frac=fraction, random_state=1)] + [target_ones])\n",
    "    \n",
    "    features_downsampled, target_downsampled = shuffle(\n",
    "        features_downsampled, target_downsampled, random_state=1)\n",
    "    \n",
    "    return features_downsampled, target_downsampled\n",
    "\n",
    "one_count = features_train_scaled[target_train == 1].shape[0] #кол-во единиц\n",
    "zero_count = features_train_scaled[target_train == 0].shape[0] #кол-во нулей\n",
    "div_koef = one_count/zero_count # коэффициент уменьшения выборки\n",
    "\n",
    "features_downsampled, target_downsampled = downsample(features_train_scaled, target_train, div_koef)\n",
    "\n",
    "display(features_downsampled.shape)\n",
    "display(target_downsampled.shape)\n",
    "\n",
    "# проверка соотношения 0 и 1 в суженной выборке\n",
    "features_downsampled[target_downsampled == 1].shape[0] / features_downsampled[target_downsampled == 0].shape[0] "
   ]
  },
  {
   "attachments": {},
   "cell_type": "markdown",
   "metadata": {},
   "source": [
    "**Произведем еще раз поиск гиперпараметров модели \"Случайный лес\", дающих наилучший результат f1-меры на новых сбалансированных обучающих выборках.**\n",
    "\n",
    "**Сначала выберем оптимальную глубину при небольшом кол-ве деревьев, а далее будем увеличивать кол-во деревьев.**\n",
    "\n",
    "**Начнем с расширенной выборки.**"
   ]
  },
  {
   "cell_type": "code",
   "execution_count": 267,
   "metadata": {},
   "outputs": [
    {
     "name": "stdout",
     "output_type": "stream",
     "text": [
      "Лучший результат модели \"Случайный лес\" при:\n",
      " max_depth = 10\n",
      " f1 = 0.6297117516629712\n"
     ]
    }
   ],
   "source": [
    "best_model_random_forest = None\n",
    "best_f1_random_forest = 0\n",
    "best_depth_random_forest = 0\n",
    "\n",
    "for depth in range (1, 20):\n",
    "    model_random_forest = RandomForestClassifier(random_state=1, n_estimators=20, max_depth=depth, criterion='entropy')\n",
    "    model_random_forest.fit(features_upsampled, target_upsampled)       \n",
    "    predicted_valid = model_random_forest.predict(features_valid_scaled)\n",
    "\n",
    "    # посчитаем метрику f1-мера модели на валидационной выборке\n",
    "    f1_random_forest = f1_score(target_valid, predicted_valid)\n",
    "    if f1_score(target_valid, predicted_valid) > best_f1_random_forest:\n",
    "         # сохраняем наилучшую модель\n",
    "        best_model_random_forest = model_random_forest\n",
    "        \n",
    "        # сохраняем наилучшее значение метрики f1-мера на валидационных данных\n",
    "        best_f1_random_forest = f1_random_forest  \n",
    "        best_depth_random_forest = depth # сохраняем наилучшее значение глубины\n",
    "print(f'Лучший результат модели \"Случайный лес\" при:\\n max_depth = {best_depth_random_forest}\\n f1 = {best_f1_random_forest}')"
   ]
  },
  {
   "attachments": {},
   "cell_type": "markdown",
   "metadata": {},
   "source": [
    "**Теперь будем увеличивать кол-во деревьев в лесу.**"
   ]
  },
  {
   "cell_type": "code",
   "execution_count": 269,
   "metadata": {},
   "outputs": [
    {
     "name": "stdout",
     "output_type": "stream",
     "text": [
      "Лучший результат модели \"Случайный лес\" при:\n",
      " est = 23\n",
      " f1 = 0.6320441988950276\n"
     ]
    }
   ],
   "source": [
    "best_model_random_forest = None\n",
    "best_f1_random_forest = 0\n",
    "best_est_random_forest = 0\n",
    "\n",
    "for est in range (1, 50, 1):\n",
    "    model_random_forest = RandomForestClassifier(random_state=1, n_estimators=est, max_depth=10, criterion='entropy')\n",
    "    model_random_forest.fit(features_upsampled, target_upsampled)       \n",
    "    predicted_valid = model_random_forest.predict(features_valid_scaled)\n",
    "\n",
    "    # посчитаем метрику f1-мера модели на валидационной выборке\n",
    "    f1_random_forest = f1_score(target_valid, predicted_valid)\n",
    "    if f1_score(target_valid, predicted_valid) > best_f1_random_forest:\n",
    "         # сохраняем наилучшую модель\n",
    "        best_model_random_forest = model_random_forest\n",
    "        \n",
    "        # сохраняем наилучшее значение метрики f1-мера на валидационных данных\n",
    "        best_f1_random_forest = f1_random_forest  \n",
    "        best_est_random_forest = est # сохраняем наилучшее значение кол-ва деревьев\n",
    "print(f'Лучший результат модели \"Случайный лес\" при:\\n est = {best_est_random_forest}\\n f1 = {best_f1_random_forest}')"
   ]
  },
  {
   "attachments": {},
   "cell_type": "markdown",
   "metadata": {},
   "source": [
    "**Теперь сделаем то же самое, но для суженной выборки.**"
   ]
  },
  {
   "cell_type": "code",
   "execution_count": 270,
   "metadata": {},
   "outputs": [
    {
     "name": "stdout",
     "output_type": "stream",
     "text": [
      "Лучший результат модели \"Случайный лес\" при:\n",
      " max_depth = 8\n",
      " f1 = 0.6069364161849712\n"
     ]
    }
   ],
   "source": [
    "best_model_random_forest = None\n",
    "best_f1_random_forest = 0\n",
    "best_depth_random_forest = 0\n",
    "\n",
    "for depth in range (1, 20):\n",
    "    model_random_forest = RandomForestClassifier(random_state=1, n_estimators=20, max_depth=depth, criterion='entropy')\n",
    "    model_random_forest.fit(features_downsampled, target_downsampled)       \n",
    "    predicted_valid = model_random_forest.predict(features_valid_scaled)\n",
    "\n",
    "    # посчитаем метрику f1-мера модели на валидационной выборке\n",
    "    f1_random_forest = f1_score(target_valid, predicted_valid)\n",
    "    if f1_score(target_valid, predicted_valid) > best_f1_random_forest:\n",
    "         # сохраняем наилучшую модель\n",
    "        best_model_random_forest = model_random_forest\n",
    "        \n",
    "        # сохраняем наилучшее значение метрики f1-мера на валидационных данных\n",
    "        best_f1_random_forest = f1_random_forest  \n",
    "        best_depth_random_forest = depth # сохраняем наилучшее значение глубины\n",
    "print(f'Лучший результат модели \"Случайный лес\" при:\\n max_depth = {best_depth_random_forest}\\n f1 = {best_f1_random_forest}')"
   ]
  },
  {
   "cell_type": "code",
   "execution_count": 271,
   "metadata": {},
   "outputs": [
    {
     "name": "stdout",
     "output_type": "stream",
     "text": [
      "Лучший результат модели \"Случайный лес\" при:\n",
      " est = 45\n",
      " f1 = 0.6147859922178988\n"
     ]
    }
   ],
   "source": [
    "best_model_random_forest = None\n",
    "best_f1_random_forest = 0\n",
    "best_est_random_forest = 0\n",
    "\n",
    "for est in range (1, 50, 1):\n",
    "    model_random_forest = RandomForestClassifier(random_state=1, n_estimators=est, max_depth=8, criterion='entropy')\n",
    "    model_random_forest.fit(features_downsampled, target_downsampled)       \n",
    "    predicted_valid = model_random_forest.predict(features_valid_scaled)\n",
    "\n",
    "    # посчитаем метрику f1-мера модели на валидационной выборке\n",
    "    f1_random_forest = f1_score(target_valid, predicted_valid)\n",
    "    if f1_score(target_valid, predicted_valid) > best_f1_random_forest:\n",
    "         # сохраняем наилучшую модель\n",
    "        best_model_random_forest = model_random_forest\n",
    "        \n",
    "        # сохраняем наилучшее значение метрики f1-мера на валидационных данных\n",
    "        best_f1_random_forest = f1_random_forest  \n",
    "        best_est_random_forest = est # сохраняем наилучшее значение кол-ва деревьев\n",
    "print(f'Лучший результат модели \"Случайный лес\" при:\\n est = {best_est_random_forest}\\n f1 = {best_f1_random_forest}')"
   ]
  },
  {
   "attachments": {},
   "cell_type": "markdown",
   "metadata": {},
   "source": [
    "**Видим, что во-первых величина критерия f1-меры выросла по-сравнению с обучением с помощью выборки с несбалансированными классами. Во-вторых, балансировка расширением выборки дала результат лучше, что логично, т.к. данных в данном случае было больше.**\n",
    "\n",
    "**Наилучшие результаты f1-меры = 0.632 получены для валидационной выборки, что удовлетворяет исходному заданию. Такой результат удалось получить для \"Случайного леса\" на расширенной сбалансированной выборке со следующими параметрами:**\n",
    "- criterion = 'entropy'\n",
    "- n_estimators = 23\n",
    "- max_depth = 10"
   ]
  },
  {
   "attachments": {},
   "cell_type": "markdown",
   "metadata": {},
   "source": [
    "**Проверим, какое значение AUC-ROC для данной модели с указанными значениями гиперпараметров мы получим. Помним, что значение 0.5 соответствует случайной модели.**"
   ]
  },
  {
   "cell_type": "code",
   "execution_count": 299,
   "metadata": {},
   "outputs": [
    {
     "data": {
      "text/plain": [
       "0.8636889513891528"
      ]
     },
     "execution_count": 299,
     "metadata": {},
     "output_type": "execute_result"
    }
   ],
   "source": [
    "model_random_forest = RandomForestClassifier(random_state=1, n_estimators=23, max_depth=10, criterion='entropy')\n",
    "model_random_forest.fit(features_upsampled, target_upsampled)   \n",
    "probabilities_valid = model_random_forest.predict_proba(features_valid_scaled)\n",
    "probabilities_one_valid = probabilities_valid[:, 1]\n",
    "roc_auc_score(target_valid, probabilities_one_valid)"
   ]
  },
  {
   "attachments": {},
   "cell_type": "markdown",
   "metadata": {},
   "source": [
    "**На валидационной выборке получили значение AUC-ROC значительно выше, чем у случайной модели.**"
   ]
  },
  {
   "attachments": {},
   "cell_type": "markdown",
   "metadata": {},
   "source": [
    "**Проверим нашу модель с выбранными гиперпараметрами на тестовой выборке.**"
   ]
  },
  {
   "cell_type": "code",
   "execution_count": 205,
   "metadata": {},
   "outputs": [
    {
     "data": {
      "text/plain": [
       "0.5977249224405378"
      ]
     },
     "execution_count": 205,
     "metadata": {},
     "output_type": "execute_result"
    }
   ],
   "source": [
    "model_random_forest = RandomForestClassifier(random_state=1, n_estimators=51, max_depth=7)\n",
    "model_random_forest.fit(features_upsampled, target_upsampled)       \n",
    "predicted_test = model_random_forest.predict(features_test_scaled)\n",
    "f1_random_forest = f1_score(target_valid, predicted_test)\n",
    "f1_random_forest"
   ]
  },
  {
   "attachments": {},
   "cell_type": "markdown",
   "metadata": {},
   "source": [
    "**Получили удовлетворительное условиям задачи значение f1-меры, цель достигнута.**"
   ]
  },
  {
   "attachments": {},
   "cell_type": "markdown",
   "metadata": {},
   "source": [
    "**Проверим, какое значение AUC-ROC (площадь под кривой ROC) для данной модели мы получаем. Помним, что значение 0.5 соответствует случайной модели.**"
   ]
  },
  {
   "cell_type": "code",
   "execution_count": 210,
   "metadata": {},
   "outputs": [
    {
     "data": {
      "text/plain": [
       "0.6790923948158566"
      ]
     },
     "execution_count": 210,
     "metadata": {},
     "output_type": "execute_result"
    }
   ],
   "source": [
    "roc_auc_score(target_test, predicted_test)"
   ]
  },
  {
   "attachments": {},
   "cell_type": "markdown",
   "metadata": {},
   "source": [
    "**Значение AUC-ROC при этом выше 0.5 случайной модели, что дополнительно еще раз положительным образом характеризует полученный нами результат.**"
   ]
  },
  {
   "attachments": {},
   "cell_type": "markdown",
   "metadata": {},
   "source": [
    "## Тестирование модели"
   ]
  },
  {
   "attachments": {},
   "cell_type": "markdown",
   "metadata": {},
   "source": [
    "**Проверим нашу модель с выбранными гиперпараметрами на тестовой выборке.**"
   ]
  },
  {
   "cell_type": "code",
   "execution_count": 304,
   "metadata": {},
   "outputs": [
    {
     "name": "stdout",
     "output_type": "stream",
     "text": [
      "f1_test = 0.5980707395498392\n",
      "ROC_AUC_test = 0.8326281783284557\n"
     ]
    }
   ],
   "source": [
    "model_random_forest = RandomForestClassifier(random_state=1, n_estimators=23, max_depth=10, criterion='entropy')\n",
    "model_random_forest.fit(features_upsampled, target_upsampled)  \n",
    "\n",
    "predicted_test = model_random_forest.predict(features_test_scaled)\n",
    "\n",
    "# посчитаем метрику f1-мера модели на тестовой выборке\n",
    "f1_random_forest = f1_score(target_test, predicted_test)\n",
    "print('f1_test =',f1_random_forest)\n",
    "\n",
    "probabilities_test = model_random_forest.predict_proba(features_test_scaled)\n",
    "probabilities_one_test = probabilities_test[:, 1]\n",
    "print('ROC_AUC_test =',roc_auc_score(target_test, probabilities_one_test))"
   ]
  },
  {
   "attachments": {},
   "cell_type": "markdown",
   "metadata": {},
   "source": [
    "**Итак, на тестовой выборке обученная модель показала себя удовлетворительно, достигнув значения метрики f1-мера = 0.598, что выше заявленных в задании 0.59 и значение метрики ROC-AUC составило 0.833, что также значительно превышает результаты, характерные для случайной модели.**"
   ]
  },
  {
   "attachments": {},
   "cell_type": "markdown",
   "metadata": {},
   "source": [
    "**Выводы.**\n",
    "\n",
    "**Для решения поставленной задачи наилучшим образом показала себя модель \"Случайный лес\" с гиперпараметрами**\n",
    "\n",
    "- criterion = 'entropy' \n",
    "- n_estimators = 23\n",
    "- max_depth = 10 \n",
    "\n",
    "**Обученная на сбалансированной расширенной выборке, данные которой были предварительно масштабированы с помощью стандартизации и прошли предподготовку.**\n",
    "\n",
    "**Балансировка классов принесла улучшение f1-меры.**"
   ]
  }
 ],
 "metadata": {
  "ExecuteTimeLog": [
   {
    "duration": 1217,
    "start_time": "2022-12-29T16:04:55.768Z"
   },
   {
    "duration": 192,
    "start_time": "2022-12-29T16:04:57.766Z"
   },
   {
    "duration": 62,
    "start_time": "2022-12-29T16:08:41.801Z"
   },
   {
    "duration": 64,
    "start_time": "2022-12-29T16:42:09.373Z"
   },
   {
    "duration": 29,
    "start_time": "2022-12-29T17:01:13.621Z"
   },
   {
    "duration": 15,
    "start_time": "2022-12-29T17:01:49.465Z"
   },
   {
    "duration": 41,
    "start_time": "2022-12-29T17:02:09.072Z"
   },
   {
    "duration": 22,
    "start_time": "2022-12-29T17:02:35.514Z"
   },
   {
    "duration": 28,
    "start_time": "2022-12-29T17:04:07.460Z"
   },
   {
    "duration": 119,
    "start_time": "2022-12-29T17:04:58.609Z"
   },
   {
    "duration": 11,
    "start_time": "2022-12-29T17:05:52.827Z"
   },
   {
    "duration": 15,
    "start_time": "2022-12-29T17:06:03.339Z"
   },
   {
    "duration": 18,
    "start_time": "2022-12-29T17:07:13.000Z"
   },
   {
    "duration": 23,
    "start_time": "2022-12-29T17:07:23.682Z"
   },
   {
    "duration": 31,
    "start_time": "2022-12-29T17:07:49.955Z"
   },
   {
    "duration": 25,
    "start_time": "2022-12-29T17:08:16.092Z"
   },
   {
    "duration": 12,
    "start_time": "2022-12-29T17:16:43.797Z"
   },
   {
    "duration": 13,
    "start_time": "2022-12-29T17:20:59.169Z"
   },
   {
    "duration": 5,
    "start_time": "2022-12-29T17:23:11.647Z"
   },
   {
    "duration": 5,
    "start_time": "2022-12-29T17:23:15.862Z"
   },
   {
    "duration": 5,
    "start_time": "2022-12-29T17:23:19.855Z"
   },
   {
    "duration": 5,
    "start_time": "2022-12-29T17:26:57.709Z"
   },
   {
    "duration": 12,
    "start_time": "2022-12-29T17:27:32.917Z"
   },
   {
    "duration": 17,
    "start_time": "2022-12-29T17:28:28.482Z"
   },
   {
    "duration": 12,
    "start_time": "2022-12-29T17:29:33.513Z"
   },
   {
    "duration": 15,
    "start_time": "2022-12-29T17:29:45.117Z"
   },
   {
    "duration": 12,
    "start_time": "2022-12-29T17:29:51.805Z"
   },
   {
    "duration": 26,
    "start_time": "2022-12-29T17:33:26.554Z"
   },
   {
    "duration": 39,
    "start_time": "2022-12-29T17:33:40.284Z"
   },
   {
    "duration": 12,
    "start_time": "2022-12-29T17:34:01.281Z"
   },
   {
    "duration": 20,
    "start_time": "2022-12-29T17:34:13.424Z"
   },
   {
    "duration": 19,
    "start_time": "2022-12-29T17:34:27.411Z"
   },
   {
    "duration": 18,
    "start_time": "2022-12-29T17:34:50.138Z"
   },
   {
    "duration": 24,
    "start_time": "2022-12-29T17:38:00.158Z"
   },
   {
    "duration": 54,
    "start_time": "2022-12-29T17:38:29.122Z"
   },
   {
    "duration": 22,
    "start_time": "2022-12-29T17:38:59.132Z"
   },
   {
    "duration": 17,
    "start_time": "2022-12-29T17:39:21.177Z"
   },
   {
    "duration": 19,
    "start_time": "2022-12-29T17:39:23.846Z"
   },
   {
    "duration": 53,
    "start_time": "2022-12-29T17:39:28.395Z"
   },
   {
    "duration": 20,
    "start_time": "2022-12-29T17:41:37.679Z"
   },
   {
    "duration": 1331,
    "start_time": "2022-12-29T17:41:39.213Z"
   },
   {
    "duration": 14,
    "start_time": "2022-12-29T17:41:51.287Z"
   },
   {
    "duration": 806,
    "start_time": "2022-12-29T17:50:12.915Z"
   },
   {
    "duration": 139,
    "start_time": "2022-12-29T17:50:22.410Z"
   },
   {
    "duration": 8,
    "start_time": "2022-12-29T17:57:01.141Z"
   },
   {
    "duration": 29,
    "start_time": "2022-12-29T17:57:37.696Z"
   },
   {
    "duration": 7,
    "start_time": "2022-12-29T17:59:18.215Z"
   },
   {
    "duration": 13,
    "start_time": "2022-12-29T18:05:59.075Z"
   },
   {
    "duration": 15,
    "start_time": "2022-12-29T18:06:17.395Z"
   },
   {
    "duration": 16,
    "start_time": "2022-12-29T18:06:26.875Z"
   },
   {
    "duration": 13,
    "start_time": "2022-12-29T18:06:55.679Z"
   },
   {
    "duration": 6,
    "start_time": "2022-12-29T18:07:02.226Z"
   },
   {
    "duration": 8,
    "start_time": "2022-12-29T18:07:32.999Z"
   },
   {
    "duration": 25,
    "start_time": "2022-12-29T18:15:41.020Z"
   },
   {
    "duration": 88,
    "start_time": "2022-12-29T18:17:43.224Z"
   },
   {
    "duration": 122,
    "start_time": "2022-12-29T18:18:37.515Z"
   },
   {
    "duration": 113,
    "start_time": "2022-12-29T18:19:05.395Z"
   },
   {
    "duration": 97,
    "start_time": "2022-12-29T18:19:56.973Z"
   },
   {
    "duration": 53,
    "start_time": "2022-12-29T18:20:07.704Z"
   },
   {
    "duration": 6,
    "start_time": "2022-12-29T18:26:39.475Z"
   },
   {
    "duration": 5,
    "start_time": "2022-12-29T18:27:32.829Z"
   },
   {
    "duration": 11,
    "start_time": "2022-12-29T18:28:13.174Z"
   },
   {
    "duration": 171,
    "start_time": "2022-12-29T18:29:38.742Z"
   },
   {
    "duration": 391,
    "start_time": "2022-12-29T18:30:03.580Z"
   },
   {
    "duration": 263,
    "start_time": "2022-12-29T18:30:25.479Z"
   },
   {
    "duration": 20,
    "start_time": "2022-12-29T18:36:44.116Z"
   },
   {
    "duration": 30,
    "start_time": "2022-12-29T18:36:56.530Z"
   },
   {
    "duration": 7,
    "start_time": "2022-12-29T18:36:58.103Z"
   },
   {
    "duration": 24,
    "start_time": "2022-12-29T18:36:59.331Z"
   },
   {
    "duration": 180,
    "start_time": "2022-12-29T18:37:00.914Z"
   },
   {
    "duration": 8,
    "start_time": "2022-12-29T18:37:02.986Z"
   },
   {
    "duration": 21,
    "start_time": "2022-12-29T18:37:04.375Z"
   },
   {
    "duration": 16,
    "start_time": "2022-12-29T18:37:34.610Z"
   },
   {
    "duration": 19,
    "start_time": "2022-12-29T18:37:38.197Z"
   },
   {
    "duration": 5,
    "start_time": "2022-12-29T18:37:51.503Z"
   },
   {
    "duration": 1575,
    "start_time": "2022-12-29T18:38:08.234Z"
   },
   {
    "duration": 35,
    "start_time": "2022-12-29T18:38:18.080Z"
   },
   {
    "duration": 17,
    "start_time": "2022-12-29T18:38:19.881Z"
   },
   {
    "duration": 40,
    "start_time": "2022-12-29T18:38:21.139Z"
   },
   {
    "duration": 190,
    "start_time": "2022-12-29T18:38:22.998Z"
   },
   {
    "duration": 12,
    "start_time": "2022-12-29T18:38:25.195Z"
   },
   {
    "duration": 22,
    "start_time": "2022-12-29T18:38:26.612Z"
   },
   {
    "duration": 416,
    "start_time": "2022-12-29T18:39:30.372Z"
   },
   {
    "duration": 366,
    "start_time": "2022-12-29T18:40:49.639Z"
   },
   {
    "duration": 286,
    "start_time": "2022-12-29T18:41:45.113Z"
   },
   {
    "duration": 5,
    "start_time": "2022-12-29T18:49:17.705Z"
   },
   {
    "duration": 89,
    "start_time": "2022-12-29T18:49:17.712Z"
   },
   {
    "duration": 171,
    "start_time": "2022-12-29T18:49:17.803Z"
   },
   {
    "duration": 5,
    "start_time": "2022-12-29T18:49:17.976Z"
   },
   {
    "duration": 8,
    "start_time": "2022-12-29T18:49:17.984Z"
   },
   {
    "duration": 11,
    "start_time": "2022-12-29T18:49:17.994Z"
   },
   {
    "duration": 376,
    "start_time": "2022-12-29T18:49:18.007Z"
   },
   {
    "duration": 19,
    "start_time": "2022-12-29T18:49:18.388Z"
   },
   {
    "duration": 5,
    "start_time": "2022-12-29T18:49:18.409Z"
   },
   {
    "duration": 63,
    "start_time": "2022-12-29T18:49:18.416Z"
   },
   {
    "duration": 190,
    "start_time": "2022-12-29T18:49:18.483Z"
   },
   {
    "duration": 17,
    "start_time": "2022-12-29T18:49:18.676Z"
   },
   {
    "duration": 15,
    "start_time": "2022-12-29T18:49:23.834Z"
   },
   {
    "duration": 20,
    "start_time": "2022-12-29T18:53:00.815Z"
   },
   {
    "duration": 6,
    "start_time": "2022-12-29T19:08:35.377Z"
   },
   {
    "duration": 6,
    "start_time": "2022-12-29T19:11:15.037Z"
   },
   {
    "duration": 5,
    "start_time": "2022-12-29T19:11:26.603Z"
   },
   {
    "duration": 84,
    "start_time": "2022-12-29T19:11:26.610Z"
   },
   {
    "duration": 70,
    "start_time": "2022-12-29T19:11:26.697Z"
   },
   {
    "duration": 6,
    "start_time": "2022-12-29T19:11:26.769Z"
   },
   {
    "duration": 7,
    "start_time": "2022-12-29T19:11:26.777Z"
   },
   {
    "duration": 12,
    "start_time": "2022-12-29T19:11:26.785Z"
   },
   {
    "duration": 303,
    "start_time": "2022-12-29T19:11:26.799Z"
   },
   {
    "duration": 19,
    "start_time": "2022-12-29T19:11:27.104Z"
   },
   {
    "duration": 18,
    "start_time": "2022-12-29T19:11:27.125Z"
   },
   {
    "duration": 35,
    "start_time": "2022-12-29T19:11:27.150Z"
   },
   {
    "duration": 5,
    "start_time": "2022-12-29T19:11:30.425Z"
   },
   {
    "duration": 22,
    "start_time": "2022-12-29T19:11:40.714Z"
   },
   {
    "duration": 12,
    "start_time": "2022-12-29T19:11:44.151Z"
   },
   {
    "duration": 5,
    "start_time": "2022-12-29T19:11:55.890Z"
   },
   {
    "duration": 17,
    "start_time": "2022-12-29T19:12:56.919Z"
   },
   {
    "duration": 10,
    "start_time": "2022-12-29T19:13:56.640Z"
   },
   {
    "duration": 19,
    "start_time": "2022-12-29T19:14:11.845Z"
   },
   {
    "duration": 23,
    "start_time": "2022-12-29T19:14:21.746Z"
   },
   {
    "duration": 6,
    "start_time": "2022-12-29T19:14:24.837Z"
   },
   {
    "duration": 19,
    "start_time": "2022-12-29T19:14:30.238Z"
   },
   {
    "duration": 19,
    "start_time": "2022-12-29T19:17:40.181Z"
   },
   {
    "duration": 17,
    "start_time": "2022-12-29T19:17:50.223Z"
   },
   {
    "duration": 12,
    "start_time": "2022-12-29T19:17:59.732Z"
   },
   {
    "duration": 24,
    "start_time": "2022-12-29T19:18:46.508Z"
   },
   {
    "duration": 203,
    "start_time": "2022-12-29T19:18:59.661Z"
   },
   {
    "duration": 9,
    "start_time": "2022-12-29T19:19:02.518Z"
   },
   {
    "duration": 22,
    "start_time": "2022-12-29T19:19:04.040Z"
   },
   {
    "duration": 16,
    "start_time": "2022-12-29T19:19:19.031Z"
   },
   {
    "duration": 30,
    "start_time": "2022-12-29T19:19:22.171Z"
   },
   {
    "duration": 14,
    "start_time": "2022-12-29T19:31:15.364Z"
   },
   {
    "duration": 15,
    "start_time": "2022-12-29T19:33:24.819Z"
   },
   {
    "duration": 4,
    "start_time": "2022-12-29T19:42:26.653Z"
   },
   {
    "duration": 92,
    "start_time": "2022-12-29T19:42:26.660Z"
   },
   {
    "duration": 47,
    "start_time": "2022-12-29T19:42:26.758Z"
   },
   {
    "duration": 5,
    "start_time": "2022-12-29T19:42:26.808Z"
   },
   {
    "duration": 10,
    "start_time": "2022-12-29T19:42:26.815Z"
   },
   {
    "duration": 30,
    "start_time": "2022-12-29T19:42:26.827Z"
   },
   {
    "duration": 285,
    "start_time": "2022-12-29T19:42:26.859Z"
   },
   {
    "duration": 24,
    "start_time": "2022-12-29T19:42:27.147Z"
   },
   {
    "duration": 7,
    "start_time": "2022-12-29T19:42:27.175Z"
   },
   {
    "duration": 37,
    "start_time": "2022-12-29T19:42:27.184Z"
   },
   {
    "duration": 7,
    "start_time": "2022-12-29T19:42:27.223Z"
   },
   {
    "duration": 23,
    "start_time": "2022-12-29T19:42:27.250Z"
   },
   {
    "duration": 169,
    "start_time": "2022-12-29T19:42:27.275Z"
   },
   {
    "duration": 12,
    "start_time": "2022-12-29T19:42:27.446Z"
   },
   {
    "duration": 20,
    "start_time": "2022-12-29T19:42:27.460Z"
   },
   {
    "duration": 12,
    "start_time": "2022-12-29T19:42:27.483Z"
   },
   {
    "duration": 59,
    "start_time": "2022-12-29T19:42:27.497Z"
   },
   {
    "duration": 10,
    "start_time": "2022-12-29T19:44:32.587Z"
   },
   {
    "duration": 51,
    "start_time": "2022-12-29T20:00:02.972Z"
   },
   {
    "duration": 69,
    "start_time": "2022-12-29T20:01:19.036Z"
   },
   {
    "duration": 56,
    "start_time": "2022-12-29T20:05:01.918Z"
   },
   {
    "duration": 54,
    "start_time": "2022-12-29T20:05:53.972Z"
   },
   {
    "duration": 1702,
    "start_time": "2022-12-29T20:23:40.436Z"
   },
   {
    "duration": 3072,
    "start_time": "2022-12-29T20:26:32.004Z"
   },
   {
    "duration": 2075,
    "start_time": "2022-12-29T20:28:11.099Z"
   },
   {
    "duration": 3749,
    "start_time": "2022-12-29T20:28:29.171Z"
   },
   {
    "duration": 4270,
    "start_time": "2022-12-29T20:28:39.008Z"
   },
   {
    "duration": 2029,
    "start_time": "2022-12-29T20:29:55.026Z"
   },
   {
    "duration": 3919,
    "start_time": "2022-12-29T20:30:04.849Z"
   },
   {
    "duration": 238,
    "start_time": "2022-12-29T20:32:54.077Z"
   },
   {
    "duration": 362,
    "start_time": "2022-12-29T20:33:05.950Z"
   },
   {
    "duration": 2354,
    "start_time": "2022-12-29T20:34:09.548Z"
   },
   {
    "duration": 23,
    "start_time": "2022-12-29T20:34:39.073Z"
   },
   {
    "duration": 10013,
    "start_time": "2022-12-29T20:35:03.414Z"
   },
   {
    "duration": 201,
    "start_time": "2022-12-29T20:36:14.898Z"
   },
   {
    "duration": 1887,
    "start_time": "2022-12-29T20:36:34.515Z"
   },
   {
    "duration": 7005,
    "start_time": "2022-12-29T20:36:46.369Z"
   },
   {
    "duration": 297,
    "start_time": "2022-12-29T20:37:10.165Z"
   },
   {
    "duration": 224,
    "start_time": "2022-12-29T20:37:14.264Z"
   },
   {
    "duration": 2005,
    "start_time": "2022-12-29T20:38:00.499Z"
   },
   {
    "duration": 7316,
    "start_time": "2022-12-29T20:38:07.691Z"
   },
   {
    "duration": 240,
    "start_time": "2022-12-29T20:38:29.513Z"
   },
   {
    "duration": 18,
    "start_time": "2022-12-29T20:48:07.247Z"
   },
   {
    "duration": 19,
    "start_time": "2022-12-29T20:48:43.942Z"
   },
   {
    "duration": 5,
    "start_time": "2022-12-29T20:48:55.011Z"
   },
   {
    "duration": 73,
    "start_time": "2022-12-29T20:48:55.019Z"
   },
   {
    "duration": 71,
    "start_time": "2022-12-29T20:48:55.093Z"
   },
   {
    "duration": 5,
    "start_time": "2022-12-29T20:48:55.166Z"
   },
   {
    "duration": 6,
    "start_time": "2022-12-29T20:48:55.173Z"
   },
   {
    "duration": 6,
    "start_time": "2022-12-29T20:48:55.181Z"
   },
   {
    "duration": 402,
    "start_time": "2022-12-29T20:48:55.189Z"
   },
   {
    "duration": 20,
    "start_time": "2022-12-29T20:48:55.593Z"
   },
   {
    "duration": 5,
    "start_time": "2022-12-29T20:48:55.614Z"
   },
   {
    "duration": 39,
    "start_time": "2022-12-29T20:48:55.621Z"
   },
   {
    "duration": 5,
    "start_time": "2022-12-29T20:48:55.664Z"
   },
   {
    "duration": 16,
    "start_time": "2022-12-29T20:48:55.671Z"
   },
   {
    "duration": 144,
    "start_time": "2022-12-29T20:48:55.689Z"
   },
   {
    "duration": 6,
    "start_time": "2022-12-29T20:48:55.835Z"
   },
   {
    "duration": 18,
    "start_time": "2022-12-29T20:48:55.851Z"
   },
   {
    "duration": 13,
    "start_time": "2022-12-29T20:48:55.871Z"
   },
   {
    "duration": 24,
    "start_time": "2022-12-29T20:48:55.886Z"
   },
   {
    "duration": 41,
    "start_time": "2022-12-29T20:48:55.912Z"
   },
   {
    "duration": 15,
    "start_time": "2022-12-29T20:48:55.955Z"
   },
   {
    "duration": 19,
    "start_time": "2022-12-29T20:48:55.971Z"
   },
   {
    "duration": 106,
    "start_time": "2022-12-29T20:48:55.992Z"
   },
   {
    "duration": 1783,
    "start_time": "2022-12-29T20:48:56.100Z"
   },
   {
    "duration": 6286,
    "start_time": "2022-12-29T20:48:57.885Z"
   },
   {
    "duration": 179,
    "start_time": "2022-12-29T20:49:04.173Z"
   },
   {
    "duration": 12,
    "start_time": "2022-12-29T20:49:07.399Z"
   },
   {
    "duration": 15,
    "start_time": "2022-12-29T20:51:20.728Z"
   },
   {
    "duration": 2252,
    "start_time": "2022-12-29T20:51:34.638Z"
   },
   {
    "duration": 6930,
    "start_time": "2022-12-29T20:52:56.247Z"
   },
   {
    "duration": 370,
    "start_time": "2022-12-29T20:55:21.171Z"
   },
   {
    "duration": 4,
    "start_time": "2022-12-29T20:56:50.499Z"
   },
   {
    "duration": 8,
    "start_time": "2022-12-29T20:57:26.146Z"
   },
   {
    "duration": 195,
    "start_time": "2022-12-29T20:57:38.716Z"
   },
   {
    "duration": 6,
    "start_time": "2022-12-29T20:57:41.661Z"
   },
   {
    "duration": 7,
    "start_time": "2022-12-29T21:02:39.895Z"
   },
   {
    "duration": 61801,
    "start_time": "2022-12-29T22:47:17.889Z"
   },
   {
    "duration": 2146,
    "start_time": "2022-12-29T22:48:47.343Z"
   },
   {
    "duration": 6914,
    "start_time": "2022-12-29T22:49:04.866Z"
   },
   {
    "duration": 2366,
    "start_time": "2022-12-29T22:52:05.269Z"
   },
   {
    "duration": 7733,
    "start_time": "2022-12-29T22:52:22.863Z"
   },
   {
    "duration": 7352,
    "start_time": "2022-12-29T22:52:53.495Z"
   },
   {
    "duration": 62591,
    "start_time": "2022-12-29T22:57:44.815Z"
   },
   {
    "duration": 2536,
    "start_time": "2022-12-29T22:59:27.972Z"
   },
   {
    "duration": 37281,
    "start_time": "2022-12-29T22:59:34.230Z"
   },
   {
    "duration": 9138,
    "start_time": "2022-12-29T23:01:47.625Z"
   },
   {
    "duration": 147,
    "start_time": "2022-12-29T23:31:25.850Z"
   },
   {
    "duration": 17,
    "start_time": "2022-12-29T23:33:53.030Z"
   },
   {
    "duration": 17,
    "start_time": "2022-12-29T23:46:10.472Z"
   },
   {
    "duration": 16,
    "start_time": "2022-12-29T23:47:33.207Z"
   },
   {
    "duration": 16,
    "start_time": "2022-12-30T00:37:37.492Z"
   },
   {
    "duration": 15,
    "start_time": "2022-12-30T00:54:24.969Z"
   },
   {
    "duration": 13,
    "start_time": "2022-12-30T00:54:57.653Z"
   },
   {
    "duration": 26,
    "start_time": "2022-12-30T00:55:13.587Z"
   },
   {
    "duration": 14,
    "start_time": "2022-12-30T00:55:23.036Z"
   },
   {
    "duration": 18,
    "start_time": "2022-12-30T00:55:36.378Z"
   },
   {
    "duration": 16,
    "start_time": "2022-12-30T00:55:40.239Z"
   },
   {
    "duration": 16,
    "start_time": "2022-12-30T00:55:45.714Z"
   },
   {
    "duration": 17,
    "start_time": "2022-12-30T00:55:51.440Z"
   },
   {
    "duration": 16,
    "start_time": "2022-12-30T00:55:56.233Z"
   },
   {
    "duration": 16,
    "start_time": "2022-12-30T00:56:01.489Z"
   },
   {
    "duration": 18,
    "start_time": "2022-12-30T00:56:05.687Z"
   },
   {
    "duration": 17,
    "start_time": "2022-12-30T00:56:10.855Z"
   },
   {
    "duration": 20,
    "start_time": "2022-12-30T00:56:17.195Z"
   },
   {
    "duration": 17,
    "start_time": "2022-12-30T01:01:14.995Z"
   },
   {
    "duration": 16,
    "start_time": "2022-12-30T01:04:24.575Z"
   },
   {
    "duration": 21,
    "start_time": "2022-12-30T01:06:38.657Z"
   },
   {
    "duration": 11,
    "start_time": "2022-12-30T01:06:49.841Z"
   },
   {
    "duration": 8,
    "start_time": "2022-12-30T01:07:09.821Z"
   },
   {
    "duration": 11,
    "start_time": "2022-12-30T01:07:34.414Z"
   },
   {
    "duration": 14,
    "start_time": "2022-12-30T01:07:55.645Z"
   },
   {
    "duration": 7,
    "start_time": "2022-12-30T01:09:31.120Z"
   },
   {
    "duration": 6,
    "start_time": "2022-12-30T01:09:33.515Z"
   },
   {
    "duration": 7,
    "start_time": "2022-12-30T01:09:34.462Z"
   },
   {
    "duration": 8,
    "start_time": "2022-12-30T01:09:46.135Z"
   },
   {
    "duration": 10,
    "start_time": "2022-12-30T01:09:53.683Z"
   },
   {
    "duration": 10,
    "start_time": "2022-12-30T01:10:23.733Z"
   },
   {
    "duration": 9,
    "start_time": "2022-12-30T01:11:41.763Z"
   },
   {
    "duration": 6,
    "start_time": "2022-12-30T01:12:05.916Z"
   },
   {
    "duration": 20,
    "start_time": "2022-12-30T01:12:39.801Z"
   },
   {
    "duration": 16,
    "start_time": "2022-12-30T01:13:28.376Z"
   },
   {
    "duration": 15,
    "start_time": "2022-12-30T01:14:34.610Z"
   },
   {
    "duration": 17,
    "start_time": "2022-12-30T01:15:58.349Z"
   },
   {
    "duration": 17,
    "start_time": "2022-12-30T01:16:10.789Z"
   },
   {
    "duration": 18,
    "start_time": "2022-12-30T01:17:14.352Z"
   },
   {
    "duration": 17,
    "start_time": "2022-12-30T01:17:53.995Z"
   },
   {
    "duration": 24,
    "start_time": "2022-12-30T01:18:21.895Z"
   },
   {
    "duration": 20,
    "start_time": "2022-12-30T01:21:34.685Z"
   },
   {
    "duration": 3432,
    "start_time": "2022-12-30T01:27:15.620Z"
   },
   {
    "duration": 8622,
    "start_time": "2022-12-30T01:28:09.051Z"
   },
   {
    "duration": 8399,
    "start_time": "2022-12-30T01:29:05.362Z"
   },
   {
    "duration": 3170,
    "start_time": "2022-12-30T01:29:22.491Z"
   },
   {
    "duration": 3316,
    "start_time": "2022-12-30T01:29:41.199Z"
   },
   {
    "duration": 4175,
    "start_time": "2022-12-30T01:30:28.880Z"
   },
   {
    "duration": 11124,
    "start_time": "2022-12-30T01:30:40.025Z"
   },
   {
    "duration": 1379,
    "start_time": "2022-12-30T01:32:14.484Z"
   },
   {
    "duration": 4395,
    "start_time": "2022-12-30T01:32:55.509Z"
   },
   {
    "duration": 30,
    "start_time": "2022-12-30T01:41:47.060Z"
   },
   {
    "duration": 4,
    "start_time": "2022-12-30T01:41:57.043Z"
   },
   {
    "duration": 72,
    "start_time": "2022-12-30T01:41:57.049Z"
   },
   {
    "duration": 40,
    "start_time": "2022-12-30T01:41:57.122Z"
   },
   {
    "duration": 4,
    "start_time": "2022-12-30T01:41:57.163Z"
   },
   {
    "duration": 10,
    "start_time": "2022-12-30T01:41:57.169Z"
   },
   {
    "duration": 6,
    "start_time": "2022-12-30T01:41:57.181Z"
   },
   {
    "duration": 250,
    "start_time": "2022-12-30T01:41:57.189Z"
   },
   {
    "duration": 22,
    "start_time": "2022-12-30T01:41:57.441Z"
   },
   {
    "duration": 5,
    "start_time": "2022-12-30T01:41:57.464Z"
   },
   {
    "duration": 19,
    "start_time": "2022-12-30T01:41:57.470Z"
   },
   {
    "duration": 4,
    "start_time": "2022-12-30T01:41:57.491Z"
   },
   {
    "duration": 17,
    "start_time": "2022-12-30T01:41:57.497Z"
   },
   {
    "duration": 142,
    "start_time": "2022-12-30T01:41:57.515Z"
   },
   {
    "duration": 6,
    "start_time": "2022-12-30T01:41:57.660Z"
   },
   {
    "duration": 20,
    "start_time": "2022-12-30T01:41:57.667Z"
   },
   {
    "duration": 11,
    "start_time": "2022-12-30T01:41:57.689Z"
   },
   {
    "duration": 28,
    "start_time": "2022-12-30T01:41:57.701Z"
   },
   {
    "duration": 23,
    "start_time": "2022-12-30T01:41:57.731Z"
   },
   {
    "duration": 12,
    "start_time": "2022-12-30T01:41:57.756Z"
   },
   {
    "duration": 15,
    "start_time": "2022-12-30T01:41:57.770Z"
   },
   {
    "duration": 90,
    "start_time": "2022-12-30T01:41:57.787Z"
   },
   {
    "duration": 2395,
    "start_time": "2022-12-30T01:41:57.879Z"
   },
   {
    "duration": 9056,
    "start_time": "2022-12-30T01:42:00.276Z"
   },
   {
    "duration": 18,
    "start_time": "2022-12-30T01:42:18.223Z"
   },
   {
    "duration": 273,
    "start_time": "2022-12-30T01:45:40.600Z"
   },
   {
    "duration": 260,
    "start_time": "2022-12-30T01:46:22.523Z"
   },
   {
    "duration": 215,
    "start_time": "2022-12-30T01:48:05.092Z"
   },
   {
    "duration": 241,
    "start_time": "2022-12-30T01:53:32.881Z"
   },
   {
    "duration": 236,
    "start_time": "2022-12-30T01:54:00.985Z"
   },
   {
    "duration": 226,
    "start_time": "2022-12-30T01:54:09.794Z"
   },
   {
    "duration": 227,
    "start_time": "2022-12-30T01:54:32.789Z"
   },
   {
    "duration": 227,
    "start_time": "2022-12-30T01:54:46.688Z"
   }
  ],
  "kernelspec": {
   "display_name": "Python 3 (ipykernel)",
   "language": "python",
   "name": "python3"
  },
  "language_info": {
   "codemirror_mode": {
    "name": "ipython",
    "version": 3
   },
   "file_extension": ".py",
   "mimetype": "text/x-python",
   "name": "python",
   "nbconvert_exporter": "python",
   "pygments_lexer": "ipython3",
   "version": "3.9.5"
  },
  "toc": {
   "base_numbering": 1,
   "nav_menu": {},
   "number_sections": true,
   "sideBar": true,
   "skip_h1_title": true,
   "title_cell": "Содержание",
   "title_sidebar": "Contents",
   "toc_cell": true,
   "toc_position": {},
   "toc_section_display": true,
   "toc_window_display": true
  }
 },
 "nbformat": 4,
 "nbformat_minor": 2
}
