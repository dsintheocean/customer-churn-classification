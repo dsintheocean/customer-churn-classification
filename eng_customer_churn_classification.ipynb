{
  "cells": [
    {
      "cell_type": "markdown",
      "metadata": {
        "id": "yOIYIFA4-Ae7"
      },
      "source": [
        "#Customer churn"
      ]
    },
    {
      "cell_type": "markdown",
      "metadata": {
        "id": "faBrMn3S-Ae9"
      },
      "source": [
        "Customers began to leave the bank. Bank marketers have calculated that it is cheaper to retain current customers than to attract new ones.\n",
        "\n",
        "It is necessary to predict whether the client will leave the bank in the near future or not. We have historical data on customer behavior and termination of contracts with the bank.\n",
        "\n",
        "The task is to build a model with an extremely large *F1*-metric. The target metric value is not lower than 0.59.\n",
        "\n",
        "It is also necessary to additionally measure *AUC-ROC* and compare its value with the *F1*."
      ]
    },
    {
      "cell_type": "markdown",
      "metadata": {
        "id": "Ar6fWLuZ-Ae-"
      },
      "source": [
        "## Data preparation"
      ]
    },
    {
      "cell_type": "markdown",
      "metadata": {
        "id": "5UbcWUiU-Ae-"
      },
      "source": [
        "### Prepare the libraries necessary for the work"
      ]
    },
    {
      "cell_type": "code",
      "execution_count": 2,
      "metadata": {
        "id": "v0Z5a4JJ-Ae-"
      },
      "outputs": [],
      "source": [
        "import pandas as pd\n",
        "\n",
        "from sklearn.tree import DecisionTreeClassifier\n",
        "from sklearn.ensemble import RandomForestClassifier\n",
        "from sklearn.linear_model import LogisticRegression\n",
        "from sklearn.dummy import DummyClassifier\n",
        "\n",
        "from sklearn.model_selection import train_test_split\n",
        "from sklearn.utils import shuffle\n",
        "from sklearn.preprocessing import StandardScaler\n",
        "\n",
        "from sklearn.metrics import accuracy_score\n",
        "from sklearn.metrics import f1_score\n",
        "from sklearn.metrics import roc_auc_score"
      ]
    },
    {
      "cell_type": "markdown",
      "metadata": {
        "id": "kI9JA4OJ-Ae_"
      },
      "source": [
        "### Let's study the data inside the dataframe and do the necessary preprocessing"
      ]
    },
    {
      "cell_type": "code",
      "source": [
        "from google.colab import drive\n",
        "drive.mount('/content/drive')\n",
        "csv_path = '/content/drive/My Drive/projects/bank_customer_churn_classification/churn.csv'\n",
        "# Read the CSV file into a Pandas DataFrame\n",
        "data = pd.read_csv(csv_path)\n",
        "pd.set_option('display.max_columns', None)\n",
        "display(data.shape);\n",
        "display(data.head());\n",
        "display(data.info());"
      ],
      "metadata": {
        "id": "cj9FCw36Azd6",
        "outputId": "30012ee2-786c-42df-bb62-6865ac677d8d",
        "colab": {
          "base_uri": "https://localhost:8080/",
          "height": 612
        }
      },
      "execution_count": 3,
      "outputs": [
        {
          "output_type": "stream",
          "name": "stdout",
          "text": [
            "Mounted at /content/drive\n"
          ]
        },
        {
          "output_type": "display_data",
          "data": {
            "text/plain": [
              "(10000, 14)"
            ]
          },
          "metadata": {}
        },
        {
          "output_type": "display_data",
          "data": {
            "text/plain": [
              "   RowNumber  CustomerId   Surname  CreditScore Geography  Gender  Age  \\\n",
              "0          1    15634602  Hargrave          619    France  Female   42   \n",
              "1          2    15647311      Hill          608     Spain  Female   41   \n",
              "2          3    15619304      Onio          502    France  Female   42   \n",
              "3          4    15701354      Boni          699    France  Female   39   \n",
              "4          5    15737888  Mitchell          850     Spain  Female   43   \n",
              "\n",
              "   Tenure    Balance  NumOfProducts  HasCrCard  IsActiveMember  \\\n",
              "0     2.0       0.00              1          1               1   \n",
              "1     1.0   83807.86              1          0               1   \n",
              "2     8.0  159660.80              3          1               0   \n",
              "3     1.0       0.00              2          0               0   \n",
              "4     2.0  125510.82              1          1               1   \n",
              "\n",
              "   EstimatedSalary  Exited  \n",
              "0        101348.88       1  \n",
              "1        112542.58       0  \n",
              "2        113931.57       1  \n",
              "3         93826.63       0  \n",
              "4         79084.10       0  "
            ],
            "text/html": [
              "\n",
              "  <div id=\"df-508133d5-f0d4-497e-886e-624ac64b6477\" class=\"colab-df-container\">\n",
              "    <div>\n",
              "<style scoped>\n",
              "    .dataframe tbody tr th:only-of-type {\n",
              "        vertical-align: middle;\n",
              "    }\n",
              "\n",
              "    .dataframe tbody tr th {\n",
              "        vertical-align: top;\n",
              "    }\n",
              "\n",
              "    .dataframe thead th {\n",
              "        text-align: right;\n",
              "    }\n",
              "</style>\n",
              "<table border=\"1\" class=\"dataframe\">\n",
              "  <thead>\n",
              "    <tr style=\"text-align: right;\">\n",
              "      <th></th>\n",
              "      <th>RowNumber</th>\n",
              "      <th>CustomerId</th>\n",
              "      <th>Surname</th>\n",
              "      <th>CreditScore</th>\n",
              "      <th>Geography</th>\n",
              "      <th>Gender</th>\n",
              "      <th>Age</th>\n",
              "      <th>Tenure</th>\n",
              "      <th>Balance</th>\n",
              "      <th>NumOfProducts</th>\n",
              "      <th>HasCrCard</th>\n",
              "      <th>IsActiveMember</th>\n",
              "      <th>EstimatedSalary</th>\n",
              "      <th>Exited</th>\n",
              "    </tr>\n",
              "  </thead>\n",
              "  <tbody>\n",
              "    <tr>\n",
              "      <th>0</th>\n",
              "      <td>1</td>\n",
              "      <td>15634602</td>\n",
              "      <td>Hargrave</td>\n",
              "      <td>619</td>\n",
              "      <td>France</td>\n",
              "      <td>Female</td>\n",
              "      <td>42</td>\n",
              "      <td>2.0</td>\n",
              "      <td>0.00</td>\n",
              "      <td>1</td>\n",
              "      <td>1</td>\n",
              "      <td>1</td>\n",
              "      <td>101348.88</td>\n",
              "      <td>1</td>\n",
              "    </tr>\n",
              "    <tr>\n",
              "      <th>1</th>\n",
              "      <td>2</td>\n",
              "      <td>15647311</td>\n",
              "      <td>Hill</td>\n",
              "      <td>608</td>\n",
              "      <td>Spain</td>\n",
              "      <td>Female</td>\n",
              "      <td>41</td>\n",
              "      <td>1.0</td>\n",
              "      <td>83807.86</td>\n",
              "      <td>1</td>\n",
              "      <td>0</td>\n",
              "      <td>1</td>\n",
              "      <td>112542.58</td>\n",
              "      <td>0</td>\n",
              "    </tr>\n",
              "    <tr>\n",
              "      <th>2</th>\n",
              "      <td>3</td>\n",
              "      <td>15619304</td>\n",
              "      <td>Onio</td>\n",
              "      <td>502</td>\n",
              "      <td>France</td>\n",
              "      <td>Female</td>\n",
              "      <td>42</td>\n",
              "      <td>8.0</td>\n",
              "      <td>159660.80</td>\n",
              "      <td>3</td>\n",
              "      <td>1</td>\n",
              "      <td>0</td>\n",
              "      <td>113931.57</td>\n",
              "      <td>1</td>\n",
              "    </tr>\n",
              "    <tr>\n",
              "      <th>3</th>\n",
              "      <td>4</td>\n",
              "      <td>15701354</td>\n",
              "      <td>Boni</td>\n",
              "      <td>699</td>\n",
              "      <td>France</td>\n",
              "      <td>Female</td>\n",
              "      <td>39</td>\n",
              "      <td>1.0</td>\n",
              "      <td>0.00</td>\n",
              "      <td>2</td>\n",
              "      <td>0</td>\n",
              "      <td>0</td>\n",
              "      <td>93826.63</td>\n",
              "      <td>0</td>\n",
              "    </tr>\n",
              "    <tr>\n",
              "      <th>4</th>\n",
              "      <td>5</td>\n",
              "      <td>15737888</td>\n",
              "      <td>Mitchell</td>\n",
              "      <td>850</td>\n",
              "      <td>Spain</td>\n",
              "      <td>Female</td>\n",
              "      <td>43</td>\n",
              "      <td>2.0</td>\n",
              "      <td>125510.82</td>\n",
              "      <td>1</td>\n",
              "      <td>1</td>\n",
              "      <td>1</td>\n",
              "      <td>79084.10</td>\n",
              "      <td>0</td>\n",
              "    </tr>\n",
              "  </tbody>\n",
              "</table>\n",
              "</div>\n",
              "    <div class=\"colab-df-buttons\">\n",
              "\n",
              "  <div class=\"colab-df-container\">\n",
              "    <button class=\"colab-df-convert\" onclick=\"convertToInteractive('df-508133d5-f0d4-497e-886e-624ac64b6477')\"\n",
              "            title=\"Convert this dataframe to an interactive table.\"\n",
              "            style=\"display:none;\">\n",
              "\n",
              "  <svg xmlns=\"http://www.w3.org/2000/svg\" height=\"24px\" viewBox=\"0 -960 960 960\">\n",
              "    <path d=\"M120-120v-720h720v720H120Zm60-500h600v-160H180v160Zm220 220h160v-160H400v160Zm0 220h160v-160H400v160ZM180-400h160v-160H180v160Zm440 0h160v-160H620v160ZM180-180h160v-160H180v160Zm440 0h160v-160H620v160Z\"/>\n",
              "  </svg>\n",
              "    </button>\n",
              "\n",
              "  <style>\n",
              "    .colab-df-container {\n",
              "      display:flex;\n",
              "      gap: 12px;\n",
              "    }\n",
              "\n",
              "    .colab-df-convert {\n",
              "      background-color: #E8F0FE;\n",
              "      border: none;\n",
              "      border-radius: 50%;\n",
              "      cursor: pointer;\n",
              "      display: none;\n",
              "      fill: #1967D2;\n",
              "      height: 32px;\n",
              "      padding: 0 0 0 0;\n",
              "      width: 32px;\n",
              "    }\n",
              "\n",
              "    .colab-df-convert:hover {\n",
              "      background-color: #E2EBFA;\n",
              "      box-shadow: 0px 1px 2px rgba(60, 64, 67, 0.3), 0px 1px 3px 1px rgba(60, 64, 67, 0.15);\n",
              "      fill: #174EA6;\n",
              "    }\n",
              "\n",
              "    .colab-df-buttons div {\n",
              "      margin-bottom: 4px;\n",
              "    }\n",
              "\n",
              "    [theme=dark] .colab-df-convert {\n",
              "      background-color: #3B4455;\n",
              "      fill: #D2E3FC;\n",
              "    }\n",
              "\n",
              "    [theme=dark] .colab-df-convert:hover {\n",
              "      background-color: #434B5C;\n",
              "      box-shadow: 0px 1px 3px 1px rgba(0, 0, 0, 0.15);\n",
              "      filter: drop-shadow(0px 1px 2px rgba(0, 0, 0, 0.3));\n",
              "      fill: #FFFFFF;\n",
              "    }\n",
              "  </style>\n",
              "\n",
              "    <script>\n",
              "      const buttonEl =\n",
              "        document.querySelector('#df-508133d5-f0d4-497e-886e-624ac64b6477 button.colab-df-convert');\n",
              "      buttonEl.style.display =\n",
              "        google.colab.kernel.accessAllowed ? 'block' : 'none';\n",
              "\n",
              "      async function convertToInteractive(key) {\n",
              "        const element = document.querySelector('#df-508133d5-f0d4-497e-886e-624ac64b6477');\n",
              "        const dataTable =\n",
              "          await google.colab.kernel.invokeFunction('convertToInteractive',\n",
              "                                                    [key], {});\n",
              "        if (!dataTable) return;\n",
              "\n",
              "        const docLinkHtml = 'Like what you see? Visit the ' +\n",
              "          '<a target=\"_blank\" href=https://colab.research.google.com/notebooks/data_table.ipynb>data table notebook</a>'\n",
              "          + ' to learn more about interactive tables.';\n",
              "        element.innerHTML = '';\n",
              "        dataTable['output_type'] = 'display_data';\n",
              "        await google.colab.output.renderOutput(dataTable, element);\n",
              "        const docLink = document.createElement('div');\n",
              "        docLink.innerHTML = docLinkHtml;\n",
              "        element.appendChild(docLink);\n",
              "      }\n",
              "    </script>\n",
              "  </div>\n",
              "\n",
              "\n",
              "<div id=\"df-640e3ca4-dba9-4a2c-bd24-851c08511fd2\">\n",
              "  <button class=\"colab-df-quickchart\" onclick=\"quickchart('df-640e3ca4-dba9-4a2c-bd24-851c08511fd2')\"\n",
              "            title=\"Suggest charts.\"\n",
              "            style=\"display:none;\">\n",
              "\n",
              "<svg xmlns=\"http://www.w3.org/2000/svg\" height=\"24px\"viewBox=\"0 0 24 24\"\n",
              "     width=\"24px\">\n",
              "    <g>\n",
              "        <path d=\"M19 3H5c-1.1 0-2 .9-2 2v14c0 1.1.9 2 2 2h14c1.1 0 2-.9 2-2V5c0-1.1-.9-2-2-2zM9 17H7v-7h2v7zm4 0h-2V7h2v10zm4 0h-2v-4h2v4z\"/>\n",
              "    </g>\n",
              "</svg>\n",
              "  </button>\n",
              "\n",
              "<style>\n",
              "  .colab-df-quickchart {\n",
              "      --bg-color: #E8F0FE;\n",
              "      --fill-color: #1967D2;\n",
              "      --hover-bg-color: #E2EBFA;\n",
              "      --hover-fill-color: #174EA6;\n",
              "      --disabled-fill-color: #AAA;\n",
              "      --disabled-bg-color: #DDD;\n",
              "  }\n",
              "\n",
              "  [theme=dark] .colab-df-quickchart {\n",
              "      --bg-color: #3B4455;\n",
              "      --fill-color: #D2E3FC;\n",
              "      --hover-bg-color: #434B5C;\n",
              "      --hover-fill-color: #FFFFFF;\n",
              "      --disabled-bg-color: #3B4455;\n",
              "      --disabled-fill-color: #666;\n",
              "  }\n",
              "\n",
              "  .colab-df-quickchart {\n",
              "    background-color: var(--bg-color);\n",
              "    border: none;\n",
              "    border-radius: 50%;\n",
              "    cursor: pointer;\n",
              "    display: none;\n",
              "    fill: var(--fill-color);\n",
              "    height: 32px;\n",
              "    padding: 0;\n",
              "    width: 32px;\n",
              "  }\n",
              "\n",
              "  .colab-df-quickchart:hover {\n",
              "    background-color: var(--hover-bg-color);\n",
              "    box-shadow: 0 1px 2px rgba(60, 64, 67, 0.3), 0 1px 3px 1px rgba(60, 64, 67, 0.15);\n",
              "    fill: var(--button-hover-fill-color);\n",
              "  }\n",
              "\n",
              "  .colab-df-quickchart-complete:disabled,\n",
              "  .colab-df-quickchart-complete:disabled:hover {\n",
              "    background-color: var(--disabled-bg-color);\n",
              "    fill: var(--disabled-fill-color);\n",
              "    box-shadow: none;\n",
              "  }\n",
              "\n",
              "  .colab-df-spinner {\n",
              "    border: 2px solid var(--fill-color);\n",
              "    border-color: transparent;\n",
              "    border-bottom-color: var(--fill-color);\n",
              "    animation:\n",
              "      spin 1s steps(1) infinite;\n",
              "  }\n",
              "\n",
              "  @keyframes spin {\n",
              "    0% {\n",
              "      border-color: transparent;\n",
              "      border-bottom-color: var(--fill-color);\n",
              "      border-left-color: var(--fill-color);\n",
              "    }\n",
              "    20% {\n",
              "      border-color: transparent;\n",
              "      border-left-color: var(--fill-color);\n",
              "      border-top-color: var(--fill-color);\n",
              "    }\n",
              "    30% {\n",
              "      border-color: transparent;\n",
              "      border-left-color: var(--fill-color);\n",
              "      border-top-color: var(--fill-color);\n",
              "      border-right-color: var(--fill-color);\n",
              "    }\n",
              "    40% {\n",
              "      border-color: transparent;\n",
              "      border-right-color: var(--fill-color);\n",
              "      border-top-color: var(--fill-color);\n",
              "    }\n",
              "    60% {\n",
              "      border-color: transparent;\n",
              "      border-right-color: var(--fill-color);\n",
              "    }\n",
              "    80% {\n",
              "      border-color: transparent;\n",
              "      border-right-color: var(--fill-color);\n",
              "      border-bottom-color: var(--fill-color);\n",
              "    }\n",
              "    90% {\n",
              "      border-color: transparent;\n",
              "      border-bottom-color: var(--fill-color);\n",
              "    }\n",
              "  }\n",
              "</style>\n",
              "\n",
              "  <script>\n",
              "    async function quickchart(key) {\n",
              "      const quickchartButtonEl =\n",
              "        document.querySelector('#' + key + ' button');\n",
              "      quickchartButtonEl.disabled = true;  // To prevent multiple clicks.\n",
              "      quickchartButtonEl.classList.add('colab-df-spinner');\n",
              "      try {\n",
              "        const charts = await google.colab.kernel.invokeFunction(\n",
              "            'suggestCharts', [key], {});\n",
              "      } catch (error) {\n",
              "        console.error('Error during call to suggestCharts:', error);\n",
              "      }\n",
              "      quickchartButtonEl.classList.remove('colab-df-spinner');\n",
              "      quickchartButtonEl.classList.add('colab-df-quickchart-complete');\n",
              "    }\n",
              "    (() => {\n",
              "      let quickchartButtonEl =\n",
              "        document.querySelector('#df-640e3ca4-dba9-4a2c-bd24-851c08511fd2 button');\n",
              "      quickchartButtonEl.style.display =\n",
              "        google.colab.kernel.accessAllowed ? 'block' : 'none';\n",
              "    })();\n",
              "  </script>\n",
              "</div>\n",
              "    </div>\n",
              "  </div>\n"
            ]
          },
          "metadata": {}
        },
        {
          "output_type": "stream",
          "name": "stdout",
          "text": [
            "<class 'pandas.core.frame.DataFrame'>\n",
            "RangeIndex: 10000 entries, 0 to 9999\n",
            "Data columns (total 14 columns):\n",
            " #   Column           Non-Null Count  Dtype  \n",
            "---  ------           --------------  -----  \n",
            " 0   RowNumber        10000 non-null  int64  \n",
            " 1   CustomerId       10000 non-null  int64  \n",
            " 2   Surname          10000 non-null  object \n",
            " 3   CreditScore      10000 non-null  int64  \n",
            " 4   Geography        10000 non-null  object \n",
            " 5   Gender           10000 non-null  object \n",
            " 6   Age              10000 non-null  int64  \n",
            " 7   Tenure           9091 non-null   float64\n",
            " 8   Balance          10000 non-null  float64\n",
            " 9   NumOfProducts    10000 non-null  int64  \n",
            " 10  HasCrCard        10000 non-null  int64  \n",
            " 11  IsActiveMember   10000 non-null  int64  \n",
            " 12  EstimatedSalary  10000 non-null  float64\n",
            " 13  Exited           10000 non-null  int64  \n",
            "dtypes: float64(3), int64(8), object(3)\n",
            "memory usage: 1.1+ MB\n"
          ]
        },
        {
          "output_type": "display_data",
          "data": {
            "text/plain": [
              "None"
            ]
          },
          "metadata": {}
        }
      ]
    },
    {
      "cell_type": "markdown",
      "metadata": {
        "id": "1qE9tV1h-AfA"
      },
      "source": [
        "**Features:**\n",
        "- RowNumber — row index in the data\n",
        "- CustomerId — unique client identifier\n",
        "- Surname - surname\n",
        "- CreditScore - credit rating\n",
        "- Geography - country of residence\n",
        "- Gender - gender\n",
        "- Age - age\n",
        "- Tenure - how many years a person has been a bank client\n",
        "- Balance - account balance\n",
        "- NumOfProducts — number of bank products used by the client\n",
        "- HasCrCard - availability of a credit card\n",
        "- IsActiveMember — client activity\n",
        "- EstimatedSalary - estimated salary\n",
        "\n",
        "**Target feature:**\n",
        "- Exited—the fact that the client has left"
      ]
    },
    {
      "cell_type": "code",
      "execution_count": null,
      "metadata": {
        "id": "mbalqjze-AfA",
        "outputId": "d35384af-71cf-4129-920c-a4e5de6a1350"
      },
      "outputs": [
        {
          "data": {
            "text/html": [
              "<div>\n",
              "<style scoped>\n",
              "    .dataframe tbody tr th:only-of-type {\n",
              "        vertical-align: middle;\n",
              "    }\n",
              "\n",
              "    .dataframe tbody tr th {\n",
              "        vertical-align: top;\n",
              "    }\n",
              "\n",
              "    .dataframe thead th {\n",
              "        text-align: right;\n",
              "    }\n",
              "</style>\n",
              "<table border=\"1\" class=\"dataframe\">\n",
              "  <thead>\n",
              "    <tr style=\"text-align: right;\">\n",
              "      <th></th>\n",
              "      <th>RowNumber</th>\n",
              "      <th>CustomerId</th>\n",
              "      <th>CreditScore</th>\n",
              "      <th>Age</th>\n",
              "      <th>Tenure</th>\n",
              "      <th>Balance</th>\n",
              "      <th>NumOfProducts</th>\n",
              "      <th>HasCrCard</th>\n",
              "      <th>IsActiveMember</th>\n",
              "      <th>EstimatedSalary</th>\n",
              "      <th>Exited</th>\n",
              "    </tr>\n",
              "  </thead>\n",
              "  <tbody>\n",
              "    <tr>\n",
              "      <th>count</th>\n",
              "      <td>10000.00000</td>\n",
              "      <td>1.000000e+04</td>\n",
              "      <td>10000.000000</td>\n",
              "      <td>10000.000000</td>\n",
              "      <td>9091.000000</td>\n",
              "      <td>10000.000000</td>\n",
              "      <td>10000.000000</td>\n",
              "      <td>10000.00000</td>\n",
              "      <td>10000.000000</td>\n",
              "      <td>10000.000000</td>\n",
              "      <td>10000.000000</td>\n",
              "    </tr>\n",
              "    <tr>\n",
              "      <th>mean</th>\n",
              "      <td>5000.50000</td>\n",
              "      <td>1.569094e+07</td>\n",
              "      <td>650.528800</td>\n",
              "      <td>38.921800</td>\n",
              "      <td>4.997690</td>\n",
              "      <td>76485.889288</td>\n",
              "      <td>1.530200</td>\n",
              "      <td>0.70550</td>\n",
              "      <td>0.515100</td>\n",
              "      <td>100090.239881</td>\n",
              "      <td>0.203700</td>\n",
              "    </tr>\n",
              "    <tr>\n",
              "      <th>std</th>\n",
              "      <td>2886.89568</td>\n",
              "      <td>7.193619e+04</td>\n",
              "      <td>96.653299</td>\n",
              "      <td>10.487806</td>\n",
              "      <td>2.894723</td>\n",
              "      <td>62397.405202</td>\n",
              "      <td>0.581654</td>\n",
              "      <td>0.45584</td>\n",
              "      <td>0.499797</td>\n",
              "      <td>57510.492818</td>\n",
              "      <td>0.402769</td>\n",
              "    </tr>\n",
              "    <tr>\n",
              "      <th>min</th>\n",
              "      <td>1.00000</td>\n",
              "      <td>1.556570e+07</td>\n",
              "      <td>350.000000</td>\n",
              "      <td>18.000000</td>\n",
              "      <td>0.000000</td>\n",
              "      <td>0.000000</td>\n",
              "      <td>1.000000</td>\n",
              "      <td>0.00000</td>\n",
              "      <td>0.000000</td>\n",
              "      <td>11.580000</td>\n",
              "      <td>0.000000</td>\n",
              "    </tr>\n",
              "    <tr>\n",
              "      <th>25%</th>\n",
              "      <td>2500.75000</td>\n",
              "      <td>1.562853e+07</td>\n",
              "      <td>584.000000</td>\n",
              "      <td>32.000000</td>\n",
              "      <td>2.000000</td>\n",
              "      <td>0.000000</td>\n",
              "      <td>1.000000</td>\n",
              "      <td>0.00000</td>\n",
              "      <td>0.000000</td>\n",
              "      <td>51002.110000</td>\n",
              "      <td>0.000000</td>\n",
              "    </tr>\n",
              "    <tr>\n",
              "      <th>50%</th>\n",
              "      <td>5000.50000</td>\n",
              "      <td>1.569074e+07</td>\n",
              "      <td>652.000000</td>\n",
              "      <td>37.000000</td>\n",
              "      <td>5.000000</td>\n",
              "      <td>97198.540000</td>\n",
              "      <td>1.000000</td>\n",
              "      <td>1.00000</td>\n",
              "      <td>1.000000</td>\n",
              "      <td>100193.915000</td>\n",
              "      <td>0.000000</td>\n",
              "    </tr>\n",
              "    <tr>\n",
              "      <th>75%</th>\n",
              "      <td>7500.25000</td>\n",
              "      <td>1.575323e+07</td>\n",
              "      <td>718.000000</td>\n",
              "      <td>44.000000</td>\n",
              "      <td>7.000000</td>\n",
              "      <td>127644.240000</td>\n",
              "      <td>2.000000</td>\n",
              "      <td>1.00000</td>\n",
              "      <td>1.000000</td>\n",
              "      <td>149388.247500</td>\n",
              "      <td>0.000000</td>\n",
              "    </tr>\n",
              "    <tr>\n",
              "      <th>max</th>\n",
              "      <td>10000.00000</td>\n",
              "      <td>1.581569e+07</td>\n",
              "      <td>850.000000</td>\n",
              "      <td>92.000000</td>\n",
              "      <td>10.000000</td>\n",
              "      <td>250898.090000</td>\n",
              "      <td>4.000000</td>\n",
              "      <td>1.00000</td>\n",
              "      <td>1.000000</td>\n",
              "      <td>199992.480000</td>\n",
              "      <td>1.000000</td>\n",
              "    </tr>\n",
              "  </tbody>\n",
              "</table>\n",
              "</div>"
            ],
            "text/plain": [
              "         RowNumber    CustomerId   CreditScore           Age       Tenure  \\\n",
              "count  10000.00000  1.000000e+04  10000.000000  10000.000000  9091.000000   \n",
              "mean    5000.50000  1.569094e+07    650.528800     38.921800     4.997690   \n",
              "std     2886.89568  7.193619e+04     96.653299     10.487806     2.894723   \n",
              "min        1.00000  1.556570e+07    350.000000     18.000000     0.000000   \n",
              "25%     2500.75000  1.562853e+07    584.000000     32.000000     2.000000   \n",
              "50%     5000.50000  1.569074e+07    652.000000     37.000000     5.000000   \n",
              "75%     7500.25000  1.575323e+07    718.000000     44.000000     7.000000   \n",
              "max    10000.00000  1.581569e+07    850.000000     92.000000    10.000000   \n",
              "\n",
              "             Balance  NumOfProducts    HasCrCard  IsActiveMember  \\\n",
              "count   10000.000000   10000.000000  10000.00000    10000.000000   \n",
              "mean    76485.889288       1.530200      0.70550        0.515100   \n",
              "std     62397.405202       0.581654      0.45584        0.499797   \n",
              "min         0.000000       1.000000      0.00000        0.000000   \n",
              "25%         0.000000       1.000000      0.00000        0.000000   \n",
              "50%     97198.540000       1.000000      1.00000        1.000000   \n",
              "75%    127644.240000       2.000000      1.00000        1.000000   \n",
              "max    250898.090000       4.000000      1.00000        1.000000   \n",
              "\n",
              "       EstimatedSalary        Exited  \n",
              "count     10000.000000  10000.000000  \n",
              "mean     100090.239881      0.203700  \n",
              "std       57510.492818      0.402769  \n",
              "min          11.580000      0.000000  \n",
              "25%       51002.110000      0.000000  \n",
              "50%      100193.915000      0.000000  \n",
              "75%      149388.247500      0.000000  \n",
              "max      199992.480000      1.000000  "
            ]
          },
          "execution_count": 275,
          "metadata": {},
          "output_type": "execute_result"
        }
      ],
      "source": [
        "data.describe()"
      ]
    },
    {
      "cell_type": "markdown",
      "metadata": {
        "id": "KlmSuNgZ-AfA"
      },
      "source": [
        "**We see that the values of various features are very different from each other in absolute terms, accordingly, we will need to further scale them.**"
      ]
    },
    {
      "cell_type": "markdown",
      "metadata": {
        "id": "eWrtVzB6-AfA"
      },
      "source": [
        "**Let’s check below the values of various signs for adequacy and compliance with the logic embedded in them.**"
      ]
    },
    {
      "cell_type": "code",
      "execution_count": null,
      "metadata": {
        "id": "amjYhtO8-AfA",
        "outputId": "40ad5bd3-381e-4e85-a391-6eb68c8d727e"
      },
      "outputs": [
        {
          "data": {
            "text/plain": [
              "array([1, 0])"
            ]
          },
          "execution_count": 276,
          "metadata": {},
          "output_type": "execute_result"
        }
      ],
      "source": [
        "data['HasCrCard'].unique()"
      ]
    },
    {
      "cell_type": "code",
      "execution_count": null,
      "metadata": {
        "id": "9OPY5DFm-AfB",
        "outputId": "df5b183d-21e3-4636-af85-4861675c3323"
      },
      "outputs": [
        {
          "data": {
            "text/plain": [
              "array([1, 0])"
            ]
          },
          "execution_count": 277,
          "metadata": {},
          "output_type": "execute_result"
        }
      ],
      "source": [
        "data['IsActiveMember'].unique()"
      ]
    },
    {
      "cell_type": "code",
      "execution_count": null,
      "metadata": {
        "id": "BzW3BsOM-AfB",
        "outputId": "9926b0ce-8ad6-41cc-f960-157b7c96b7a4"
      },
      "outputs": [
        {
          "data": {
            "text/plain": [
              "array([1, 0])"
            ]
          },
          "execution_count": 278,
          "metadata": {},
          "output_type": "execute_result"
        }
      ],
      "source": [
        "data['Exited'].unique()"
      ]
    },
    {
      "cell_type": "markdown",
      "metadata": {
        "id": "npC24g2Z-AfB"
      },
      "source": [
        "**We see that the values of the signs `'HasCrCard'`, `'IsActiveMember'`, `'Exited'` coincide with the logic embedded in them.**\n",
        "\n",
        "**Let's see how the values of the `'EstimatedSalary'` attribute are distributed.**"
      ]
    },
    {
      "cell_type": "code",
      "execution_count": null,
      "metadata": {
        "id": "nVJvraIu-AfB",
        "outputId": "0a713049-158d-459d-8444-9920549d6328"
      },
      "outputs": [
        {
          "data": {
            "image/png": "[encoded data removed]",
            "text/plain": [
              "<Figure size 432x288 with 1 Axes>"
            ]
          },
          "metadata": {
            "needs_background": "light"
          },
          "output_type": "display_data"
        }
      ],
      "source": [
        "data['EstimatedSalary'].hist(bins=100);"
      ]
    },
    {
      "cell_type": "markdown",
      "metadata": {
        "id": "OEbzIgjR-AfB"
      },
      "source": [
        "**We can conclude that the data cut from the general database was made in such a way that clients with different levels of expected salary were equally represented.**\n",
        "\n",
        "**You may notice that we have only 3 features (`'Surname'`, `'Geography'`, `'Gender'`) with a non-numeric data type that will have to be subsequently converted using the OHE (One-Hot Encoding) technique for training models machine learning.**\n",
        "\n",
        "**You can also see gaps in the `'Tenure'` attribute. It is unknown how strongly a given trait is related to the target one. Let's check it out.**"
      ]
    },
    {
      "cell_type": "code",
      "execution_count": null,
      "metadata": {
        "id": "DcTZgT_Z-AfC",
        "outputId": "4a5de195-ae05-49b6-9bde-793d3344e44b"
      },
      "outputs": [
        {
          "data": {
            "text/plain": [
              "0"
            ]
          },
          "metadata": {},
          "output_type": "display_data"
        },
        {
          "data": {
            "text/plain": [
              "RowNumber         -0.007322\n",
              "CustomerId        -0.021418\n",
              "CreditScore       -0.000062\n",
              "Age               -0.013134\n",
              "Tenure             1.000000\n",
              "Balance           -0.007911\n",
              "NumOfProducts      0.011979\n",
              "HasCrCard          0.027232\n",
              "IsActiveMember    -0.032178\n",
              "EstimatedSalary    0.010520\n",
              "Exited            -0.016761\n",
              "dtype: float64"
            ]
          },
          "execution_count": 280,
          "metadata": {},
          "output_type": "execute_result"
        }
      ],
      "source": [
        "data_no_na = data.dropna()\n",
        "display(data_no_na['Tenure'].isna().sum())\n",
        "data_no_na.corrwith(data_no_na['Tenure'])"
      ]
    },
    {
      "cell_type": "markdown",
      "metadata": {
        "id": "MKneqNR0-AfC"
      },
      "source": [
        "**There is no strong correlation between the `'Tenure'` feature and other numerical features.**\n",
        "\n",
        "**Let's check what percentage of the total amount of data is missing in the `'Tenure'` attribute.**"
      ]
    },
    {
      "cell_type": "code",
      "execution_count": null,
      "metadata": {
        "id": "2mhcRkQK-AfC",
        "outputId": "b7e4e9b0-5f61-4af1-b3bd-6962852a5a92"
      },
      "outputs": [
        {
          "data": {
            "text/plain": [
              "0.0909"
            ]
          },
          "execution_count": 281,
          "metadata": {},
          "output_type": "execute_result"
        }
      ],
      "source": [
        "data['Tenure'].isna().sum()/data.shape[0]"
      ]
    },
    {
      "cell_type": "markdown",
      "metadata": {
        "id": "xilu_pCl-AfC"
      },
      "source": [
        "**9 percent is less than the limit value of 10%, but let's try to save this data by filling in the gaps in the `'Tenure'` attribute. You can, of course, fill in the gaps by training the model on other features and making `'Tenure'` the target feature, but let's do it more simply - fill in the gaps in the `'Tenure'` feature with the median value.**"
      ]
    },
    {
      "cell_type": "code",
      "execution_count": 4,
      "metadata": {
        "id": "0UBY5uva-AfC",
        "outputId": "41c6ff81-430c-4f9a-9e4a-baa3e52e7314",
        "colab": {
          "base_uri": "https://localhost:8080/"
        }
      },
      "outputs": [
        {
          "output_type": "stream",
          "name": "stdout",
          "text": [
            "<class 'pandas.core.frame.DataFrame'>\n",
            "RangeIndex: 10000 entries, 0 to 9999\n",
            "Data columns (total 14 columns):\n",
            " #   Column           Non-Null Count  Dtype  \n",
            "---  ------           --------------  -----  \n",
            " 0   RowNumber        10000 non-null  int64  \n",
            " 1   CustomerId       10000 non-null  int64  \n",
            " 2   Surname          10000 non-null  object \n",
            " 3   CreditScore      10000 non-null  int64  \n",
            " 4   Geography        10000 non-null  object \n",
            " 5   Gender           10000 non-null  object \n",
            " 6   Age              10000 non-null  int64  \n",
            " 7   Tenure           10000 non-null  float64\n",
            " 8   Balance          10000 non-null  float64\n",
            " 9   NumOfProducts    10000 non-null  int64  \n",
            " 10  HasCrCard        10000 non-null  int64  \n",
            " 11  IsActiveMember   10000 non-null  int64  \n",
            " 12  EstimatedSalary  10000 non-null  float64\n",
            " 13  Exited           10000 non-null  int64  \n",
            "dtypes: float64(3), int64(8), object(3)\n",
            "memory usage: 1.1+ MB\n"
          ]
        }
      ],
      "source": [
        "df = data.fillna(data['Tenure'].median())\n",
        "df.info()"
      ]
    },
    {
      "cell_type": "markdown",
      "metadata": {
        "id": "nOsapBQz-AfC"
      },
      "source": [
        "**Let's evaluate the unique values of the `'Tenure'` attribute.**"
      ]
    },
    {
      "cell_type": "code",
      "execution_count": null,
      "metadata": {
        "id": "BEn9Wo3f-AfD",
        "outputId": "7f4d9f09-89c3-49f8-ce9a-10b04e9bdb8b"
      },
      "outputs": [
        {
          "data": {
            "text/plain": [
              "array([ 2.,  1.,  8.,  7.,  4.,  6.,  3., 10.,  5.,  9.,  0.])"
            ]
          },
          "execution_count": 283,
          "metadata": {},
          "output_type": "execute_result"
        }
      ],
      "source": [
        "df['Tenure'].unique()"
      ]
    },
    {
      "cell_type": "markdown",
      "metadata": {
        "id": "kF8f2Ubo-AfD"
      },
      "source": [
        "**We see that all values are integer, let’s change the type to integer.**"
      ]
    },
    {
      "cell_type": "code",
      "execution_count": 5,
      "metadata": {
        "id": "4aFhX-a--AfD",
        "outputId": "3a042317-2239-499f-a2b2-02d60e784e08",
        "colab": {
          "base_uri": "https://localhost:8080/"
        }
      },
      "outputs": [
        {
          "output_type": "stream",
          "name": "stdout",
          "text": [
            "<class 'pandas.core.frame.DataFrame'>\n",
            "RangeIndex: 10000 entries, 0 to 9999\n",
            "Data columns (total 14 columns):\n",
            " #   Column           Non-Null Count  Dtype  \n",
            "---  ------           --------------  -----  \n",
            " 0   RowNumber        10000 non-null  int64  \n",
            " 1   CustomerId       10000 non-null  int64  \n",
            " 2   Surname          10000 non-null  object \n",
            " 3   CreditScore      10000 non-null  int64  \n",
            " 4   Geography        10000 non-null  object \n",
            " 5   Gender           10000 non-null  object \n",
            " 6   Age              10000 non-null  int64  \n",
            " 7   Tenure           10000 non-null  int64  \n",
            " 8   Balance          10000 non-null  float64\n",
            " 9   NumOfProducts    10000 non-null  int64  \n",
            " 10  HasCrCard        10000 non-null  int64  \n",
            " 11  IsActiveMember   10000 non-null  int64  \n",
            " 12  EstimatedSalary  10000 non-null  float64\n",
            " 13  Exited           10000 non-null  int64  \n",
            "dtypes: float64(2), int64(9), object(3)\n",
            "memory usage: 1.1+ MB\n"
          ]
        }
      ],
      "source": [
        "df['Tenure'] = df['Tenure'].astype('int64')\n",
        "df.info()"
      ]
    },
    {
      "cell_type": "markdown",
      "metadata": {
        "id": "zGgXtIXc-AfD"
      },
      "source": [
        "**Let's look at the data in the `'Surname'` attribute. Let's find out how often certain surnames appear in the dataframe, and whether there are any specifics there.**"
      ]
    },
    {
      "cell_type": "code",
      "execution_count": null,
      "metadata": {
        "id": "TU2GRaUW-AfD",
        "outputId": "a6307824-1534-4915-85fc-e62ca6df1f06"
      },
      "outputs": [
        {
          "data": {
            "image/png": "[encoded data removed]",
            "text/plain": [
              "<Figure size 432x288 with 1 Axes>"
            ]
          },
          "metadata": {
            "needs_background": "light"
          },
          "output_type": "display_data"
        }
      ],
      "source": [
        "df['Surname'].value_counts().plot();"
      ]
    },
    {
      "cell_type": "markdown",
      "metadata": {
        "id": "bPxhkHlg-AfE"
      },
      "source": [
        "**We see that there is no non-standard distribution or “skew” of data in the surnames, everything is quite standard. The last name refers to a person’s ID and, in general, should not affect his behavior and, accordingly, the likelihood of leaving the bank.**\n",
        "\n",
        "**Let's see how many unique surnames the data contains.**"
      ]
    },
    {
      "cell_type": "code",
      "execution_count": null,
      "metadata": {
        "id": "-sLearVY-AfE",
        "outputId": "e601babe-adc2-4486-e265-a00470e20f84"
      },
      "outputs": [
        {
          "data": {
            "text/plain": [
              "2932"
            ]
          },
          "execution_count": 286,
          "metadata": {},
          "output_type": "execute_result"
        }
      ],
      "source": [
        "df['Surname'].nunique()"
      ]
    },
    {
      "cell_type": "markdown",
      "metadata": {
        "id": "sW_m2B1O-AfE"
      },
      "source": [
        "** Because We decided that the surname in general should not affect the probability of leaving the bank and the number of unique surnames is 2932, then for better and faster training of our models it would be logical to remove this feature, otherwise when using the OHE technique we will receive an additional 2931 columns , which will additionally overload our dataset and increase the running time of the algorithms.**\n",
        "\n",
        "**At the same time, the signs `'RowNumber'` - the row index in the data and `'CustomerId'` - the unique identifier of the client also cannot in any way influence the likelihood of the client leaving, we will remove these signs as well.**"
      ]
    },
    {
      "cell_type": "code",
      "execution_count": 6,
      "metadata": {
        "id": "0CK_PcHM-AfF",
        "outputId": "1f24c3bb-18e2-4ced-9eeb-0d9c1023604c",
        "colab": {
          "base_uri": "https://localhost:8080/"
        }
      },
      "outputs": [
        {
          "output_type": "stream",
          "name": "stdout",
          "text": [
            "<class 'pandas.core.frame.DataFrame'>\n",
            "RangeIndex: 10000 entries, 0 to 9999\n",
            "Data columns (total 11 columns):\n",
            " #   Column           Non-Null Count  Dtype  \n",
            "---  ------           --------------  -----  \n",
            " 0   CreditScore      10000 non-null  int64  \n",
            " 1   Geography        10000 non-null  object \n",
            " 2   Gender           10000 non-null  object \n",
            " 3   Age              10000 non-null  int64  \n",
            " 4   Tenure           10000 non-null  int64  \n",
            " 5   Balance          10000 non-null  float64\n",
            " 6   NumOfProducts    10000 non-null  int64  \n",
            " 7   HasCrCard        10000 non-null  int64  \n",
            " 8   IsActiveMember   10000 non-null  int64  \n",
            " 9   EstimatedSalary  10000 non-null  float64\n",
            " 10  Exited           10000 non-null  int64  \n",
            "dtypes: float64(2), int64(7), object(2)\n",
            "memory usage: 859.5+ KB\n"
          ]
        }
      ],
      "source": [
        "df = df.drop(['Surname', 'RowNumber', 'CustomerId'], axis=1)\n",
        "df.info()"
      ]
    },
    {
      "cell_type": "markdown",
      "metadata": {
        "id": "eUleV-zX-AfF"
      },
      "source": [
        "**Let's check the remaining non-numeric attributes for duplicates and implicit duplicates.**"
      ]
    },
    {
      "cell_type": "code",
      "execution_count": null,
      "metadata": {
        "id": "t2TC8Nwz-AfF",
        "outputId": "101b1063-ff24-421b-d39e-005108b5f32c"
      },
      "outputs": [
        {
          "data": {
            "text/plain": [
              "Male      5457\n",
              "Female    4543\n",
              "Name: Gender, dtype: int64"
            ]
          },
          "metadata": {},
          "output_type": "display_data"
        },
        {
          "data": {
            "text/plain": [
              "France     5014\n",
              "Germany    2509\n",
              "Spain      2477\n",
              "Name: Geography, dtype: int64"
            ]
          },
          "execution_count": 288,
          "metadata": {},
          "output_type": "execute_result"
        }
      ],
      "source": [
        "display(df['Gender'].value_counts())\n",
        "df['Geography'].value_counts()"
      ]
    },
    {
      "cell_type": "markdown",
      "metadata": {
        "id": "nQ3gtU0y-AfG"
      },
      "source": [
        "**We see that there are no duplicates and the unique values are adequate.**\n",
        "\n",
        "**Now, using the OHE method, we will prepare the data.**"
      ]
    },
    {
      "cell_type": "code",
      "execution_count": 7,
      "metadata": {
        "id": "b1cqNEax-AfG",
        "outputId": "a0b19078-dea3-4d96-cd3f-b71b6122ff7b",
        "colab": {
          "base_uri": "https://localhost:8080/"
        }
      },
      "outputs": [
        {
          "output_type": "stream",
          "name": "stdout",
          "text": [
            "<class 'pandas.core.frame.DataFrame'>\n",
            "RangeIndex: 10000 entries, 0 to 9999\n",
            "Data columns (total 12 columns):\n",
            " #   Column             Non-Null Count  Dtype  \n",
            "---  ------             --------------  -----  \n",
            " 0   CreditScore        10000 non-null  int64  \n",
            " 1   Age                10000 non-null  int64  \n",
            " 2   Tenure             10000 non-null  int64  \n",
            " 3   Balance            10000 non-null  float64\n",
            " 4   NumOfProducts      10000 non-null  int64  \n",
            " 5   HasCrCard          10000 non-null  int64  \n",
            " 6   IsActiveMember     10000 non-null  int64  \n",
            " 7   EstimatedSalary    10000 non-null  float64\n",
            " 8   Exited             10000 non-null  int64  \n",
            " 9   Geography_Germany  10000 non-null  uint8  \n",
            " 10  Geography_Spain    10000 non-null  uint8  \n",
            " 11  Gender_Male        10000 non-null  uint8  \n",
            "dtypes: float64(2), int64(7), uint8(3)\n",
            "memory usage: 732.5 KB\n"
          ]
        }
      ],
      "source": [
        "data_ohe = pd.get_dummies(df, drop_first=True)\n",
        "data_ohe.info()"
      ]
    },
    {
      "cell_type": "markdown",
      "metadata": {
        "id": "BJ6PFWXI-AfG"
      },
      "source": [
        "**Let’s check how balanced the classes of the target feature are in our data.**"
      ]
    },
    {
      "cell_type": "code",
      "execution_count": null,
      "metadata": {
        "id": "GTrw1evv-AfG",
        "outputId": "cdddbd7b-2a84-4595-e06a-6e7442905de8"
      },
      "outputs": [
        {
          "data": {
            "text/plain": [
              "0    0.7963\n",
              "1    0.2037\n",
              "Name: Exited, dtype: float64"
            ]
          },
          "execution_count": 290,
          "metadata": {},
          "output_type": "execute_result"
        }
      ],
      "source": [
        "data_ohe['Exited'].value_counts(normalize=True)"
      ]
    },
    {
      "cell_type": "markdown",
      "metadata": {
        "id": "zXW09GSQ-AfH"
      },
      "source": [
        "**We see that the ratio of classes is almost 1 to 4, there is an imbalance of classes. First, let's look at the quality of the models without eliminating the class imbalance, and then we'll look at the quality of the models after eliminating the class imbalance.**\n",
        "\n",
        "**In the case of our task, the target attribute (which needs to be predicted) is `'Exited'`, it means whether the customer will leave. The values of this feature can be either 0 or 1, respectively, in this case we are faced with the task of binary classification.**\n",
        "\n",
        "** Because Since we do not have a “hidden” test sample, the data must be divided into three parts: training, validation and test samples. Let's choose equal sizes of test and validation sets.**\n",
        "\n",
        "**Accordingly, we will divide the initial data in the ratio 3 : 1 : 1, i.e. 0.6 : 0.2 : 0.2**\n",
        "\n",
        "**The `'train_test_split'` function only divides the dataset into two parts, so to get 3 randomly generated samples of the required relative size, we apply this function twice.**\n",
        "\n",
        "**Next, we will divide each of the three parts into two parts - features and target feature.**"
      ]
    },
    {
      "cell_type": "code",
      "execution_count": 8,
      "metadata": {
        "id": "2ZqKo3MJ-AfH",
        "outputId": "d13b2bb1-84f0-448a-91c2-669c6bc10ddc",
        "colab": {
          "base_uri": "https://localhost:8080/",
          "height": 68
        }
      },
      "outputs": [
        {
          "output_type": "display_data",
          "data": {
            "text/plain": [
              "(6000, 12)"
            ]
          },
          "metadata": {}
        },
        {
          "output_type": "display_data",
          "data": {
            "text/plain": [
              "(2000, 12)"
            ]
          },
          "metadata": {}
        },
        {
          "output_type": "execute_result",
          "data": {
            "text/plain": [
              "(2000, 12)"
            ]
          },
          "metadata": {},
          "execution_count": 8
        }
      ],
      "source": [
        "data_part, data_valid = train_test_split(data_ohe, test_size=0.2, random_state=1)\n",
        "data_train, data_test = train_test_split(data_part, test_size=0.25, random_state=1)\n",
        "\n",
        "display(data_train.shape)\n",
        "display(data_valid.shape)\n",
        "data_test.shape"
      ]
    },
    {
      "cell_type": "code",
      "execution_count": 9,
      "metadata": {
        "id": "FSRc-tPQ-AfI",
        "outputId": "7ff0f04e-6b10-44f0-adba-5d84ffc33eb0",
        "colab": {
          "base_uri": "https://localhost:8080/",
          "height": 119
        }
      },
      "outputs": [
        {
          "output_type": "display_data",
          "data": {
            "text/plain": [
              "(6000, 11)"
            ]
          },
          "metadata": {}
        },
        {
          "output_type": "display_data",
          "data": {
            "text/plain": [
              "(6000,)"
            ]
          },
          "metadata": {}
        },
        {
          "output_type": "display_data",
          "data": {
            "text/plain": [
              "(2000, 11)"
            ]
          },
          "metadata": {}
        },
        {
          "output_type": "display_data",
          "data": {
            "text/plain": [
              "(2000,)"
            ]
          },
          "metadata": {}
        },
        {
          "output_type": "display_data",
          "data": {
            "text/plain": [
              "(2000, 11)"
            ]
          },
          "metadata": {}
        },
        {
          "output_type": "display_data",
          "data": {
            "text/plain": [
              "(2000,)"
            ]
          },
          "metadata": {}
        }
      ],
      "source": [
        "features_train = data_train.drop('Exited', axis=1)\n",
        "target_train = data_train['Exited']\n",
        "\n",
        "features_valid = data_valid.drop('Exited', axis=1)\n",
        "target_valid = data_valid['Exited']\n",
        "\n",
        "features_test = data_test.drop('Exited', axis=1)\n",
        "target_test = data_test['Exited']\n",
        "\n",
        "\n",
        "display(features_train.shape, target_train.shape)\n",
        "display(features_valid.shape, target_valid.shape)\n",
        "display(features_test.shape, target_test.shape)"
      ]
    },
    {
      "cell_type": "markdown",
      "metadata": {
        "id": "U2f1rSH_-AfI"
      },
      "source": [
        "**The data contains features with a large absolute difference in the spread of values. As you know, the algorithm automatically decides that a feature with larger values is more important, but this is not true: all features are significant. To eliminate this, we scale the features using data standardization.**\n",
        "\n",
        "**For this we will use a separate structure for data standardization - StandardScaler from the sklearn.preprocessing module.**"
      ]
    },
    {
      "cell_type": "code",
      "execution_count": 10,
      "metadata": {
        "id": "-a4KGLzh-AfI",
        "outputId": "5c9576af-7e7e-4f0e-dbb1-1e7c6954488c",
        "colab": {
          "base_uri": "https://localhost:8080/",
          "height": 578
        }
      },
      "outputs": [
        {
          "output_type": "display_data",
          "data": {
            "text/plain": [
              "      CreditScore       Age    Tenure   Balance  NumOfProducts  HasCrCard  \\\n",
              "4495     1.427934 -0.656100  0.722340 -0.113714      -0.905397          1   \n",
              "6470    -0.705851  0.198238 -0.006621  0.018224      -0.905397          1   \n",
              "2221     1.200054 -0.371320  0.357859  0.894255      -0.905397          1   \n",
              "7686     0.692503  0.862723  1.451301 -1.227467       0.805051          1   \n",
              "9419     0.361041 -1.225658 -1.464544 -0.306243      -0.905397          1   \n",
              "\n",
              "      IsActiveMember  EstimatedSalary  Geography_Germany  Geography_Spain  \\\n",
              "4495               0         0.134255                  0                0   \n",
              "6470               0         1.572963                  1                0   \n",
              "2221               0         0.274208                  1                0   \n",
              "7686               1        -0.479772                  0                0   \n",
              "9419               1        -0.356880                  1                0   \n",
              "\n",
              "      Gender_Male  \n",
              "4495            0  \n",
              "6470            0  \n",
              "2221            0  \n",
              "7686            1  \n",
              "9419            1  "
            ],
            "text/html": [
              "\n",
              "  <div id=\"df-9b6049b1-eddf-4c2a-a085-d2c34c0282d1\" class=\"colab-df-container\">\n",
              "    <div>\n",
              "<style scoped>\n",
              "    .dataframe tbody tr th:only-of-type {\n",
              "        vertical-align: middle;\n",
              "    }\n",
              "\n",
              "    .dataframe tbody tr th {\n",
              "        vertical-align: top;\n",
              "    }\n",
              "\n",
              "    .dataframe thead th {\n",
              "        text-align: right;\n",
              "    }\n",
              "</style>\n",
              "<table border=\"1\" class=\"dataframe\">\n",
              "  <thead>\n",
              "    <tr style=\"text-align: right;\">\n",
              "      <th></th>\n",
              "      <th>CreditScore</th>\n",
              "      <th>Age</th>\n",
              "      <th>Tenure</th>\n",
              "      <th>Balance</th>\n",
              "      <th>NumOfProducts</th>\n",
              "      <th>HasCrCard</th>\n",
              "      <th>IsActiveMember</th>\n",
              "      <th>EstimatedSalary</th>\n",
              "      <th>Geography_Germany</th>\n",
              "      <th>Geography_Spain</th>\n",
              "      <th>Gender_Male</th>\n",
              "    </tr>\n",
              "  </thead>\n",
              "  <tbody>\n",
              "    <tr>\n",
              "      <th>4495</th>\n",
              "      <td>1.427934</td>\n",
              "      <td>-0.656100</td>\n",
              "      <td>0.722340</td>\n",
              "      <td>-0.113714</td>\n",
              "      <td>-0.905397</td>\n",
              "      <td>1</td>\n",
              "      <td>0</td>\n",
              "      <td>0.134255</td>\n",
              "      <td>0</td>\n",
              "      <td>0</td>\n",
              "      <td>0</td>\n",
              "    </tr>\n",
              "    <tr>\n",
              "      <th>6470</th>\n",
              "      <td>-0.705851</td>\n",
              "      <td>0.198238</td>\n",
              "      <td>-0.006621</td>\n",
              "      <td>0.018224</td>\n",
              "      <td>-0.905397</td>\n",
              "      <td>1</td>\n",
              "      <td>0</td>\n",
              "      <td>1.572963</td>\n",
              "      <td>1</td>\n",
              "      <td>0</td>\n",
              "      <td>0</td>\n",
              "    </tr>\n",
              "    <tr>\n",
              "      <th>2221</th>\n",
              "      <td>1.200054</td>\n",
              "      <td>-0.371320</td>\n",
              "      <td>0.357859</td>\n",
              "      <td>0.894255</td>\n",
              "      <td>-0.905397</td>\n",
              "      <td>1</td>\n",
              "      <td>0</td>\n",
              "      <td>0.274208</td>\n",
              "      <td>1</td>\n",
              "      <td>0</td>\n",
              "      <td>0</td>\n",
              "    </tr>\n",
              "    <tr>\n",
              "      <th>7686</th>\n",
              "      <td>0.692503</td>\n",
              "      <td>0.862723</td>\n",
              "      <td>1.451301</td>\n",
              "      <td>-1.227467</td>\n",
              "      <td>0.805051</td>\n",
              "      <td>1</td>\n",
              "      <td>1</td>\n",
              "      <td>-0.479772</td>\n",
              "      <td>0</td>\n",
              "      <td>0</td>\n",
              "      <td>1</td>\n",
              "    </tr>\n",
              "    <tr>\n",
              "      <th>9419</th>\n",
              "      <td>0.361041</td>\n",
              "      <td>-1.225658</td>\n",
              "      <td>-1.464544</td>\n",
              "      <td>-0.306243</td>\n",
              "      <td>-0.905397</td>\n",
              "      <td>1</td>\n",
              "      <td>1</td>\n",
              "      <td>-0.356880</td>\n",
              "      <td>1</td>\n",
              "      <td>0</td>\n",
              "      <td>1</td>\n",
              "    </tr>\n",
              "  </tbody>\n",
              "</table>\n",
              "</div>\n",
              "    <div class=\"colab-df-buttons\">\n",
              "\n",
              "  <div class=\"colab-df-container\">\n",
              "    <button class=\"colab-df-convert\" onclick=\"convertToInteractive('df-9b6049b1-eddf-4c2a-a085-d2c34c0282d1')\"\n",
              "            title=\"Convert this dataframe to an interactive table.\"\n",
              "            style=\"display:none;\">\n",
              "\n",
              "  <svg xmlns=\"http://www.w3.org/2000/svg\" height=\"24px\" viewBox=\"0 -960 960 960\">\n",
              "    <path d=\"M120-120v-720h720v720H120Zm60-500h600v-160H180v160Zm220 220h160v-160H400v160Zm0 220h160v-160H400v160ZM180-400h160v-160H180v160Zm440 0h160v-160H620v160ZM180-180h160v-160H180v160Zm440 0h160v-160H620v160Z\"/>\n",
              "  </svg>\n",
              "    </button>\n",
              "\n",
              "  <style>\n",
              "    .colab-df-container {\n",
              "      display:flex;\n",
              "      gap: 12px;\n",
              "    }\n",
              "\n",
              "    .colab-df-convert {\n",
              "      background-color: #E8F0FE;\n",
              "      border: none;\n",
              "      border-radius: 50%;\n",
              "      cursor: pointer;\n",
              "      display: none;\n",
              "      fill: #1967D2;\n",
              "      height: 32px;\n",
              "      padding: 0 0 0 0;\n",
              "      width: 32px;\n",
              "    }\n",
              "\n",
              "    .colab-df-convert:hover {\n",
              "      background-color: #E2EBFA;\n",
              "      box-shadow: 0px 1px 2px rgba(60, 64, 67, 0.3), 0px 1px 3px 1px rgba(60, 64, 67, 0.15);\n",
              "      fill: #174EA6;\n",
              "    }\n",
              "\n",
              "    .colab-df-buttons div {\n",
              "      margin-bottom: 4px;\n",
              "    }\n",
              "\n",
              "    [theme=dark] .colab-df-convert {\n",
              "      background-color: #3B4455;\n",
              "      fill: #D2E3FC;\n",
              "    }\n",
              "\n",
              "    [theme=dark] .colab-df-convert:hover {\n",
              "      background-color: #434B5C;\n",
              "      box-shadow: 0px 1px 3px 1px rgba(0, 0, 0, 0.15);\n",
              "      filter: drop-shadow(0px 1px 2px rgba(0, 0, 0, 0.3));\n",
              "      fill: #FFFFFF;\n",
              "    }\n",
              "  </style>\n",
              "\n",
              "    <script>\n",
              "      const buttonEl =\n",
              "        document.querySelector('#df-9b6049b1-eddf-4c2a-a085-d2c34c0282d1 button.colab-df-convert');\n",
              "      buttonEl.style.display =\n",
              "        google.colab.kernel.accessAllowed ? 'block' : 'none';\n",
              "\n",
              "      async function convertToInteractive(key) {\n",
              "        const element = document.querySelector('#df-9b6049b1-eddf-4c2a-a085-d2c34c0282d1');\n",
              "        const dataTable =\n",
              "          await google.colab.kernel.invokeFunction('convertToInteractive',\n",
              "                                                    [key], {});\n",
              "        if (!dataTable) return;\n",
              "\n",
              "        const docLinkHtml = 'Like what you see? Visit the ' +\n",
              "          '<a target=\"_blank\" href=https://colab.research.google.com/notebooks/data_table.ipynb>data table notebook</a>'\n",
              "          + ' to learn more about interactive tables.';\n",
              "        element.innerHTML = '';\n",
              "        dataTable['output_type'] = 'display_data';\n",
              "        await google.colab.output.renderOutput(dataTable, element);\n",
              "        const docLink = document.createElement('div');\n",
              "        docLink.innerHTML = docLinkHtml;\n",
              "        element.appendChild(docLink);\n",
              "      }\n",
              "    </script>\n",
              "  </div>\n",
              "\n",
              "\n",
              "<div id=\"df-fd681e67-4d1b-4a31-bd30-d74f07953664\">\n",
              "  <button class=\"colab-df-quickchart\" onclick=\"quickchart('df-fd681e67-4d1b-4a31-bd30-d74f07953664')\"\n",
              "            title=\"Suggest charts.\"\n",
              "            style=\"display:none;\">\n",
              "\n",
              "<svg xmlns=\"http://www.w3.org/2000/svg\" height=\"24px\"viewBox=\"0 0 24 24\"\n",
              "     width=\"24px\">\n",
              "    <g>\n",
              "        <path d=\"M19 3H5c-1.1 0-2 .9-2 2v14c0 1.1.9 2 2 2h14c1.1 0 2-.9 2-2V5c0-1.1-.9-2-2-2zM9 17H7v-7h2v7zm4 0h-2V7h2v10zm4 0h-2v-4h2v4z\"/>\n",
              "    </g>\n",
              "</svg>\n",
              "  </button>\n",
              "\n",
              "<style>\n",
              "  .colab-df-quickchart {\n",
              "      --bg-color: #E8F0FE;\n",
              "      --fill-color: #1967D2;\n",
              "      --hover-bg-color: #E2EBFA;\n",
              "      --hover-fill-color: #174EA6;\n",
              "      --disabled-fill-color: #AAA;\n",
              "      --disabled-bg-color: #DDD;\n",
              "  }\n",
              "\n",
              "  [theme=dark] .colab-df-quickchart {\n",
              "      --bg-color: #3B4455;\n",
              "      --fill-color: #D2E3FC;\n",
              "      --hover-bg-color: #434B5C;\n",
              "      --hover-fill-color: #FFFFFF;\n",
              "      --disabled-bg-color: #3B4455;\n",
              "      --disabled-fill-color: #666;\n",
              "  }\n",
              "\n",
              "  .colab-df-quickchart {\n",
              "    background-color: var(--bg-color);\n",
              "    border: none;\n",
              "    border-radius: 50%;\n",
              "    cursor: pointer;\n",
              "    display: none;\n",
              "    fill: var(--fill-color);\n",
              "    height: 32px;\n",
              "    padding: 0;\n",
              "    width: 32px;\n",
              "  }\n",
              "\n",
              "  .colab-df-quickchart:hover {\n",
              "    background-color: var(--hover-bg-color);\n",
              "    box-shadow: 0 1px 2px rgba(60, 64, 67, 0.3), 0 1px 3px 1px rgba(60, 64, 67, 0.15);\n",
              "    fill: var(--button-hover-fill-color);\n",
              "  }\n",
              "\n",
              "  .colab-df-quickchart-complete:disabled,\n",
              "  .colab-df-quickchart-complete:disabled:hover {\n",
              "    background-color: var(--disabled-bg-color);\n",
              "    fill: var(--disabled-fill-color);\n",
              "    box-shadow: none;\n",
              "  }\n",
              "\n",
              "  .colab-df-spinner {\n",
              "    border: 2px solid var(--fill-color);\n",
              "    border-color: transparent;\n",
              "    border-bottom-color: var(--fill-color);\n",
              "    animation:\n",
              "      spin 1s steps(1) infinite;\n",
              "  }\n",
              "\n",
              "  @keyframes spin {\n",
              "    0% {\n",
              "      border-color: transparent;\n",
              "      border-bottom-color: var(--fill-color);\n",
              "      border-left-color: var(--fill-color);\n",
              "    }\n",
              "    20% {\n",
              "      border-color: transparent;\n",
              "      border-left-color: var(--fill-color);\n",
              "      border-top-color: var(--fill-color);\n",
              "    }\n",
              "    30% {\n",
              "      border-color: transparent;\n",
              "      border-left-color: var(--fill-color);\n",
              "      border-top-color: var(--fill-color);\n",
              "      border-right-color: var(--fill-color);\n",
              "    }\n",
              "    40% {\n",
              "      border-color: transparent;\n",
              "      border-right-color: var(--fill-color);\n",
              "      border-top-color: var(--fill-color);\n",
              "    }\n",
              "    60% {\n",
              "      border-color: transparent;\n",
              "      border-right-color: var(--fill-color);\n",
              "    }\n",
              "    80% {\n",
              "      border-color: transparent;\n",
              "      border-right-color: var(--fill-color);\n",
              "      border-bottom-color: var(--fill-color);\n",
              "    }\n",
              "    90% {\n",
              "      border-color: transparent;\n",
              "      border-bottom-color: var(--fill-color);\n",
              "    }\n",
              "  }\n",
              "</style>\n",
              "\n",
              "  <script>\n",
              "    async function quickchart(key) {\n",
              "      const quickchartButtonEl =\n",
              "        document.querySelector('#' + key + ' button');\n",
              "      quickchartButtonEl.disabled = true;  // To prevent multiple clicks.\n",
              "      quickchartButtonEl.classList.add('colab-df-spinner');\n",
              "      try {\n",
              "        const charts = await google.colab.kernel.invokeFunction(\n",
              "            'suggestCharts', [key], {});\n",
              "      } catch (error) {\n",
              "        console.error('Error during call to suggestCharts:', error);\n",
              "      }\n",
              "      quickchartButtonEl.classList.remove('colab-df-spinner');\n",
              "      quickchartButtonEl.classList.add('colab-df-quickchart-complete');\n",
              "    }\n",
              "    (() => {\n",
              "      let quickchartButtonEl =\n",
              "        document.querySelector('#df-fd681e67-4d1b-4a31-bd30-d74f07953664 button');\n",
              "      quickchartButtonEl.style.display =\n",
              "        google.colab.kernel.accessAllowed ? 'block' : 'none';\n",
              "    })();\n",
              "  </script>\n",
              "</div>\n",
              "    </div>\n",
              "  </div>\n"
            ]
          },
          "metadata": {}
        },
        {
          "output_type": "display_data",
          "data": {
            "text/plain": [
              "      CreditScore       Age    Tenure   Balance  NumOfProducts  HasCrCard  \\\n",
              "9953    -1.047671  0.767796 -1.100063 -1.227467       0.805051          1   \n",
              "3850     0.298892 -0.466247 -0.735583  1.071364      -0.905397          1   \n",
              "4962    -1.244477  0.293164 -1.100063 -1.227467       0.805051          0   \n",
              "3886     0.609638 -0.466247  1.086821  1.144204       0.805051          0   \n",
              "5437    -1.120179 -0.845952  0.357859 -0.048620      -0.905397          1   \n",
              "\n",
              "      IsActiveMember  EstimatedSalary  Geography_Germany  Geography_Spain  \\\n",
              "9953               1        -0.046900                  0                0   \n",
              "3850               0        -0.576570                  0                0   \n",
              "4962               1        -0.160008                  0                0   \n",
              "3886               1        -1.703601                  1                0   \n",
              "5437               1         1.334650                  1                0   \n",
              "\n",
              "      Gender_Male  \n",
              "9953            1  \n",
              "3850            1  \n",
              "4962            0  \n",
              "3886            1  \n",
              "5437            1  "
            ],
            "text/html": [
              "\n",
              "  <div id=\"df-858b0cde-e6f0-46b1-860c-53afa11042f0\" class=\"colab-df-container\">\n",
              "    <div>\n",
              "<style scoped>\n",
              "    .dataframe tbody tr th:only-of-type {\n",
              "        vertical-align: middle;\n",
              "    }\n",
              "\n",
              "    .dataframe tbody tr th {\n",
              "        vertical-align: top;\n",
              "    }\n",
              "\n",
              "    .dataframe thead th {\n",
              "        text-align: right;\n",
              "    }\n",
              "</style>\n",
              "<table border=\"1\" class=\"dataframe\">\n",
              "  <thead>\n",
              "    <tr style=\"text-align: right;\">\n",
              "      <th></th>\n",
              "      <th>CreditScore</th>\n",
              "      <th>Age</th>\n",
              "      <th>Tenure</th>\n",
              "      <th>Balance</th>\n",
              "      <th>NumOfProducts</th>\n",
              "      <th>HasCrCard</th>\n",
              "      <th>IsActiveMember</th>\n",
              "      <th>EstimatedSalary</th>\n",
              "      <th>Geography_Germany</th>\n",
              "      <th>Geography_Spain</th>\n",
              "      <th>Gender_Male</th>\n",
              "    </tr>\n",
              "  </thead>\n",
              "  <tbody>\n",
              "    <tr>\n",
              "      <th>9953</th>\n",
              "      <td>-1.047671</td>\n",
              "      <td>0.767796</td>\n",
              "      <td>-1.100063</td>\n",
              "      <td>-1.227467</td>\n",
              "      <td>0.805051</td>\n",
              "      <td>1</td>\n",
              "      <td>1</td>\n",
              "      <td>-0.046900</td>\n",
              "      <td>0</td>\n",
              "      <td>0</td>\n",
              "      <td>1</td>\n",
              "    </tr>\n",
              "    <tr>\n",
              "      <th>3850</th>\n",
              "      <td>0.298892</td>\n",
              "      <td>-0.466247</td>\n",
              "      <td>-0.735583</td>\n",
              "      <td>1.071364</td>\n",
              "      <td>-0.905397</td>\n",
              "      <td>1</td>\n",
              "      <td>0</td>\n",
              "      <td>-0.576570</td>\n",
              "      <td>0</td>\n",
              "      <td>0</td>\n",
              "      <td>1</td>\n",
              "    </tr>\n",
              "    <tr>\n",
              "      <th>4962</th>\n",
              "      <td>-1.244477</td>\n",
              "      <td>0.293164</td>\n",
              "      <td>-1.100063</td>\n",
              "      <td>-1.227467</td>\n",
              "      <td>0.805051</td>\n",
              "      <td>0</td>\n",
              "      <td>1</td>\n",
              "      <td>-0.160008</td>\n",
              "      <td>0</td>\n",
              "      <td>0</td>\n",
              "      <td>0</td>\n",
              "    </tr>\n",
              "    <tr>\n",
              "      <th>3886</th>\n",
              "      <td>0.609638</td>\n",
              "      <td>-0.466247</td>\n",
              "      <td>1.086821</td>\n",
              "      <td>1.144204</td>\n",
              "      <td>0.805051</td>\n",
              "      <td>0</td>\n",
              "      <td>1</td>\n",
              "      <td>-1.703601</td>\n",
              "      <td>1</td>\n",
              "      <td>0</td>\n",
              "      <td>1</td>\n",
              "    </tr>\n",
              "    <tr>\n",
              "      <th>5437</th>\n",
              "      <td>-1.120179</td>\n",
              "      <td>-0.845952</td>\n",
              "      <td>0.357859</td>\n",
              "      <td>-0.048620</td>\n",
              "      <td>-0.905397</td>\n",
              "      <td>1</td>\n",
              "      <td>1</td>\n",
              "      <td>1.334650</td>\n",
              "      <td>1</td>\n",
              "      <td>0</td>\n",
              "      <td>1</td>\n",
              "    </tr>\n",
              "  </tbody>\n",
              "</table>\n",
              "</div>\n",
              "    <div class=\"colab-df-buttons\">\n",
              "\n",
              "  <div class=\"colab-df-container\">\n",
              "    <button class=\"colab-df-convert\" onclick=\"convertToInteractive('df-858b0cde-e6f0-46b1-860c-53afa11042f0')\"\n",
              "            title=\"Convert this dataframe to an interactive table.\"\n",
              "            style=\"display:none;\">\n",
              "\n",
              "  <svg xmlns=\"http://www.w3.org/2000/svg\" height=\"24px\" viewBox=\"0 -960 960 960\">\n",
              "    <path d=\"M120-120v-720h720v720H120Zm60-500h600v-160H180v160Zm220 220h160v-160H400v160Zm0 220h160v-160H400v160ZM180-400h160v-160H180v160Zm440 0h160v-160H620v160ZM180-180h160v-160H180v160Zm440 0h160v-160H620v160Z\"/>\n",
              "  </svg>\n",
              "    </button>\n",
              "\n",
              "  <style>\n",
              "    .colab-df-container {\n",
              "      display:flex;\n",
              "      gap: 12px;\n",
              "    }\n",
              "\n",
              "    .colab-df-convert {\n",
              "      background-color: #E8F0FE;\n",
              "      border: none;\n",
              "      border-radius: 50%;\n",
              "      cursor: pointer;\n",
              "      display: none;\n",
              "      fill: #1967D2;\n",
              "      height: 32px;\n",
              "      padding: 0 0 0 0;\n",
              "      width: 32px;\n",
              "    }\n",
              "\n",
              "    .colab-df-convert:hover {\n",
              "      background-color: #E2EBFA;\n",
              "      box-shadow: 0px 1px 2px rgba(60, 64, 67, 0.3), 0px 1px 3px 1px rgba(60, 64, 67, 0.15);\n",
              "      fill: #174EA6;\n",
              "    }\n",
              "\n",
              "    .colab-df-buttons div {\n",
              "      margin-bottom: 4px;\n",
              "    }\n",
              "\n",
              "    [theme=dark] .colab-df-convert {\n",
              "      background-color: #3B4455;\n",
              "      fill: #D2E3FC;\n",
              "    }\n",
              "\n",
              "    [theme=dark] .colab-df-convert:hover {\n",
              "      background-color: #434B5C;\n",
              "      box-shadow: 0px 1px 3px 1px rgba(0, 0, 0, 0.15);\n",
              "      filter: drop-shadow(0px 1px 2px rgba(0, 0, 0, 0.3));\n",
              "      fill: #FFFFFF;\n",
              "    }\n",
              "  </style>\n",
              "\n",
              "    <script>\n",
              "      const buttonEl =\n",
              "        document.querySelector('#df-858b0cde-e6f0-46b1-860c-53afa11042f0 button.colab-df-convert');\n",
              "      buttonEl.style.display =\n",
              "        google.colab.kernel.accessAllowed ? 'block' : 'none';\n",
              "\n",
              "      async function convertToInteractive(key) {\n",
              "        const element = document.querySelector('#df-858b0cde-e6f0-46b1-860c-53afa11042f0');\n",
              "        const dataTable =\n",
              "          await google.colab.kernel.invokeFunction('convertToInteractive',\n",
              "                                                    [key], {});\n",
              "        if (!dataTable) return;\n",
              "\n",
              "        const docLinkHtml = 'Like what you see? Visit the ' +\n",
              "          '<a target=\"_blank\" href=https://colab.research.google.com/notebooks/data_table.ipynb>data table notebook</a>'\n",
              "          + ' to learn more about interactive tables.';\n",
              "        element.innerHTML = '';\n",
              "        dataTable['output_type'] = 'display_data';\n",
              "        await google.colab.output.renderOutput(dataTable, element);\n",
              "        const docLink = document.createElement('div');\n",
              "        docLink.innerHTML = docLinkHtml;\n",
              "        element.appendChild(docLink);\n",
              "      }\n",
              "    </script>\n",
              "  </div>\n",
              "\n",
              "\n",
              "<div id=\"df-ab5f9c6d-5545-4211-9869-0240bcfddb2f\">\n",
              "  <button class=\"colab-df-quickchart\" onclick=\"quickchart('df-ab5f9c6d-5545-4211-9869-0240bcfddb2f')\"\n",
              "            title=\"Suggest charts.\"\n",
              "            style=\"display:none;\">\n",
              "\n",
              "<svg xmlns=\"http://www.w3.org/2000/svg\" height=\"24px\"viewBox=\"0 0 24 24\"\n",
              "     width=\"24px\">\n",
              "    <g>\n",
              "        <path d=\"M19 3H5c-1.1 0-2 .9-2 2v14c0 1.1.9 2 2 2h14c1.1 0 2-.9 2-2V5c0-1.1-.9-2-2-2zM9 17H7v-7h2v7zm4 0h-2V7h2v10zm4 0h-2v-4h2v4z\"/>\n",
              "    </g>\n",
              "</svg>\n",
              "  </button>\n",
              "\n",
              "<style>\n",
              "  .colab-df-quickchart {\n",
              "      --bg-color: #E8F0FE;\n",
              "      --fill-color: #1967D2;\n",
              "      --hover-bg-color: #E2EBFA;\n",
              "      --hover-fill-color: #174EA6;\n",
              "      --disabled-fill-color: #AAA;\n",
              "      --disabled-bg-color: #DDD;\n",
              "  }\n",
              "\n",
              "  [theme=dark] .colab-df-quickchart {\n",
              "      --bg-color: #3B4455;\n",
              "      --fill-color: #D2E3FC;\n",
              "      --hover-bg-color: #434B5C;\n",
              "      --hover-fill-color: #FFFFFF;\n",
              "      --disabled-bg-color: #3B4455;\n",
              "      --disabled-fill-color: #666;\n",
              "  }\n",
              "\n",
              "  .colab-df-quickchart {\n",
              "    background-color: var(--bg-color);\n",
              "    border: none;\n",
              "    border-radius: 50%;\n",
              "    cursor: pointer;\n",
              "    display: none;\n",
              "    fill: var(--fill-color);\n",
              "    height: 32px;\n",
              "    padding: 0;\n",
              "    width: 32px;\n",
              "  }\n",
              "\n",
              "  .colab-df-quickchart:hover {\n",
              "    background-color: var(--hover-bg-color);\n",
              "    box-shadow: 0 1px 2px rgba(60, 64, 67, 0.3), 0 1px 3px 1px rgba(60, 64, 67, 0.15);\n",
              "    fill: var(--button-hover-fill-color);\n",
              "  }\n",
              "\n",
              "  .colab-df-quickchart-complete:disabled,\n",
              "  .colab-df-quickchart-complete:disabled:hover {\n",
              "    background-color: var(--disabled-bg-color);\n",
              "    fill: var(--disabled-fill-color);\n",
              "    box-shadow: none;\n",
              "  }\n",
              "\n",
              "  .colab-df-spinner {\n",
              "    border: 2px solid var(--fill-color);\n",
              "    border-color: transparent;\n",
              "    border-bottom-color: var(--fill-color);\n",
              "    animation:\n",
              "      spin 1s steps(1) infinite;\n",
              "  }\n",
              "\n",
              "  @keyframes spin {\n",
              "    0% {\n",
              "      border-color: transparent;\n",
              "      border-bottom-color: var(--fill-color);\n",
              "      border-left-color: var(--fill-color);\n",
              "    }\n",
              "    20% {\n",
              "      border-color: transparent;\n",
              "      border-left-color: var(--fill-color);\n",
              "      border-top-color: var(--fill-color);\n",
              "    }\n",
              "    30% {\n",
              "      border-color: transparent;\n",
              "      border-left-color: var(--fill-color);\n",
              "      border-top-color: var(--fill-color);\n",
              "      border-right-color: var(--fill-color);\n",
              "    }\n",
              "    40% {\n",
              "      border-color: transparent;\n",
              "      border-right-color: var(--fill-color);\n",
              "      border-top-color: var(--fill-color);\n",
              "    }\n",
              "    60% {\n",
              "      border-color: transparent;\n",
              "      border-right-color: var(--fill-color);\n",
              "    }\n",
              "    80% {\n",
              "      border-color: transparent;\n",
              "      border-right-color: var(--fill-color);\n",
              "      border-bottom-color: var(--fill-color);\n",
              "    }\n",
              "    90% {\n",
              "      border-color: transparent;\n",
              "      border-bottom-color: var(--fill-color);\n",
              "    }\n",
              "  }\n",
              "</style>\n",
              "\n",
              "  <script>\n",
              "    async function quickchart(key) {\n",
              "      const quickchartButtonEl =\n",
              "        document.querySelector('#' + key + ' button');\n",
              "      quickchartButtonEl.disabled = true;  // To prevent multiple clicks.\n",
              "      quickchartButtonEl.classList.add('colab-df-spinner');\n",
              "      try {\n",
              "        const charts = await google.colab.kernel.invokeFunction(\n",
              "            'suggestCharts', [key], {});\n",
              "      } catch (error) {\n",
              "        console.error('Error during call to suggestCharts:', error);\n",
              "      }\n",
              "      quickchartButtonEl.classList.remove('colab-df-spinner');\n",
              "      quickchartButtonEl.classList.add('colab-df-quickchart-complete');\n",
              "    }\n",
              "    (() => {\n",
              "      let quickchartButtonEl =\n",
              "        document.querySelector('#df-ab5f9c6d-5545-4211-9869-0240bcfddb2f button');\n",
              "      quickchartButtonEl.style.display =\n",
              "        google.colab.kernel.accessAllowed ? 'block' : 'none';\n",
              "    })();\n",
              "  </script>\n",
              "</div>\n",
              "    </div>\n",
              "  </div>\n"
            ]
          },
          "metadata": {}
        },
        {
          "output_type": "display_data",
          "data": {
            "text/plain": [
              "      CreditScore       Age    Tenure   Balance  NumOfProducts  HasCrCard  \\\n",
              "7857     2.059783 -1.130732  0.357859  0.323152       0.805051          0   \n",
              "9924    -0.198300  1.052576 -0.006621  0.504512      -0.905397          1   \n",
              "3087    -2.197429 -0.276394 -1.100063  1.428211       0.805051          1   \n",
              "3513     1.438292 -0.561173  1.815782  0.940258      -0.905397          0   \n",
              "2105    -1.648446 -0.751026  0.722340 -1.227467       0.805051          1   \n",
              "\n",
              "      IsActiveMember  EstimatedSalary  Geography_Germany  Geography_Spain  \\\n",
              "7857               0         0.919111                  0                0   \n",
              "9924               1        -1.609508                  1                0   \n",
              "3087               1         0.419765                  0                0   \n",
              "3513               0         1.655810                  0                0   \n",
              "2105               1        -0.872579                  0                0   \n",
              "\n",
              "      Gender_Male  \n",
              "7857            1  \n",
              "9924            0  \n",
              "3087            1  \n",
              "3513            0  \n",
              "2105            0  "
            ],
            "text/html": [
              "\n",
              "  <div id=\"df-cbe9d5b7-d5ba-4e10-be90-0399ac2f3f9c\" class=\"colab-df-container\">\n",
              "    <div>\n",
              "<style scoped>\n",
              "    .dataframe tbody tr th:only-of-type {\n",
              "        vertical-align: middle;\n",
              "    }\n",
              "\n",
              "    .dataframe tbody tr th {\n",
              "        vertical-align: top;\n",
              "    }\n",
              "\n",
              "    .dataframe thead th {\n",
              "        text-align: right;\n",
              "    }\n",
              "</style>\n",
              "<table border=\"1\" class=\"dataframe\">\n",
              "  <thead>\n",
              "    <tr style=\"text-align: right;\">\n",
              "      <th></th>\n",
              "      <th>CreditScore</th>\n",
              "      <th>Age</th>\n",
              "      <th>Tenure</th>\n",
              "      <th>Balance</th>\n",
              "      <th>NumOfProducts</th>\n",
              "      <th>HasCrCard</th>\n",
              "      <th>IsActiveMember</th>\n",
              "      <th>EstimatedSalary</th>\n",
              "      <th>Geography_Germany</th>\n",
              "      <th>Geography_Spain</th>\n",
              "      <th>Gender_Male</th>\n",
              "    </tr>\n",
              "  </thead>\n",
              "  <tbody>\n",
              "    <tr>\n",
              "      <th>7857</th>\n",
              "      <td>2.059783</td>\n",
              "      <td>-1.130732</td>\n",
              "      <td>0.357859</td>\n",
              "      <td>0.323152</td>\n",
              "      <td>0.805051</td>\n",
              "      <td>0</td>\n",
              "      <td>0</td>\n",
              "      <td>0.919111</td>\n",
              "      <td>0</td>\n",
              "      <td>0</td>\n",
              "      <td>1</td>\n",
              "    </tr>\n",
              "    <tr>\n",
              "      <th>9924</th>\n",
              "      <td>-0.198300</td>\n",
              "      <td>1.052576</td>\n",
              "      <td>-0.006621</td>\n",
              "      <td>0.504512</td>\n",
              "      <td>-0.905397</td>\n",
              "      <td>1</td>\n",
              "      <td>1</td>\n",
              "      <td>-1.609508</td>\n",
              "      <td>1</td>\n",
              "      <td>0</td>\n",
              "      <td>0</td>\n",
              "    </tr>\n",
              "    <tr>\n",
              "      <th>3087</th>\n",
              "      <td>-2.197429</td>\n",
              "      <td>-0.276394</td>\n",
              "      <td>-1.100063</td>\n",
              "      <td>1.428211</td>\n",
              "      <td>0.805051</td>\n",
              "      <td>1</td>\n",
              "      <td>1</td>\n",
              "      <td>0.419765</td>\n",
              "      <td>0</td>\n",
              "      <td>0</td>\n",
              "      <td>1</td>\n",
              "    </tr>\n",
              "    <tr>\n",
              "      <th>3513</th>\n",
              "      <td>1.438292</td>\n",
              "      <td>-0.561173</td>\n",
              "      <td>1.815782</td>\n",
              "      <td>0.940258</td>\n",
              "      <td>-0.905397</td>\n",
              "      <td>0</td>\n",
              "      <td>0</td>\n",
              "      <td>1.655810</td>\n",
              "      <td>0</td>\n",
              "      <td>0</td>\n",
              "      <td>0</td>\n",
              "    </tr>\n",
              "    <tr>\n",
              "      <th>2105</th>\n",
              "      <td>-1.648446</td>\n",
              "      <td>-0.751026</td>\n",
              "      <td>0.722340</td>\n",
              "      <td>-1.227467</td>\n",
              "      <td>0.805051</td>\n",
              "      <td>1</td>\n",
              "      <td>1</td>\n",
              "      <td>-0.872579</td>\n",
              "      <td>0</td>\n",
              "      <td>0</td>\n",
              "      <td>0</td>\n",
              "    </tr>\n",
              "  </tbody>\n",
              "</table>\n",
              "</div>\n",
              "    <div class=\"colab-df-buttons\">\n",
              "\n",
              "  <div class=\"colab-df-container\">\n",
              "    <button class=\"colab-df-convert\" onclick=\"convertToInteractive('df-cbe9d5b7-d5ba-4e10-be90-0399ac2f3f9c')\"\n",
              "            title=\"Convert this dataframe to an interactive table.\"\n",
              "            style=\"display:none;\">\n",
              "\n",
              "  <svg xmlns=\"http://www.w3.org/2000/svg\" height=\"24px\" viewBox=\"0 -960 960 960\">\n",
              "    <path d=\"M120-120v-720h720v720H120Zm60-500h600v-160H180v160Zm220 220h160v-160H400v160Zm0 220h160v-160H400v160ZM180-400h160v-160H180v160Zm440 0h160v-160H620v160ZM180-180h160v-160H180v160Zm440 0h160v-160H620v160Z\"/>\n",
              "  </svg>\n",
              "    </button>\n",
              "\n",
              "  <style>\n",
              "    .colab-df-container {\n",
              "      display:flex;\n",
              "      gap: 12px;\n",
              "    }\n",
              "\n",
              "    .colab-df-convert {\n",
              "      background-color: #E8F0FE;\n",
              "      border: none;\n",
              "      border-radius: 50%;\n",
              "      cursor: pointer;\n",
              "      display: none;\n",
              "      fill: #1967D2;\n",
              "      height: 32px;\n",
              "      padding: 0 0 0 0;\n",
              "      width: 32px;\n",
              "    }\n",
              "\n",
              "    .colab-df-convert:hover {\n",
              "      background-color: #E2EBFA;\n",
              "      box-shadow: 0px 1px 2px rgba(60, 64, 67, 0.3), 0px 1px 3px 1px rgba(60, 64, 67, 0.15);\n",
              "      fill: #174EA6;\n",
              "    }\n",
              "\n",
              "    .colab-df-buttons div {\n",
              "      margin-bottom: 4px;\n",
              "    }\n",
              "\n",
              "    [theme=dark] .colab-df-convert {\n",
              "      background-color: #3B4455;\n",
              "      fill: #D2E3FC;\n",
              "    }\n",
              "\n",
              "    [theme=dark] .colab-df-convert:hover {\n",
              "      background-color: #434B5C;\n",
              "      box-shadow: 0px 1px 3px 1px rgba(0, 0, 0, 0.15);\n",
              "      filter: drop-shadow(0px 1px 2px rgba(0, 0, 0, 0.3));\n",
              "      fill: #FFFFFF;\n",
              "    }\n",
              "  </style>\n",
              "\n",
              "    <script>\n",
              "      const buttonEl =\n",
              "        document.querySelector('#df-cbe9d5b7-d5ba-4e10-be90-0399ac2f3f9c button.colab-df-convert');\n",
              "      buttonEl.style.display =\n",
              "        google.colab.kernel.accessAllowed ? 'block' : 'none';\n",
              "\n",
              "      async function convertToInteractive(key) {\n",
              "        const element = document.querySelector('#df-cbe9d5b7-d5ba-4e10-be90-0399ac2f3f9c');\n",
              "        const dataTable =\n",
              "          await google.colab.kernel.invokeFunction('convertToInteractive',\n",
              "                                                    [key], {});\n",
              "        if (!dataTable) return;\n",
              "\n",
              "        const docLinkHtml = 'Like what you see? Visit the ' +\n",
              "          '<a target=\"_blank\" href=https://colab.research.google.com/notebooks/data_table.ipynb>data table notebook</a>'\n",
              "          + ' to learn more about interactive tables.';\n",
              "        element.innerHTML = '';\n",
              "        dataTable['output_type'] = 'display_data';\n",
              "        await google.colab.output.renderOutput(dataTable, element);\n",
              "        const docLink = document.createElement('div');\n",
              "        docLink.innerHTML = docLinkHtml;\n",
              "        element.appendChild(docLink);\n",
              "      }\n",
              "    </script>\n",
              "  </div>\n",
              "\n",
              "\n",
              "<div id=\"df-a62efd53-3c01-44ef-bdbc-dd8ed6b04878\">\n",
              "  <button class=\"colab-df-quickchart\" onclick=\"quickchart('df-a62efd53-3c01-44ef-bdbc-dd8ed6b04878')\"\n",
              "            title=\"Suggest charts.\"\n",
              "            style=\"display:none;\">\n",
              "\n",
              "<svg xmlns=\"http://www.w3.org/2000/svg\" height=\"24px\"viewBox=\"0 0 24 24\"\n",
              "     width=\"24px\">\n",
              "    <g>\n",
              "        <path d=\"M19 3H5c-1.1 0-2 .9-2 2v14c0 1.1.9 2 2 2h14c1.1 0 2-.9 2-2V5c0-1.1-.9-2-2-2zM9 17H7v-7h2v7zm4 0h-2V7h2v10zm4 0h-2v-4h2v4z\"/>\n",
              "    </g>\n",
              "</svg>\n",
              "  </button>\n",
              "\n",
              "<style>\n",
              "  .colab-df-quickchart {\n",
              "      --bg-color: #E8F0FE;\n",
              "      --fill-color: #1967D2;\n",
              "      --hover-bg-color: #E2EBFA;\n",
              "      --hover-fill-color: #174EA6;\n",
              "      --disabled-fill-color: #AAA;\n",
              "      --disabled-bg-color: #DDD;\n",
              "  }\n",
              "\n",
              "  [theme=dark] .colab-df-quickchart {\n",
              "      --bg-color: #3B4455;\n",
              "      --fill-color: #D2E3FC;\n",
              "      --hover-bg-color: #434B5C;\n",
              "      --hover-fill-color: #FFFFFF;\n",
              "      --disabled-bg-color: #3B4455;\n",
              "      --disabled-fill-color: #666;\n",
              "  }\n",
              "\n",
              "  .colab-df-quickchart {\n",
              "    background-color: var(--bg-color);\n",
              "    border: none;\n",
              "    border-radius: 50%;\n",
              "    cursor: pointer;\n",
              "    display: none;\n",
              "    fill: var(--fill-color);\n",
              "    height: 32px;\n",
              "    padding: 0;\n",
              "    width: 32px;\n",
              "  }\n",
              "\n",
              "  .colab-df-quickchart:hover {\n",
              "    background-color: var(--hover-bg-color);\n",
              "    box-shadow: 0 1px 2px rgba(60, 64, 67, 0.3), 0 1px 3px 1px rgba(60, 64, 67, 0.15);\n",
              "    fill: var(--button-hover-fill-color);\n",
              "  }\n",
              "\n",
              "  .colab-df-quickchart-complete:disabled,\n",
              "  .colab-df-quickchart-complete:disabled:hover {\n",
              "    background-color: var(--disabled-bg-color);\n",
              "    fill: var(--disabled-fill-color);\n",
              "    box-shadow: none;\n",
              "  }\n",
              "\n",
              "  .colab-df-spinner {\n",
              "    border: 2px solid var(--fill-color);\n",
              "    border-color: transparent;\n",
              "    border-bottom-color: var(--fill-color);\n",
              "    animation:\n",
              "      spin 1s steps(1) infinite;\n",
              "  }\n",
              "\n",
              "  @keyframes spin {\n",
              "    0% {\n",
              "      border-color: transparent;\n",
              "      border-bottom-color: var(--fill-color);\n",
              "      border-left-color: var(--fill-color);\n",
              "    }\n",
              "    20% {\n",
              "      border-color: transparent;\n",
              "      border-left-color: var(--fill-color);\n",
              "      border-top-color: var(--fill-color);\n",
              "    }\n",
              "    30% {\n",
              "      border-color: transparent;\n",
              "      border-left-color: var(--fill-color);\n",
              "      border-top-color: var(--fill-color);\n",
              "      border-right-color: var(--fill-color);\n",
              "    }\n",
              "    40% {\n",
              "      border-color: transparent;\n",
              "      border-right-color: var(--fill-color);\n",
              "      border-top-color: var(--fill-color);\n",
              "    }\n",
              "    60% {\n",
              "      border-color: transparent;\n",
              "      border-right-color: var(--fill-color);\n",
              "    }\n",
              "    80% {\n",
              "      border-color: transparent;\n",
              "      border-right-color: var(--fill-color);\n",
              "      border-bottom-color: var(--fill-color);\n",
              "    }\n",
              "    90% {\n",
              "      border-color: transparent;\n",
              "      border-bottom-color: var(--fill-color);\n",
              "    }\n",
              "  }\n",
              "</style>\n",
              "\n",
              "  <script>\n",
              "    async function quickchart(key) {\n",
              "      const quickchartButtonEl =\n",
              "        document.querySelector('#' + key + ' button');\n",
              "      quickchartButtonEl.disabled = true;  // To prevent multiple clicks.\n",
              "      quickchartButtonEl.classList.add('colab-df-spinner');\n",
              "      try {\n",
              "        const charts = await google.colab.kernel.invokeFunction(\n",
              "            'suggestCharts', [key], {});\n",
              "      } catch (error) {\n",
              "        console.error('Error during call to suggestCharts:', error);\n",
              "      }\n",
              "      quickchartButtonEl.classList.remove('colab-df-spinner');\n",
              "      quickchartButtonEl.classList.add('colab-df-quickchart-complete');\n",
              "    }\n",
              "    (() => {\n",
              "      let quickchartButtonEl =\n",
              "        document.querySelector('#df-a62efd53-3c01-44ef-bdbc-dd8ed6b04878 button');\n",
              "      quickchartButtonEl.style.display =\n",
              "        google.colab.kernel.accessAllowed ? 'block' : 'none';\n",
              "    })();\n",
              "  </script>\n",
              "</div>\n",
              "    </div>\n",
              "  </div>\n"
            ]
          },
          "metadata": {}
        }
      ],
      "source": [
        "features_train_scaled = features_train.copy()\n",
        "features_valid_scaled = features_valid.copy()\n",
        "features_test_scaled = features_test.copy()\n",
        "\n",
        "pd.options.mode.chained_assignment = None\n",
        "numeric = ['CreditScore', 'Age', 'Tenure', 'Balance', 'NumOfProducts', 'EstimatedSalary']\n",
        "\n",
        "scaler = StandardScaler()\n",
        "scaler.fit(features_train[numeric])\n",
        "\n",
        "features_train_scaled[numeric] = scaler.transform(features_train_scaled[numeric])\n",
        "features_valid_scaled[numeric] = scaler.transform(features_valid_scaled[numeric])\n",
        "features_test_scaled[numeric] = scaler.transform(features_test_scaled[numeric])\n",
        "\n",
        "display(features_train_scaled.head())\n",
        "display(features_valid_scaled.head())\n",
        "display(features_test_scaled.head())"
      ]
    },
    {
      "cell_type": "markdown",
      "metadata": {
        "id": "4BouYITz-AfI"
      },
      "source": [
        "**Data prepared. Let's move on to research.**"
      ]
    },
    {
      "cell_type": "markdown",
      "metadata": {
        "id": "ZEF7m9SJ-AfI"
      },
      "source": [
        "## Problem research"
      ]
    },
    {
      "cell_type": "markdown",
      "metadata": {
        "id": "FN2wOM6d-AfJ"
      },
      "source": [
        "**We will use the Random Forest model.**\n",
        "\n",
        "**The most important hyperparameters of the random forest classification algorithm: 'max_depth' - depth, 'n_estimators' - number of trees in the forest. Let's determine at what values of 'max_depth' and 'n_estimators' we will get the best quality of this model on the validation set and determine the value of this quality itself.**\n",
        "\n",
        "**First, we will choose the optimal depth for a small number of trees, and then we will increase the number of trees.**"
      ]
    },
    {
      "cell_type": "code",
      "execution_count": 15,
      "metadata": {
        "id": "4ZQxq369-AfJ",
        "outputId": "fe536165-c481-4879-da62-c8563ec7ef6c",
        "colab": {
          "base_uri": "https://localhost:8080/"
        }
      },
      "outputs": [
        {
          "output_type": "stream",
          "name": "stdout",
          "text": [
            "The best result of Random Forest Model:\n",
            " max_depth = 12\n",
            " f1 = 0.5929339477726575\n"
          ]
        }
      ],
      "source": [
        "best_model_random_forest = None\n",
        "best_f1_random_forest = 0\n",
        "best_depth_random_forest = 0\n",
        "\n",
        "for depth in range (1, 20):\n",
        "    model_random_forest = RandomForestClassifier(random_state=1, n_estimators=20, max_depth=depth, criterion='entropy')\n",
        "    model_random_forest.fit(features_train_scaled, target_train)\n",
        "    predicted_valid = model_random_forest.predict(features_valid_scaled)\n",
        "\n",
        "\n",
        "    f1_random_forest = f1_score(target_valid, predicted_valid)\n",
        "    if f1_score(target_valid, predicted_valid) > best_f1_random_forest:\n",
        "\n",
        "        best_model_random_forest = model_random_forest\n",
        "\n",
        "\n",
        "        best_f1_random_forest = f1_random_forest\n",
        "        best_depth_random_forest = depth\n",
        "print(f'The best result of Random Forest Model:\\n max_depth = {best_depth_random_forest}\\n f1 = {best_f1_random_forest}')"
      ]
    },
    {
      "cell_type": "markdown",
      "metadata": {
        "id": "QMuqzQgJ-AfJ"
      },
      "source": [
        "**Now we will increase the number of trees in the forest.**"
      ]
    },
    {
      "cell_type": "code",
      "execution_count": 16,
      "metadata": {
        "id": "yfCKCw3G-AfJ",
        "outputId": "1908be7e-003b-49b3-d6fb-2d0086bbad37",
        "colab": {
          "base_uri": "https://localhost:8080/"
        }
      },
      "outputs": [
        {
          "output_type": "stream",
          "name": "stdout",
          "text": [
            "The best result of Random Forest Model:\n",
            " est = 17\n",
            " f1 = 0.6021505376344086\n"
          ]
        }
      ],
      "source": [
        "best_model_random_forest = None\n",
        "best_f1_random_forest = 0\n",
        "best_est_random_forest = 0\n",
        "\n",
        "for est in range (1, 50, 1):\n",
        "    model_random_forest = RandomForestClassifier(random_state=1, n_estimators=est, max_depth=12, criterion='entropy')\n",
        "    model_random_forest.fit(features_train_scaled, target_train)\n",
        "    predicted_valid = model_random_forest.predict(features_valid_scaled)\n",
        "\n",
        "\n",
        "    f1_random_forest = f1_score(target_valid, predicted_valid)\n",
        "    if f1_score(target_valid, predicted_valid) > best_f1_random_forest:\n",
        "\n",
        "        best_model_random_forest = model_random_forest\n",
        "\n",
        "\n",
        "        best_f1_random_forest = f1_random_forest\n",
        "        best_est_random_forest = est\n",
        "print(f'The best result of Random Forest Model:\\n est = {best_est_random_forest}\\n f1 = {best_f1_random_forest}')"
      ]
    },
    {
      "cell_type": "markdown",
      "metadata": {
        "id": "Weunk3p--AfJ"
      },
      "source": [
        "**Let’s check what AUC-ROC value for this model with the specified hyperparameter values we will get on the validation set. Remember that a value of 0.5 corresponds to a random model.**"
      ]
    },
    {
      "cell_type": "code",
      "execution_count": null,
      "metadata": {
        "id": "JoHw8Gbm-AfJ",
        "outputId": "38fa7ace-4cd1-4c9d-91b3-475823b535d7"
      },
      "outputs": [
        {
          "data": {
            "text/plain": [
              "0.8662582189958572"
            ]
          },
          "execution_count": 296,
          "metadata": {},
          "output_type": "execute_result"
        }
      ],
      "source": [
        "probabilities_valid = best_model_random_forest.predict_proba(features_valid_scaled)\n",
        "probabilities_one_valid = probabilities_valid[:, 1]\n",
        "roc_auc_score(target_valid, probabilities_one_valid)"
      ]
    },
    {
      "cell_type": "markdown",
      "metadata": {
        "id": "zNbp5WjH-AfJ"
      },
      "source": [
        "**On the validation set, the AUC-ROC value was significantly higher than that of the random model.**\n",
        "\n",
        "**Intermediate output:**\n",
        "\n",
        "**We obtained the best f1-measure result above 0.59 for the validation sample, which satisfies the original task. This result was obtained for \"Random Forest\" with the following parameters:**\n",
        "- criterion = 'entropy'\n",
        "- n_estimators = 17\n",
        "- max_depth = 12\n",
        "\n",
        "**For the same trained model on the validation set, the AUC-ROC value was significantly higher than that of the random model.**"
      ]
    },
    {
      "cell_type": "markdown",
      "metadata": {
        "id": "0DQhFLuR-AfK"
      },
      "source": [
        "## Imbalance correction"
      ]
    },
    {
      "cell_type": "markdown",
      "metadata": {
        "id": "0sylsIRM-AfK"
      },
      "source": [
        "**There are two ways to eliminate class imbalance - by increasing the class that is in decline, or vice versa - by decreasing the class that is in excess.**\n",
        "\n",
        "**Let's try the 1st scenario - increasing the class that is in drawdown. To do this, let's write a function.**"
      ]
    },
    {
      "cell_type": "code",
      "execution_count": 13,
      "metadata": {
        "id": "AFadDaX8-AfK",
        "outputId": "e535e5a5-bcfa-4dfb-8e49-e3a108ef49e3",
        "colab": {
          "base_uri": "https://localhost:8080/",
          "height": 68
        }
      },
      "outputs": [
        {
          "output_type": "display_data",
          "data": {
            "text/plain": [
              "(9621, 11)"
            ]
          },
          "metadata": {}
        },
        {
          "output_type": "display_data",
          "data": {
            "text/plain": [
              "(9621,)"
            ]
          },
          "metadata": {}
        },
        {
          "output_type": "execute_result",
          "data": {
            "text/plain": [
              "1.007302315877321"
            ]
          },
          "metadata": {},
          "execution_count": 13
        }
      ],
      "source": [
        "def upsample(features, target, repeat):\n",
        "    features_zeros = features[target == 0]\n",
        "    features_ones = features[target == 1]\n",
        "    target_zeros = target[target == 0]\n",
        "    target_ones = target[target == 1]\n",
        "\n",
        "    features_upsampled = pd.concat([features_zeros] + [features_ones] * repeat)\n",
        "    target_upsampled = pd.concat([target_zeros] + [target_ones] * repeat)\n",
        "\n",
        "    features_upsampled, target_upsampled = shuffle(\n",
        "        features_upsampled, target_upsampled, random_state=1)\n",
        "\n",
        "    return features_upsampled, target_upsampled\n",
        "\n",
        "one_count = features_train_scaled[target_train == 1].shape[0]\n",
        "zero_count = features_train_scaled[target_train == 0].shape[0]\n",
        "mult_coef = round(zero_count/one_count)\n",
        "features_upsampled, target_upsampled = upsample(features_train_scaled, target_train, mult_coef)\n",
        "\n",
        "display(features_upsampled.shape)\n",
        "display(target_upsampled.shape)\n",
        "\n",
        "\n",
        "features_upsampled[target_upsampled == 1].shape[0] / features_upsampled[target_upsampled == 0].shape[0]"
      ]
    },
    {
      "cell_type": "code",
      "execution_count": 14,
      "metadata": {
        "id": "n4FvkLi6-AfK",
        "outputId": "0231021d-c63b-4bd3-9a06-6f910bc4b9c4",
        "colab": {
          "base_uri": "https://localhost:8080/",
          "height": 68
        }
      },
      "outputs": [
        {
          "output_type": "display_data",
          "data": {
            "text/plain": [
              "(2414, 11)"
            ]
          },
          "metadata": {}
        },
        {
          "output_type": "display_data",
          "data": {
            "text/plain": [
              "(2414,)"
            ]
          },
          "metadata": {}
        },
        {
          "output_type": "execute_result",
          "data": {
            "text/plain": [
              "1.0"
            ]
          },
          "metadata": {},
          "execution_count": 14
        }
      ],
      "source": [
        "def downsample(features, target, fraction):\n",
        "    features_zeros = features[target == 0]\n",
        "    features_ones = features[target == 1]\n",
        "    target_zeros = target[target == 0]\n",
        "    target_ones = target[target == 1]\n",
        "\n",
        "    features_downsampled = pd.concat(\n",
        "        [features_zeros.sample(frac=fraction, random_state=1)] + [features_ones])\n",
        "    target_downsampled = pd.concat(\n",
        "        [target_zeros.sample(frac=fraction, random_state=1)] + [target_ones])\n",
        "\n",
        "    features_downsampled, target_downsampled = shuffle(\n",
        "        features_downsampled, target_downsampled, random_state=1)\n",
        "\n",
        "    return features_downsampled, target_downsampled\n",
        "\n",
        "one_count = features_train_scaled[target_train == 1].shape[0]\n",
        "zero_count = features_train_scaled[target_train == 0].shape[0]\n",
        "div_coef = one_count/zero_count\n",
        "\n",
        "features_downsampled, target_downsampled = downsample(features_train_scaled, target_train, div_coef)\n",
        "\n",
        "display(features_downsampled.shape)\n",
        "display(target_downsampled.shape)\n",
        "\n",
        "\n",
        "features_downsampled[target_downsampled == 1].shape[0] / features_downsampled[target_downsampled == 0].shape[0]"
      ]
    },
    {
      "cell_type": "markdown",
      "metadata": {
        "id": "FCgPCF9j-AfK"
      },
      "source": [
        "**Let’s once again search for hyperparameters of the “Random Forest” model that give the best f1-measure result on new balanced training samples.**\n",
        "\n",
        "**First, we will choose the optimal depth for a small number of trees, and then we will increase the number of trees.**\n",
        "\n",
        "**Let's start with an expanded sample.**"
      ]
    },
    {
      "cell_type": "code",
      "execution_count": 17,
      "metadata": {
        "id": "IlalfSK_-AfK",
        "outputId": "015c7365-cf76-4f32-d056-2fae779297a4",
        "colab": {
          "base_uri": "https://localhost:8080/"
        }
      },
      "outputs": [
        {
          "output_type": "stream",
          "name": "stdout",
          "text": [
            "The best result of the \"Random Forest\" model:\n",
            " max_depth = 10\n",
            " f1 = 0.6297117516629712\n"
          ]
        }
      ],
      "source": [
        "best_model_random_forest = None\n",
        "best_f1_random_forest = 0\n",
        "best_depth_random_forest = 0\n",
        "\n",
        "for depth in range (1, 20):\n",
        "    model_random_forest = RandomForestClassifier(random_state=1, n_estimators=20, max_depth=depth, criterion='entropy')\n",
        "    model_random_forest.fit(features_upsampled, target_upsampled)\n",
        "    predicted_valid = model_random_forest.predict(features_valid_scaled)\n",
        "\n",
        "\n",
        "    f1_random_forest = f1_score(target_valid, predicted_valid)\n",
        "    if f1_score(target_valid, predicted_valid) > best_f1_random_forest:\n",
        "\n",
        "        best_model_random_forest = model_random_forest\n",
        "\n",
        "\n",
        "        best_f1_random_forest = f1_random_forest\n",
        "        best_depth_random_forest = depth\n",
        "print(f'The best result of the \"Random Forest\" model:\\n max_depth = {best_depth_random_forest}\\n f1 = {best_f1_random_forest}')"
      ]
    },
    {
      "cell_type": "markdown",
      "metadata": {
        "id": "9NEGB7pt-AfK"
      },
      "source": [
        "**Теперь будем увеличивать кол-во деревьев в лесу.**"
      ]
    },
    {
      "cell_type": "code",
      "execution_count": 18,
      "metadata": {
        "id": "Y33SdxXD-AfK",
        "outputId": "778cbfbb-d682-4e36-d795-359e0febee63",
        "colab": {
          "base_uri": "https://localhost:8080/"
        }
      },
      "outputs": [
        {
          "output_type": "stream",
          "name": "stdout",
          "text": [
            "The best result of the \"Random Forest\" model:\n",
            " est = 23\n",
            " f1 = 0.6320441988950276\n"
          ]
        }
      ],
      "source": [
        "best_model_random_forest = None\n",
        "best_f1_random_forest = 0\n",
        "best_est_random_forest = 0\n",
        "\n",
        "for est in range (1, 50, 1):\n",
        "    model_random_forest = RandomForestClassifier(random_state=1, n_estimators=est, max_depth=10, criterion='entropy')\n",
        "    model_random_forest.fit(features_upsampled, target_upsampled)\n",
        "    predicted_valid = model_random_forest.predict(features_valid_scaled)\n",
        "\n",
        "\n",
        "    f1_random_forest = f1_score(target_valid, predicted_valid)\n",
        "    if f1_score(target_valid, predicted_valid) > best_f1_random_forest:\n",
        "\n",
        "        best_model_random_forest = model_random_forest\n",
        "\n",
        "\n",
        "        best_f1_random_forest = f1_random_forest\n",
        "        best_est_random_forest = est\n",
        "print(f'The best result of the \"Random Forest\" model:\\n est = {best_est_random_forest}\\n f1 = {best_f1_random_forest}')"
      ]
    },
    {
      "cell_type": "markdown",
      "metadata": {
        "id": "UoE0u399-AfL"
      },
      "source": [
        "**Now we’ll do the same thing, but for a narrowed-down sample.**"
      ]
    },
    {
      "cell_type": "code",
      "execution_count": 19,
      "metadata": {
        "id": "iwco8ROB-AfL",
        "outputId": "68fe010a-6b5e-4939-ee75-3abd938f4753",
        "colab": {
          "base_uri": "https://localhost:8080/"
        }
      },
      "outputs": [
        {
          "output_type": "stream",
          "name": "stdout",
          "text": [
            "The best result of the \"Random Forest\" model:\n",
            " max_depth = 8\n",
            " f1 = 0.6069364161849712\n"
          ]
        }
      ],
      "source": [
        "best_model_random_forest = None\n",
        "best_f1_random_forest = 0\n",
        "best_depth_random_forest = 0\n",
        "\n",
        "for depth in range (1, 20):\n",
        "    model_random_forest = RandomForestClassifier(random_state=1, n_estimators=20, max_depth=depth, criterion='entropy')\n",
        "    model_random_forest.fit(features_downsampled, target_downsampled)\n",
        "    predicted_valid = model_random_forest.predict(features_valid_scaled)\n",
        "\n",
        "\n",
        "    f1_random_forest = f1_score(target_valid, predicted_valid)\n",
        "    if f1_score(target_valid, predicted_valid) > best_f1_random_forest:\n",
        "\n",
        "        best_model_random_forest = model_random_forest\n",
        "\n",
        "\n",
        "        best_f1_random_forest = f1_random_forest\n",
        "        best_depth_random_forest = depth\n",
        "print(f'The best result of the \"Random Forest\" model:\\n max_depth = {best_depth_random_forest}\\n f1 = {best_f1_random_forest}')"
      ]
    },
    {
      "cell_type": "code",
      "execution_count": 20,
      "metadata": {
        "id": "XDlhbSds-AfL",
        "outputId": "6e9e289d-5a38-46f4-c513-a4b6756953cd",
        "colab": {
          "base_uri": "https://localhost:8080/"
        }
      },
      "outputs": [
        {
          "output_type": "stream",
          "name": "stdout",
          "text": [
            "The best result of the \"Random Forest\" model:\n",
            " est = 45\n",
            " f1 = 0.6147859922178988\n"
          ]
        }
      ],
      "source": [
        "best_model_random_forest = None\n",
        "best_f1_random_forest = 0\n",
        "best_est_random_forest = 0\n",
        "\n",
        "for est in range (1, 50, 1):\n",
        "    model_random_forest = RandomForestClassifier(random_state=1, n_estimators=est, max_depth=8, criterion='entropy')\n",
        "    model_random_forest.fit(features_downsampled, target_downsampled)\n",
        "    predicted_valid = model_random_forest.predict(features_valid_scaled)\n",
        "\n",
        "\n",
        "    f1_random_forest = f1_score(target_valid, predicted_valid)\n",
        "    if f1_score(target_valid, predicted_valid) > best_f1_random_forest:\n",
        "\n",
        "        best_model_random_forest = model_random_forest\n",
        "\n",
        "\n",
        "        best_f1_random_forest = f1_random_forest\n",
        "        best_est_random_forest = est\n",
        "print(f'The best result of the \"Random Forest\" model:\\n est = {best_est_random_forest}\\n f1 = {best_f1_random_forest}')"
      ]
    },
    {
      "cell_type": "markdown",
      "metadata": {
        "id": "7LyZABYW-AfL"
      },
      "source": [
        "**We see that firstly, the value of the f1-measure criterion has increased compared to training using a sample with unbalanced classes. Secondly, balancing by expanding the sample gave better results, which is logical, because in this case there was more data.**\n",
        "\n",
        "**The best results of f1-measure = 0.632 were obtained for the validation sample, which satisfies the original task. This result was obtained for “Random Forest” using an extended balanced sample with the following parameters:**\n",
        "- criterion = 'entropy'\n",
        "- n_estimators = 23\n",
        "- max_depth = 10"
      ]
    },
    {
      "cell_type": "markdown",
      "metadata": {
        "id": "8yx_R8O9-AfL"
      },
      "source": [
        "**Let’s check what AUC-ROC value we get for this model with the specified hyperparameter values. Remember that a value of 0.5 corresponds to a random model.**"
      ]
    },
    {
      "cell_type": "code",
      "execution_count": 21,
      "metadata": {
        "id": "m_rpm1ot-AfL",
        "outputId": "a284e499-ec36-464c-b161-3663eecfb3f8",
        "colab": {
          "base_uri": "https://localhost:8080/"
        }
      },
      "outputs": [
        {
          "output_type": "execute_result",
          "data": {
            "text/plain": [
              "0.8636889513891528"
            ]
          },
          "metadata": {},
          "execution_count": 21
        }
      ],
      "source": [
        "model_random_forest = RandomForestClassifier(random_state=1, n_estimators=23, max_depth=10, criterion='entropy')\n",
        "model_random_forest.fit(features_upsampled, target_upsampled)\n",
        "probabilities_valid = model_random_forest.predict_proba(features_valid_scaled)\n",
        "probabilities_one_valid = probabilities_valid[:, 1]\n",
        "roc_auc_score(target_valid, probabilities_one_valid)"
      ]
    },
    {
      "cell_type": "markdown",
      "metadata": {
        "id": "SM6Uhuto-AfL"
      },
      "source": [
        "**On the validation set, the AUC-ROC value was significantly higher than that of the random model.**\n",
        "\n",
        "**Let's test our model with the selected hyperparameters on the test sample.**"
      ]
    },
    {
      "cell_type": "code",
      "execution_count": null,
      "metadata": {
        "id": "72EiQ9Np-AfL",
        "outputId": "38b29b8e-4a51-4431-c13c-34009acde332"
      },
      "outputs": [
        {
          "data": {
            "text/plain": [
              "0.5977249224405378"
            ]
          },
          "execution_count": 205,
          "metadata": {},
          "output_type": "execute_result"
        }
      ],
      "source": [
        "model_random_forest = RandomForestClassifier(random_state=1, n_estimators=51, max_depth=7)\n",
        "model_random_forest.fit(features_upsampled, target_upsampled)\n",
        "predicted_test = model_random_forest.predict(features_test_scaled)\n",
        "f1_random_forest = f1_score(target_valid, predicted_test)\n",
        "f1_random_forest"
      ]
    },
    {
      "cell_type": "markdown",
      "metadata": {
        "id": "8AweEqed-AfL"
      },
      "source": [
        "**We have obtained an f1-measure value that satisfies the conditions of the problem, the goal has been achieved.**\n",
        "\n",
        "**Let's check what AUC-ROC (area under the ROC curve) value we get for this model. Remember that a value of 0.5 corresponds to a random model.**"
      ]
    },
    {
      "cell_type": "code",
      "execution_count": null,
      "metadata": {
        "id": "gHgsqNUL-AfM",
        "outputId": "3ecb73f3-e368-42cf-cf30-ef4ed61aa356"
      },
      "outputs": [
        {
          "data": {
            "text/plain": [
              "0.6790923948158566"
            ]
          },
          "execution_count": 210,
          "metadata": {},
          "output_type": "execute_result"
        }
      ],
      "source": [
        "roc_auc_score(target_test, predicted_test)"
      ]
    },
    {
      "cell_type": "markdown",
      "metadata": {
        "id": "Pn1cVPux-AfM"
      },
      "source": [
        "**The AUC-ROC value is higher than 0.5 of the random model, which further characterizes our result in a positive way.**"
      ]
    },
    {
      "cell_type": "markdown",
      "metadata": {
        "id": "udWlFh3g-AfM"
      },
      "source": [
        "## Model testing"
      ]
    },
    {
      "cell_type": "markdown",
      "metadata": {
        "id": "alcY25zK-AfM"
      },
      "source": [
        "**Let's test our model with the selected hyperparameters on the test sample.**"
      ]
    },
    {
      "cell_type": "code",
      "execution_count": 22,
      "metadata": {
        "id": "Bed8Hxyw-AfM",
        "outputId": "12405911-8401-4d70-d2f0-7e760b8de968",
        "colab": {
          "base_uri": "https://localhost:8080/"
        }
      },
      "outputs": [
        {
          "output_type": "stream",
          "name": "stdout",
          "text": [
            "f1_test = 0.5980707395498392\n",
            "ROC_AUC_test = 0.8326281783284557\n"
          ]
        }
      ],
      "source": [
        "model_random_forest = RandomForestClassifier(random_state=1, n_estimators=23, max_depth=10, criterion='entropy')\n",
        "model_random_forest.fit(features_upsampled, target_upsampled)\n",
        "\n",
        "predicted_test = model_random_forest.predict(features_test_scaled)\n",
        "\n",
        "\n",
        "f1_random_forest = f1_score(target_test, predicted_test)\n",
        "print('f1_test =',f1_random_forest)\n",
        "\n",
        "probabilities_test = model_random_forest.predict_proba(features_test_scaled)\n",
        "probabilities_one_test = probabilities_test[:, 1]\n",
        "print('ROC_AUC_test =',roc_auc_score(target_test, probabilities_one_test))"
      ]
    },
    {
      "cell_type": "markdown",
      "metadata": {
        "id": "zYFGIBu6-AfM"
      },
      "source": [
        "**So, on the test sample, the trained model performed satisfactorily, achieving a metric value of f1-measure = 0.598, which is higher than the 0.59 stated in the task, and the value of the ROC-AUC metric was 0.833, which also significantly exceeds the results typical for a random model.**"
      ]
    },
    {
      "cell_type": "markdown",
      "metadata": {
        "id": "p0w8GQjv-AfM"
      },
      "source": [
        "**Conclusions.**\n",
        "\n",
        "**The “Random Forest” model with hyperparameters proved to be the best for solving the problem**\n",
        "\n",
        "- criterion = 'entropy'\n",
        "- n_estimators = 23\n",
        "- max_depth = 10\n",
        "\n",
        "**Trained on a balanced augmented sample whose data was pre-scaled using standardization and pre-trained.**\n",
        "\n",
        "**Class balancing brought an improvement in f1-measure.**"
      ]
    }
  ],
  "metadata": {
    "ExecuteTimeLog": [
      {
        "duration": 1217,
        "start_time": "2022-12-29T16:04:55.768Z"
      },
      {
        "duration": 192,
        "start_time": "2022-12-29T16:04:57.766Z"
      },
      {
        "duration": 62,
        "start_time": "2022-12-29T16:08:41.801Z"
      },
      {
        "duration": 64,
        "start_time": "2022-12-29T16:42:09.373Z"
      },
      {
        "duration": 29,
        "start_time": "2022-12-29T17:01:13.621Z"
      },
      {
        "duration": 15,
        "start_time": "2022-12-29T17:01:49.465Z"
      },
      {
        "duration": 41,
        "start_time": "2022-12-29T17:02:09.072Z"
      },
      {
        "duration": 22,
        "start_time": "2022-12-29T17:02:35.514Z"
      },
      {
        "duration": 28,
        "start_time": "2022-12-29T17:04:07.460Z"
      },
      {
        "duration": 119,
        "start_time": "2022-12-29T17:04:58.609Z"
      },
      {
        "duration": 11,
        "start_time": "2022-12-29T17:05:52.827Z"
      },
      {
        "duration": 15,
        "start_time": "2022-12-29T17:06:03.339Z"
      },
      {
        "duration": 18,
        "start_time": "2022-12-29T17:07:13.000Z"
      },
      {
        "duration": 23,
        "start_time": "2022-12-29T17:07:23.682Z"
      },
      {
        "duration": 31,
        "start_time": "2022-12-29T17:07:49.955Z"
      },
      {
        "duration": 25,
        "start_time": "2022-12-29T17:08:16.092Z"
      },
      {
        "duration": 12,
        "start_time": "2022-12-29T17:16:43.797Z"
      },
      {
        "duration": 13,
        "start_time": "2022-12-29T17:20:59.169Z"
      },
      {
        "duration": 5,
        "start_time": "2022-12-29T17:23:11.647Z"
      },
      {
        "duration": 5,
        "start_time": "2022-12-29T17:23:15.862Z"
      },
      {
        "duration": 5,
        "start_time": "2022-12-29T17:23:19.855Z"
      },
      {
        "duration": 5,
        "start_time": "2022-12-29T17:26:57.709Z"
      },
      {
        "duration": 12,
        "start_time": "2022-12-29T17:27:32.917Z"
      },
      {
        "duration": 17,
        "start_time": "2022-12-29T17:28:28.482Z"
      },
      {
        "duration": 12,
        "start_time": "2022-12-29T17:29:33.513Z"
      },
      {
        "duration": 15,
        "start_time": "2022-12-29T17:29:45.117Z"
      },
      {
        "duration": 12,
        "start_time": "2022-12-29T17:29:51.805Z"
      },
      {
        "duration": 26,
        "start_time": "2022-12-29T17:33:26.554Z"
      },
      {
        "duration": 39,
        "start_time": "2022-12-29T17:33:40.284Z"
      },
      {
        "duration": 12,
        "start_time": "2022-12-29T17:34:01.281Z"
      },
      {
        "duration": 20,
        "start_time": "2022-12-29T17:34:13.424Z"
      },
      {
        "duration": 19,
        "start_time": "2022-12-29T17:34:27.411Z"
      },
      {
        "duration": 18,
        "start_time": "2022-12-29T17:34:50.138Z"
      },
      {
        "duration": 24,
        "start_time": "2022-12-29T17:38:00.158Z"
      },
      {
        "duration": 54,
        "start_time": "2022-12-29T17:38:29.122Z"
      },
      {
        "duration": 22,
        "start_time": "2022-12-29T17:38:59.132Z"
      },
      {
        "duration": 17,
        "start_time": "2022-12-29T17:39:21.177Z"
      },
      {
        "duration": 19,
        "start_time": "2022-12-29T17:39:23.846Z"
      },
      {
        "duration": 53,
        "start_time": "2022-12-29T17:39:28.395Z"
      },
      {
        "duration": 20,
        "start_time": "2022-12-29T17:41:37.679Z"
      },
      {
        "duration": 1331,
        "start_time": "2022-12-29T17:41:39.213Z"
      },
      {
        "duration": 14,
        "start_time": "2022-12-29T17:41:51.287Z"
      },
      {
        "duration": 806,
        "start_time": "2022-12-29T17:50:12.915Z"
      },
      {
        "duration": 139,
        "start_time": "2022-12-29T17:50:22.410Z"
      },
      {
        "duration": 8,
        "start_time": "2022-12-29T17:57:01.141Z"
      },
      {
        "duration": 29,
        "start_time": "2022-12-29T17:57:37.696Z"
      },
      {
        "duration": 7,
        "start_time": "2022-12-29T17:59:18.215Z"
      },
      {
        "duration": 13,
        "start_time": "2022-12-29T18:05:59.075Z"
      },
      {
        "duration": 15,
        "start_time": "2022-12-29T18:06:17.395Z"
      },
      {
        "duration": 16,
        "start_time": "2022-12-29T18:06:26.875Z"
      },
      {
        "duration": 13,
        "start_time": "2022-12-29T18:06:55.679Z"
      },
      {
        "duration": 6,
        "start_time": "2022-12-29T18:07:02.226Z"
      },
      {
        "duration": 8,
        "start_time": "2022-12-29T18:07:32.999Z"
      },
      {
        "duration": 25,
        "start_time": "2022-12-29T18:15:41.020Z"
      },
      {
        "duration": 88,
        "start_time": "2022-12-29T18:17:43.224Z"
      },
      {
        "duration": 122,
        "start_time": "2022-12-29T18:18:37.515Z"
      },
      {
        "duration": 113,
        "start_time": "2022-12-29T18:19:05.395Z"
      },
      {
        "duration": 97,
        "start_time": "2022-12-29T18:19:56.973Z"
      },
      {
        "duration": 53,
        "start_time": "2022-12-29T18:20:07.704Z"
      },
      {
        "duration": 6,
        "start_time": "2022-12-29T18:26:39.475Z"
      },
      {
        "duration": 5,
        "start_time": "2022-12-29T18:27:32.829Z"
      },
      {
        "duration": 11,
        "start_time": "2022-12-29T18:28:13.174Z"
      },
      {
        "duration": 171,
        "start_time": "2022-12-29T18:29:38.742Z"
      },
      {
        "duration": 391,
        "start_time": "2022-12-29T18:30:03.580Z"
      },
      {
        "duration": 263,
        "start_time": "2022-12-29T18:30:25.479Z"
      },
      {
        "duration": 20,
        "start_time": "2022-12-29T18:36:44.116Z"
      },
      {
        "duration": 30,
        "start_time": "2022-12-29T18:36:56.530Z"
      },
      {
        "duration": 7,
        "start_time": "2022-12-29T18:36:58.103Z"
      },
      {
        "duration": 24,
        "start_time": "2022-12-29T18:36:59.331Z"
      },
      {
        "duration": 180,
        "start_time": "2022-12-29T18:37:00.914Z"
      },
      {
        "duration": 8,
        "start_time": "2022-12-29T18:37:02.986Z"
      },
      {
        "duration": 21,
        "start_time": "2022-12-29T18:37:04.375Z"
      },
      {
        "duration": 16,
        "start_time": "2022-12-29T18:37:34.610Z"
      },
      {
        "duration": 19,
        "start_time": "2022-12-29T18:37:38.197Z"
      },
      {
        "duration": 5,
        "start_time": "2022-12-29T18:37:51.503Z"
      },
      {
        "duration": 1575,
        "start_time": "2022-12-29T18:38:08.234Z"
      },
      {
        "duration": 35,
        "start_time": "2022-12-29T18:38:18.080Z"
      },
      {
        "duration": 17,
        "start_time": "2022-12-29T18:38:19.881Z"
      },
      {
        "duration": 40,
        "start_time": "2022-12-29T18:38:21.139Z"
      },
      {
        "duration": 190,
        "start_time": "2022-12-29T18:38:22.998Z"
      },
      {
        "duration": 12,
        "start_time": "2022-12-29T18:38:25.195Z"
      },
      {
        "duration": 22,
        "start_time": "2022-12-29T18:38:26.612Z"
      },
      {
        "duration": 416,
        "start_time": "2022-12-29T18:39:30.372Z"
      },
      {
        "duration": 366,
        "start_time": "2022-12-29T18:40:49.639Z"
      },
      {
        "duration": 286,
        "start_time": "2022-12-29T18:41:45.113Z"
      },
      {
        "duration": 5,
        "start_time": "2022-12-29T18:49:17.705Z"
      },
      {
        "duration": 89,
        "start_time": "2022-12-29T18:49:17.712Z"
      },
      {
        "duration": 171,
        "start_time": "2022-12-29T18:49:17.803Z"
      },
      {
        "duration": 5,
        "start_time": "2022-12-29T18:49:17.976Z"
      },
      {
        "duration": 8,
        "start_time": "2022-12-29T18:49:17.984Z"
      },
      {
        "duration": 11,
        "start_time": "2022-12-29T18:49:17.994Z"
      },
      {
        "duration": 376,
        "start_time": "2022-12-29T18:49:18.007Z"
      },
      {
        "duration": 19,
        "start_time": "2022-12-29T18:49:18.388Z"
      },
      {
        "duration": 5,
        "start_time": "2022-12-29T18:49:18.409Z"
      },
      {
        "duration": 63,
        "start_time": "2022-12-29T18:49:18.416Z"
      },
      {
        "duration": 190,
        "start_time": "2022-12-29T18:49:18.483Z"
      },
      {
        "duration": 17,
        "start_time": "2022-12-29T18:49:18.676Z"
      },
      {
        "duration": 15,
        "start_time": "2022-12-29T18:49:23.834Z"
      },
      {
        "duration": 20,
        "start_time": "2022-12-29T18:53:00.815Z"
      },
      {
        "duration": 6,
        "start_time": "2022-12-29T19:08:35.377Z"
      },
      {
        "duration": 6,
        "start_time": "2022-12-29T19:11:15.037Z"
      },
      {
        "duration": 5,
        "start_time": "2022-12-29T19:11:26.603Z"
      },
      {
        "duration": 84,
        "start_time": "2022-12-29T19:11:26.610Z"
      },
      {
        "duration": 70,
        "start_time": "2022-12-29T19:11:26.697Z"
      },
      {
        "duration": 6,
        "start_time": "2022-12-29T19:11:26.769Z"
      },
      {
        "duration": 7,
        "start_time": "2022-12-29T19:11:26.777Z"
      },
      {
        "duration": 12,
        "start_time": "2022-12-29T19:11:26.785Z"
      },
      {
        "duration": 303,
        "start_time": "2022-12-29T19:11:26.799Z"
      },
      {
        "duration": 19,
        "start_time": "2022-12-29T19:11:27.104Z"
      },
      {
        "duration": 18,
        "start_time": "2022-12-29T19:11:27.125Z"
      },
      {
        "duration": 35,
        "start_time": "2022-12-29T19:11:27.150Z"
      },
      {
        "duration": 5,
        "start_time": "2022-12-29T19:11:30.425Z"
      },
      {
        "duration": 22,
        "start_time": "2022-12-29T19:11:40.714Z"
      },
      {
        "duration": 12,
        "start_time": "2022-12-29T19:11:44.151Z"
      },
      {
        "duration": 5,
        "start_time": "2022-12-29T19:11:55.890Z"
      },
      {
        "duration": 17,
        "start_time": "2022-12-29T19:12:56.919Z"
      },
      {
        "duration": 10,
        "start_time": "2022-12-29T19:13:56.640Z"
      },
      {
        "duration": 19,
        "start_time": "2022-12-29T19:14:11.845Z"
      },
      {
        "duration": 23,
        "start_time": "2022-12-29T19:14:21.746Z"
      },
      {
        "duration": 6,
        "start_time": "2022-12-29T19:14:24.837Z"
      },
      {
        "duration": 19,
        "start_time": "2022-12-29T19:14:30.238Z"
      },
      {
        "duration": 19,
        "start_time": "2022-12-29T19:17:40.181Z"
      },
      {
        "duration": 17,
        "start_time": "2022-12-29T19:17:50.223Z"
      },
      {
        "duration": 12,
        "start_time": "2022-12-29T19:17:59.732Z"
      },
      {
        "duration": 24,
        "start_time": "2022-12-29T19:18:46.508Z"
      },
      {
        "duration": 203,
        "start_time": "2022-12-29T19:18:59.661Z"
      },
      {
        "duration": 9,
        "start_time": "2022-12-29T19:19:02.518Z"
      },
      {
        "duration": 22,
        "start_time": "2022-12-29T19:19:04.040Z"
      },
      {
        "duration": 16,
        "start_time": "2022-12-29T19:19:19.031Z"
      },
      {
        "duration": 30,
        "start_time": "2022-12-29T19:19:22.171Z"
      },
      {
        "duration": 14,
        "start_time": "2022-12-29T19:31:15.364Z"
      },
      {
        "duration": 15,
        "start_time": "2022-12-29T19:33:24.819Z"
      },
      {
        "duration": 4,
        "start_time": "2022-12-29T19:42:26.653Z"
      },
      {
        "duration": 92,
        "start_time": "2022-12-29T19:42:26.660Z"
      },
      {
        "duration": 47,
        "start_time": "2022-12-29T19:42:26.758Z"
      },
      {
        "duration": 5,
        "start_time": "2022-12-29T19:42:26.808Z"
      },
      {
        "duration": 10,
        "start_time": "2022-12-29T19:42:26.815Z"
      },
      {
        "duration": 30,
        "start_time": "2022-12-29T19:42:26.827Z"
      },
      {
        "duration": 285,
        "start_time": "2022-12-29T19:42:26.859Z"
      },
      {
        "duration": 24,
        "start_time": "2022-12-29T19:42:27.147Z"
      },
      {
        "duration": 7,
        "start_time": "2022-12-29T19:42:27.175Z"
      },
      {
        "duration": 37,
        "start_time": "2022-12-29T19:42:27.184Z"
      },
      {
        "duration": 7,
        "start_time": "2022-12-29T19:42:27.223Z"
      },
      {
        "duration": 23,
        "start_time": "2022-12-29T19:42:27.250Z"
      },
      {
        "duration": 169,
        "start_time": "2022-12-29T19:42:27.275Z"
      },
      {
        "duration": 12,
        "start_time": "2022-12-29T19:42:27.446Z"
      },
      {
        "duration": 20,
        "start_time": "2022-12-29T19:42:27.460Z"
      },
      {
        "duration": 12,
        "start_time": "2022-12-29T19:42:27.483Z"
      },
      {
        "duration": 59,
        "start_time": "2022-12-29T19:42:27.497Z"
      },
      {
        "duration": 10,
        "start_time": "2022-12-29T19:44:32.587Z"
      },
      {
        "duration": 51,
        "start_time": "2022-12-29T20:00:02.972Z"
      },
      {
        "duration": 69,
        "start_time": "2022-12-29T20:01:19.036Z"
      },
      {
        "duration": 56,
        "start_time": "2022-12-29T20:05:01.918Z"
      },
      {
        "duration": 54,
        "start_time": "2022-12-29T20:05:53.972Z"
      },
      {
        "duration": 1702,
        "start_time": "2022-12-29T20:23:40.436Z"
      },
      {
        "duration": 3072,
        "start_time": "2022-12-29T20:26:32.004Z"
      },
      {
        "duration": 2075,
        "start_time": "2022-12-29T20:28:11.099Z"
      },
      {
        "duration": 3749,
        "start_time": "2022-12-29T20:28:29.171Z"
      },
      {
        "duration": 4270,
        "start_time": "2022-12-29T20:28:39.008Z"
      },
      {
        "duration": 2029,
        "start_time": "2022-12-29T20:29:55.026Z"
      },
      {
        "duration": 3919,
        "start_time": "2022-12-29T20:30:04.849Z"
      },
      {
        "duration": 238,
        "start_time": "2022-12-29T20:32:54.077Z"
      },
      {
        "duration": 362,
        "start_time": "2022-12-29T20:33:05.950Z"
      },
      {
        "duration": 2354,
        "start_time": "2022-12-29T20:34:09.548Z"
      },
      {
        "duration": 23,
        "start_time": "2022-12-29T20:34:39.073Z"
      },
      {
        "duration": 10013,
        "start_time": "2022-12-29T20:35:03.414Z"
      },
      {
        "duration": 201,
        "start_time": "2022-12-29T20:36:14.898Z"
      },
      {
        "duration": 1887,
        "start_time": "2022-12-29T20:36:34.515Z"
      },
      {
        "duration": 7005,
        "start_time": "2022-12-29T20:36:46.369Z"
      },
      {
        "duration": 297,
        "start_time": "2022-12-29T20:37:10.165Z"
      },
      {
        "duration": 224,
        "start_time": "2022-12-29T20:37:14.264Z"
      },
      {
        "duration": 2005,
        "start_time": "2022-12-29T20:38:00.499Z"
      },
      {
        "duration": 7316,
        "start_time": "2022-12-29T20:38:07.691Z"
      },
      {
        "duration": 240,
        "start_time": "2022-12-29T20:38:29.513Z"
      },
      {
        "duration": 18,
        "start_time": "2022-12-29T20:48:07.247Z"
      },
      {
        "duration": 19,
        "start_time": "2022-12-29T20:48:43.942Z"
      },
      {
        "duration": 5,
        "start_time": "2022-12-29T20:48:55.011Z"
      },
      {
        "duration": 73,
        "start_time": "2022-12-29T20:48:55.019Z"
      },
      {
        "duration": 71,
        "start_time": "2022-12-29T20:48:55.093Z"
      },
      {
        "duration": 5,
        "start_time": "2022-12-29T20:48:55.166Z"
      },
      {
        "duration": 6,
        "start_time": "2022-12-29T20:48:55.173Z"
      },
      {
        "duration": 6,
        "start_time": "2022-12-29T20:48:55.181Z"
      },
      {
        "duration": 402,
        "start_time": "2022-12-29T20:48:55.189Z"
      },
      {
        "duration": 20,
        "start_time": "2022-12-29T20:48:55.593Z"
      },
      {
        "duration": 5,
        "start_time": "2022-12-29T20:48:55.614Z"
      },
      {
        "duration": 39,
        "start_time": "2022-12-29T20:48:55.621Z"
      },
      {
        "duration": 5,
        "start_time": "2022-12-29T20:48:55.664Z"
      },
      {
        "duration": 16,
        "start_time": "2022-12-29T20:48:55.671Z"
      },
      {
        "duration": 144,
        "start_time": "2022-12-29T20:48:55.689Z"
      },
      {
        "duration": 6,
        "start_time": "2022-12-29T20:48:55.835Z"
      },
      {
        "duration": 18,
        "start_time": "2022-12-29T20:48:55.851Z"
      },
      {
        "duration": 13,
        "start_time": "2022-12-29T20:48:55.871Z"
      },
      {
        "duration": 24,
        "start_time": "2022-12-29T20:48:55.886Z"
      },
      {
        "duration": 41,
        "start_time": "2022-12-29T20:48:55.912Z"
      },
      {
        "duration": 15,
        "start_time": "2022-12-29T20:48:55.955Z"
      },
      {
        "duration": 19,
        "start_time": "2022-12-29T20:48:55.971Z"
      },
      {
        "duration": 106,
        "start_time": "2022-12-29T20:48:55.992Z"
      },
      {
        "duration": 1783,
        "start_time": "2022-12-29T20:48:56.100Z"
      },
      {
        "duration": 6286,
        "start_time": "2022-12-29T20:48:57.885Z"
      },
      {
        "duration": 179,
        "start_time": "2022-12-29T20:49:04.173Z"
      },
      {
        "duration": 12,
        "start_time": "2022-12-29T20:49:07.399Z"
      },
      {
        "duration": 15,
        "start_time": "2022-12-29T20:51:20.728Z"
      },
      {
        "duration": 2252,
        "start_time": "2022-12-29T20:51:34.638Z"
      },
      {
        "duration": 6930,
        "start_time": "2022-12-29T20:52:56.247Z"
      },
      {
        "duration": 370,
        "start_time": "2022-12-29T20:55:21.171Z"
      },
      {
        "duration": 4,
        "start_time": "2022-12-29T20:56:50.499Z"
      },
      {
        "duration": 8,
        "start_time": "2022-12-29T20:57:26.146Z"
      },
      {
        "duration": 195,
        "start_time": "2022-12-29T20:57:38.716Z"
      },
      {
        "duration": 6,
        "start_time": "2022-12-29T20:57:41.661Z"
      },
      {
        "duration": 7,
        "start_time": "2022-12-29T21:02:39.895Z"
      },
      {
        "duration": 61801,
        "start_time": "2022-12-29T22:47:17.889Z"
      },
      {
        "duration": 2146,
        "start_time": "2022-12-29T22:48:47.343Z"
      },
      {
        "duration": 6914,
        "start_time": "2022-12-29T22:49:04.866Z"
      },
      {
        "duration": 2366,
        "start_time": "2022-12-29T22:52:05.269Z"
      },
      {
        "duration": 7733,
        "start_time": "2022-12-29T22:52:22.863Z"
      },
      {
        "duration": 7352,
        "start_time": "2022-12-29T22:52:53.495Z"
      },
      {
        "duration": 62591,
        "start_time": "2022-12-29T22:57:44.815Z"
      },
      {
        "duration": 2536,
        "start_time": "2022-12-29T22:59:27.972Z"
      },
      {
        "duration": 37281,
        "start_time": "2022-12-29T22:59:34.230Z"
      },
      {
        "duration": 9138,
        "start_time": "2022-12-29T23:01:47.625Z"
      },
      {
        "duration": 147,
        "start_time": "2022-12-29T23:31:25.850Z"
      },
      {
        "duration": 17,
        "start_time": "2022-12-29T23:33:53.030Z"
      },
      {
        "duration": 17,
        "start_time": "2022-12-29T23:46:10.472Z"
      },
      {
        "duration": 16,
        "start_time": "2022-12-29T23:47:33.207Z"
      },
      {
        "duration": 16,
        "start_time": "2022-12-30T00:37:37.492Z"
      },
      {
        "duration": 15,
        "start_time": "2022-12-30T00:54:24.969Z"
      },
      {
        "duration": 13,
        "start_time": "2022-12-30T00:54:57.653Z"
      },
      {
        "duration": 26,
        "start_time": "2022-12-30T00:55:13.587Z"
      },
      {
        "duration": 14,
        "start_time": "2022-12-30T00:55:23.036Z"
      },
      {
        "duration": 18,
        "start_time": "2022-12-30T00:55:36.378Z"
      },
      {
        "duration": 16,
        "start_time": "2022-12-30T00:55:40.239Z"
      },
      {
        "duration": 16,
        "start_time": "2022-12-30T00:55:45.714Z"
      },
      {
        "duration": 17,
        "start_time": "2022-12-30T00:55:51.440Z"
      },
      {
        "duration": 16,
        "start_time": "2022-12-30T00:55:56.233Z"
      },
      {
        "duration": 16,
        "start_time": "2022-12-30T00:56:01.489Z"
      },
      {
        "duration": 18,
        "start_time": "2022-12-30T00:56:05.687Z"
      },
      {
        "duration": 17,
        "start_time": "2022-12-30T00:56:10.855Z"
      },
      {
        "duration": 20,
        "start_time": "2022-12-30T00:56:17.195Z"
      },
      {
        "duration": 17,
        "start_time": "2022-12-30T01:01:14.995Z"
      },
      {
        "duration": 16,
        "start_time": "2022-12-30T01:04:24.575Z"
      },
      {
        "duration": 21,
        "start_time": "2022-12-30T01:06:38.657Z"
      },
      {
        "duration": 11,
        "start_time": "2022-12-30T01:06:49.841Z"
      },
      {
        "duration": 8,
        "start_time": "2022-12-30T01:07:09.821Z"
      },
      {
        "duration": 11,
        "start_time": "2022-12-30T01:07:34.414Z"
      },
      {
        "duration": 14,
        "start_time": "2022-12-30T01:07:55.645Z"
      },
      {
        "duration": 7,
        "start_time": "2022-12-30T01:09:31.120Z"
      },
      {
        "duration": 6,
        "start_time": "2022-12-30T01:09:33.515Z"
      },
      {
        "duration": 7,
        "start_time": "2022-12-30T01:09:34.462Z"
      },
      {
        "duration": 8,
        "start_time": "2022-12-30T01:09:46.135Z"
      },
      {
        "duration": 10,
        "start_time": "2022-12-30T01:09:53.683Z"
      },
      {
        "duration": 10,
        "start_time": "2022-12-30T01:10:23.733Z"
      },
      {
        "duration": 9,
        "start_time": "2022-12-30T01:11:41.763Z"
      },
      {
        "duration": 6,
        "start_time": "2022-12-30T01:12:05.916Z"
      },
      {
        "duration": 20,
        "start_time": "2022-12-30T01:12:39.801Z"
      },
      {
        "duration": 16,
        "start_time": "2022-12-30T01:13:28.376Z"
      },
      {
        "duration": 15,
        "start_time": "2022-12-30T01:14:34.610Z"
      },
      {
        "duration": 17,
        "start_time": "2022-12-30T01:15:58.349Z"
      },
      {
        "duration": 17,
        "start_time": "2022-12-30T01:16:10.789Z"
      },
      {
        "duration": 18,
        "start_time": "2022-12-30T01:17:14.352Z"
      },
      {
        "duration": 17,
        "start_time": "2022-12-30T01:17:53.995Z"
      },
      {
        "duration": 24,
        "start_time": "2022-12-30T01:18:21.895Z"
      },
      {
        "duration": 20,
        "start_time": "2022-12-30T01:21:34.685Z"
      },
      {
        "duration": 3432,
        "start_time": "2022-12-30T01:27:15.620Z"
      },
      {
        "duration": 8622,
        "start_time": "2022-12-30T01:28:09.051Z"
      },
      {
        "duration": 8399,
        "start_time": "2022-12-30T01:29:05.362Z"
      },
      {
        "duration": 3170,
        "start_time": "2022-12-30T01:29:22.491Z"
      },
      {
        "duration": 3316,
        "start_time": "2022-12-30T01:29:41.199Z"
      },
      {
        "duration": 4175,
        "start_time": "2022-12-30T01:30:28.880Z"
      },
      {
        "duration": 11124,
        "start_time": "2022-12-30T01:30:40.025Z"
      },
      {
        "duration": 1379,
        "start_time": "2022-12-30T01:32:14.484Z"
      },
      {
        "duration": 4395,
        "start_time": "2022-12-30T01:32:55.509Z"
      },
      {
        "duration": 30,
        "start_time": "2022-12-30T01:41:47.060Z"
      },
      {
        "duration": 4,
        "start_time": "2022-12-30T01:41:57.043Z"
      },
      {
        "duration": 72,
        "start_time": "2022-12-30T01:41:57.049Z"
      },
      {
        "duration": 40,
        "start_time": "2022-12-30T01:41:57.122Z"
      },
      {
        "duration": 4,
        "start_time": "2022-12-30T01:41:57.163Z"
      },
      {
        "duration": 10,
        "start_time": "2022-12-30T01:41:57.169Z"
      },
      {
        "duration": 6,
        "start_time": "2022-12-30T01:41:57.181Z"
      },
      {
        "duration": 250,
        "start_time": "2022-12-30T01:41:57.189Z"
      },
      {
        "duration": 22,
        "start_time": "2022-12-30T01:41:57.441Z"
      },
      {
        "duration": 5,
        "start_time": "2022-12-30T01:41:57.464Z"
      },
      {
        "duration": 19,
        "start_time": "2022-12-30T01:41:57.470Z"
      },
      {
        "duration": 4,
        "start_time": "2022-12-30T01:41:57.491Z"
      },
      {
        "duration": 17,
        "start_time": "2022-12-30T01:41:57.497Z"
      },
      {
        "duration": 142,
        "start_time": "2022-12-30T01:41:57.515Z"
      },
      {
        "duration": 6,
        "start_time": "2022-12-30T01:41:57.660Z"
      },
      {
        "duration": 20,
        "start_time": "2022-12-30T01:41:57.667Z"
      },
      {
        "duration": 11,
        "start_time": "2022-12-30T01:41:57.689Z"
      },
      {
        "duration": 28,
        "start_time": "2022-12-30T01:41:57.701Z"
      },
      {
        "duration": 23,
        "start_time": "2022-12-30T01:41:57.731Z"
      },
      {
        "duration": 12,
        "start_time": "2022-12-30T01:41:57.756Z"
      },
      {
        "duration": 15,
        "start_time": "2022-12-30T01:41:57.770Z"
      },
      {
        "duration": 90,
        "start_time": "2022-12-30T01:41:57.787Z"
      },
      {
        "duration": 2395,
        "start_time": "2022-12-30T01:41:57.879Z"
      },
      {
        "duration": 9056,
        "start_time": "2022-12-30T01:42:00.276Z"
      },
      {
        "duration": 18,
        "start_time": "2022-12-30T01:42:18.223Z"
      },
      {
        "duration": 273,
        "start_time": "2022-12-30T01:45:40.600Z"
      },
      {
        "duration": 260,
        "start_time": "2022-12-30T01:46:22.523Z"
      },
      {
        "duration": 215,
        "start_time": "2022-12-30T01:48:05.092Z"
      },
      {
        "duration": 241,
        "start_time": "2022-12-30T01:53:32.881Z"
      },
      {
        "duration": 236,
        "start_time": "2022-12-30T01:54:00.985Z"
      },
      {
        "duration": 226,
        "start_time": "2022-12-30T01:54:09.794Z"
      },
      {
        "duration": 227,
        "start_time": "2022-12-30T01:54:32.789Z"
      },
      {
        "duration": 227,
        "start_time": "2022-12-30T01:54:46.688Z"
      }
    ],
    "kernelspec": {
      "display_name": "Python 3 (ipykernel)",
      "language": "python",
      "name": "python3"
    },
    "language_info": {
      "codemirror_mode": {
        "name": "ipython",
        "version": 3
      },
      "file_extension": ".py",
      "mimetype": "text/x-python",
      "name": "python",
      "nbconvert_exporter": "python",
      "pygments_lexer": "ipython3",
      "version": "3.9.5"
    },
    "toc": {
      "base_numbering": 1,
      "nav_menu": {},
      "number_sections": true,
      "sideBar": true,
      "skip_h1_title": true,
      "title_cell": "Содержание",
      "title_sidebar": "Contents",
      "toc_cell": true,
      "toc_position": {},
      "toc_section_display": true,
      "toc_window_display": true
    },
    "colab": {
      "provenance": []
    }
  },
  "nbformat": 4,
  "nbformat_minor": 0
}